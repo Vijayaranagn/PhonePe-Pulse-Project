{
  "nbformat": 4,
  "nbformat_minor": 0,
  "metadata": {
    "colab": {
      "provenance": [],
      "authorship_tag": "ABX9TyPwn2zEzdi6QR9jvG/vTHoo",
      "include_colab_link": true
    },
    "kernelspec": {
      "name": "python3",
      "display_name": "Python 3"
    },
    "language_info": {
      "name": "python"
    }
  },
  "cells": [
    {
      "cell_type": "markdown",
      "metadata": {
        "id": "view-in-github",
        "colab_type": "text"
      },
      "source": [
        "<a href=\"https://colab.research.google.com/github/Vijayaranagn/PhonePe-Pulse-Project/blob/main/Phonepe.ipynb\" target=\"_parent\"><img src=\"https://colab.research.google.com/assets/colab-badge.svg\" alt=\"Open In Colab\"/></a>"
      ]
    },
    {
      "cell_type": "code",
      "execution_count": null,
      "metadata": {
        "id": "TvIQ_IGjnq4y",
        "colab": {
          "base_uri": "https://localhost:8080/"
        },
        "outputId": "0c00d346-eabd-4cc6-d386-830a67735a6d"
      },
      "outputs": [
        {
          "output_type": "stream",
          "name": "stdout",
          "text": [
            "Cloning into 'pulse'...\n",
            "remote: Enumerating objects: 7975, done.\u001b[K\n",
            "remote: Counting objects: 100% (7975/7975), done.\u001b[K\n",
            "remote: Compressing objects: 100% (6637/6637), done.\u001b[K\n",
            "remote: Total 7975 (delta 2465), reused 6527 (delta 1031), pack-reused 0\u001b[K\n",
            "Receiving objects: 100% (7975/7975), 2.11 MiB | 8.47 MiB/s, done.\n",
            "Resolving deltas: 100% (2465/2465), done.\n"
          ]
        }
      ],
      "source": [
        "!git clone https://github.com/PhonePe/pulse.git"
      ]
    },
    {
      "cell_type": "code",
      "source": [
        "!pip install streamlit"
      ],
      "metadata": {
        "id": "oeYlY41nq8FW"
      },
      "execution_count": null,
      "outputs": []
    },
    {
      "cell_type": "code",
      "source": [
        "import pandas as pd\n",
        "import numpy as np\n",
        "import matplotlib.pyplot as plt\n",
        "import requests\n",
        "import json\n",
        "import os\n",
        "import plotly.express as px\n",
        "import streamlit as st"
      ],
      "metadata": {
        "id": "k4Os4jHFnr6B"
      },
      "execution_count": null,
      "outputs": []
    },
    {
      "cell_type": "code",
      "source": [
        "#This is to direct the path to get the data as states\n",
        "\n",
        "path=\"/content/pulse/data/aggregated/transaction/country/india/state/\"\n",
        "Agg_state_list=os.listdir(path)\n",
        "Agg_state_list\n",
        "#Agg_state_list--> to get the list of states in India\n",
        "\n",
        "#<------------------------------------------------------------------------------------------------------------------------------------------------------------------------------------------------------------>#\n",
        "\n",
        "#This is to extract the data's to create a dataframe\n",
        "\n",
        "clm={'State':[], 'Year':[],'Quarter':[],'Transaction_type':[], 'Transaction_count':[], 'Transaction_amount':[]}\n",
        "for i in Agg_state_list:\n",
        "    p_i=path+i+\"/\"\n",
        "    Agg_yr=os.listdir(p_i)    \n",
        "    for j in Agg_yr:\n",
        "        p_j=p_i+j+\"/\"\n",
        "        Agg_yr_list=os.listdir(p_j)        \n",
        "        for k in Agg_yr_list:\n",
        "            p_k=p_j+k\n",
        "            Data=open(p_k,'r')\n",
        "            D=json.load(Data)\n",
        "            for z in D['data']['transactionData']:\n",
        "              Name=z['name']\n",
        "              count=z['paymentInstruments'][0]['count']\n",
        "              amount=z['paymentInstruments'][0]['amount']\n",
        "              clm['Transaction_type'].append(Name)\n",
        "              clm['Transaction_count'].append(count)\n",
        "              clm['Transaction_amount'].append(amount)\n",
        "              clm['State'].append(i)\n",
        "              clm['Year'].append(j)\n",
        "              clm['Quarter'].append(int(k.strip('.json')))\n",
        "#Succesfully created a dataframe\n",
        "df = pd.DataFrame(clm)\n",
        "\n"
      ],
      "metadata": {
        "id": "bJtrt_oJXVe8"
      },
      "execution_count": null,
      "outputs": []
    },
    {
      "cell_type": "code",
      "source": [
        "df.head()"
      ],
      "metadata": {
        "colab": {
          "base_uri": "https://localhost:8080/",
          "height": 206
        },
        "id": "jvQpFOZ1520_",
        "outputId": "4d8055fc-6638-4a65-de5f-aa8b3babfc1a"
      },
      "execution_count": null,
      "outputs": [
        {
          "output_type": "execute_result",
          "data": {
            "text/plain": [
              "     State  Year  Quarter          Transaction_type  Transaction_count  \\\n",
              "0  mizoram  2022        1     Peer-to-peer payments             302740   \n",
              "1  mizoram  2022        1  Recharge & bill payments             190137   \n",
              "2  mizoram  2022        1         Merchant payments             109669   \n",
              "3  mizoram  2022        1        Financial Services                731   \n",
              "4  mizoram  2022        1                    Others               1640   \n",
              "\n",
              "   Transaction_amount  \n",
              "0        1.691281e+09  \n",
              "1        7.654106e+07  \n",
              "2        1.741577e+08  \n",
              "3        1.657575e+06  \n",
              "4        1.521511e+06  "
            ],
            "text/html": [
              "\n",
              "  <div id=\"df-f80115c0-320b-40a1-9a60-91022a1f892d\">\n",
              "    <div class=\"colab-df-container\">\n",
              "      <div>\n",
              "<style scoped>\n",
              "    .dataframe tbody tr th:only-of-type {\n",
              "        vertical-align: middle;\n",
              "    }\n",
              "\n",
              "    .dataframe tbody tr th {\n",
              "        vertical-align: top;\n",
              "    }\n",
              "\n",
              "    .dataframe thead th {\n",
              "        text-align: right;\n",
              "    }\n",
              "</style>\n",
              "<table border=\"1\" class=\"dataframe\">\n",
              "  <thead>\n",
              "    <tr style=\"text-align: right;\">\n",
              "      <th></th>\n",
              "      <th>State</th>\n",
              "      <th>Year</th>\n",
              "      <th>Quarter</th>\n",
              "      <th>Transaction_type</th>\n",
              "      <th>Transaction_count</th>\n",
              "      <th>Transaction_amount</th>\n",
              "    </tr>\n",
              "  </thead>\n",
              "  <tbody>\n",
              "    <tr>\n",
              "      <th>0</th>\n",
              "      <td>mizoram</td>\n",
              "      <td>2022</td>\n",
              "      <td>1</td>\n",
              "      <td>Peer-to-peer payments</td>\n",
              "      <td>302740</td>\n",
              "      <td>1.691281e+09</td>\n",
              "    </tr>\n",
              "    <tr>\n",
              "      <th>1</th>\n",
              "      <td>mizoram</td>\n",
              "      <td>2022</td>\n",
              "      <td>1</td>\n",
              "      <td>Recharge &amp; bill payments</td>\n",
              "      <td>190137</td>\n",
              "      <td>7.654106e+07</td>\n",
              "    </tr>\n",
              "    <tr>\n",
              "      <th>2</th>\n",
              "      <td>mizoram</td>\n",
              "      <td>2022</td>\n",
              "      <td>1</td>\n",
              "      <td>Merchant payments</td>\n",
              "      <td>109669</td>\n",
              "      <td>1.741577e+08</td>\n",
              "    </tr>\n",
              "    <tr>\n",
              "      <th>3</th>\n",
              "      <td>mizoram</td>\n",
              "      <td>2022</td>\n",
              "      <td>1</td>\n",
              "      <td>Financial Services</td>\n",
              "      <td>731</td>\n",
              "      <td>1.657575e+06</td>\n",
              "    </tr>\n",
              "    <tr>\n",
              "      <th>4</th>\n",
              "      <td>mizoram</td>\n",
              "      <td>2022</td>\n",
              "      <td>1</td>\n",
              "      <td>Others</td>\n",
              "      <td>1640</td>\n",
              "      <td>1.521511e+06</td>\n",
              "    </tr>\n",
              "  </tbody>\n",
              "</table>\n",
              "</div>\n",
              "      <button class=\"colab-df-convert\" onclick=\"convertToInteractive('df-f80115c0-320b-40a1-9a60-91022a1f892d')\"\n",
              "              title=\"Convert this dataframe to an interactive table.\"\n",
              "              style=\"display:none;\">\n",
              "        \n",
              "  <svg xmlns=\"http://www.w3.org/2000/svg\" height=\"24px\"viewBox=\"0 0 24 24\"\n",
              "       width=\"24px\">\n",
              "    <path d=\"M0 0h24v24H0V0z\" fill=\"none\"/>\n",
              "    <path d=\"M18.56 5.44l.94 2.06.94-2.06 2.06-.94-2.06-.94-.94-2.06-.94 2.06-2.06.94zm-11 1L8.5 8.5l.94-2.06 2.06-.94-2.06-.94L8.5 2.5l-.94 2.06-2.06.94zm10 10l.94 2.06.94-2.06 2.06-.94-2.06-.94-.94-2.06-.94 2.06-2.06.94z\"/><path d=\"M17.41 7.96l-1.37-1.37c-.4-.4-.92-.59-1.43-.59-.52 0-1.04.2-1.43.59L10.3 9.45l-7.72 7.72c-.78.78-.78 2.05 0 2.83L4 21.41c.39.39.9.59 1.41.59.51 0 1.02-.2 1.41-.59l7.78-7.78 2.81-2.81c.8-.78.8-2.07 0-2.86zM5.41 20L4 18.59l7.72-7.72 1.47 1.35L5.41 20z\"/>\n",
              "  </svg>\n",
              "      </button>\n",
              "      \n",
              "  <style>\n",
              "    .colab-df-container {\n",
              "      display:flex;\n",
              "      flex-wrap:wrap;\n",
              "      gap: 12px;\n",
              "    }\n",
              "\n",
              "    .colab-df-convert {\n",
              "      background-color: #E8F0FE;\n",
              "      border: none;\n",
              "      border-radius: 50%;\n",
              "      cursor: pointer;\n",
              "      display: none;\n",
              "      fill: #1967D2;\n",
              "      height: 32px;\n",
              "      padding: 0 0 0 0;\n",
              "      width: 32px;\n",
              "    }\n",
              "\n",
              "    .colab-df-convert:hover {\n",
              "      background-color: #E2EBFA;\n",
              "      box-shadow: 0px 1px 2px rgba(60, 64, 67, 0.3), 0px 1px 3px 1px rgba(60, 64, 67, 0.15);\n",
              "      fill: #174EA6;\n",
              "    }\n",
              "\n",
              "    [theme=dark] .colab-df-convert {\n",
              "      background-color: #3B4455;\n",
              "      fill: #D2E3FC;\n",
              "    }\n",
              "\n",
              "    [theme=dark] .colab-df-convert:hover {\n",
              "      background-color: #434B5C;\n",
              "      box-shadow: 0px 1px 3px 1px rgba(0, 0, 0, 0.15);\n",
              "      filter: drop-shadow(0px 1px 2px rgba(0, 0, 0, 0.3));\n",
              "      fill: #FFFFFF;\n",
              "    }\n",
              "  </style>\n",
              "\n",
              "      <script>\n",
              "        const buttonEl =\n",
              "          document.querySelector('#df-f80115c0-320b-40a1-9a60-91022a1f892d button.colab-df-convert');\n",
              "        buttonEl.style.display =\n",
              "          google.colab.kernel.accessAllowed ? 'block' : 'none';\n",
              "\n",
              "        async function convertToInteractive(key) {\n",
              "          const element = document.querySelector('#df-f80115c0-320b-40a1-9a60-91022a1f892d');\n",
              "          const dataTable =\n",
              "            await google.colab.kernel.invokeFunction('convertToInteractive',\n",
              "                                                     [key], {});\n",
              "          if (!dataTable) return;\n",
              "\n",
              "          const docLinkHtml = 'Like what you see? Visit the ' +\n",
              "            '<a target=\"_blank\" href=https://colab.research.google.com/notebooks/data_table.ipynb>data table notebook</a>'\n",
              "            + ' to learn more about interactive tables.';\n",
              "          element.innerHTML = '';\n",
              "          dataTable['output_type'] = 'display_data';\n",
              "          await google.colab.output.renderOutput(dataTable, element);\n",
              "          const docLink = document.createElement('div');\n",
              "          docLink.innerHTML = docLinkHtml;\n",
              "          element.appendChild(docLink);\n",
              "        }\n",
              "      </script>\n",
              "    </div>\n",
              "  </div>\n",
              "  "
            ]
          },
          "metadata": {},
          "execution_count": 29
        }
      ]
    },
    {
      "cell_type": "code",
      "source": [
        "df.isnull().sum()"
      ],
      "metadata": {
        "colab": {
          "base_uri": "https://localhost:8080/"
        },
        "id": "BHeTyJj88mDO",
        "outputId": "50e4a15e-9dde-4e5d-d3f6-858524967b92"
      },
      "execution_count": null,
      "outputs": [
        {
          "output_type": "execute_result",
          "data": {
            "text/plain": [
              "State                 0\n",
              "Year                  0\n",
              "Quarter               0\n",
              "Transaction_type      0\n",
              "Transaction_count     0\n",
              "Transaction_amount    0\n",
              "dtype: int64"
            ]
          },
          "metadata": {},
          "execution_count": 31
        }
      ]
    },
    {
      "cell_type": "code",
      "source": [
        "path='/content/pulse/data/aggregated/user/country/india/state/'\n",
        "Agg_state_list=os.listdir(path)\n",
        "clm2={'State':[], 'Year':[],'Quarter':[],'Brand':[], 'Count':[], 'Percentage':[]}\n",
        "for i in Agg_state_list:\n",
        "    p_i=path+i+\"/\"    \n",
        "    Agg_yr=os.listdir(p_i) \n",
        "    for j in Agg_yr:\n",
        "        p_j=p_i+j+\"/\"\n",
        "        Agg_yr_list=os.listdir(p_j)        \n",
        "        for k in Agg_yr_list:\n",
        "            p_k=p_j+k\n",
        "            Data=open(p_k,'r')            \n",
        "            D=json.load(Data)\n",
        "            try:\n",
        "                for z in D['data']['usersByDevice']:\n",
        "                    clm2['Brand'].append(z['brand'])\n",
        "                    clm2['Count'].append(z['count'])\n",
        "                    clm2['Percentage']=(z['percentage'])\n",
        "                    clm2['State'].append(i)\n",
        "                    clm2['Year'].append(j)\n",
        "                    clm2['Quarter'].append(int(k.strip('.json')))\n",
        "            except:\n",
        "                pass\n",
        "\n",
        "df1=pd.DataFrame(clm2)\n",
        "df1.head()"
      ],
      "metadata": {
        "id": "3nsLfmwVn4Ai",
        "colab": {
          "base_uri": "https://localhost:8080/",
          "height": 206
        },
        "outputId": "b90cc04d-d837-4d6b-ccca-c045199f29bf"
      },
      "execution_count": null,
      "outputs": [
        {
          "output_type": "execute_result",
          "data": {
            "text/plain": [
              "     State  Year  Quarter    Brand  Count  Percentage\n",
              "0  mizoram  2022        1   Xiaomi  35679    0.079656\n",
              "1  mizoram  2022        1     Vivo  23611    0.079656\n",
              "2  mizoram  2022        1     Oppo  14866    0.079656\n",
              "3  mizoram  2022        1  Samsung  14652    0.079656\n",
              "4  mizoram  2022        1   Realme   8423    0.079656"
            ],
            "text/html": [
              "\n",
              "  <div id=\"df-f8496ca0-4b6a-4aeb-9122-1be6393cc8eb\">\n",
              "    <div class=\"colab-df-container\">\n",
              "      <div>\n",
              "<style scoped>\n",
              "    .dataframe tbody tr th:only-of-type {\n",
              "        vertical-align: middle;\n",
              "    }\n",
              "\n",
              "    .dataframe tbody tr th {\n",
              "        vertical-align: top;\n",
              "    }\n",
              "\n",
              "    .dataframe thead th {\n",
              "        text-align: right;\n",
              "    }\n",
              "</style>\n",
              "<table border=\"1\" class=\"dataframe\">\n",
              "  <thead>\n",
              "    <tr style=\"text-align: right;\">\n",
              "      <th></th>\n",
              "      <th>State</th>\n",
              "      <th>Year</th>\n",
              "      <th>Quarter</th>\n",
              "      <th>Brand</th>\n",
              "      <th>Count</th>\n",
              "      <th>Percentage</th>\n",
              "    </tr>\n",
              "  </thead>\n",
              "  <tbody>\n",
              "    <tr>\n",
              "      <th>0</th>\n",
              "      <td>mizoram</td>\n",
              "      <td>2022</td>\n",
              "      <td>1</td>\n",
              "      <td>Xiaomi</td>\n",
              "      <td>35679</td>\n",
              "      <td>0.079656</td>\n",
              "    </tr>\n",
              "    <tr>\n",
              "      <th>1</th>\n",
              "      <td>mizoram</td>\n",
              "      <td>2022</td>\n",
              "      <td>1</td>\n",
              "      <td>Vivo</td>\n",
              "      <td>23611</td>\n",
              "      <td>0.079656</td>\n",
              "    </tr>\n",
              "    <tr>\n",
              "      <th>2</th>\n",
              "      <td>mizoram</td>\n",
              "      <td>2022</td>\n",
              "      <td>1</td>\n",
              "      <td>Oppo</td>\n",
              "      <td>14866</td>\n",
              "      <td>0.079656</td>\n",
              "    </tr>\n",
              "    <tr>\n",
              "      <th>3</th>\n",
              "      <td>mizoram</td>\n",
              "      <td>2022</td>\n",
              "      <td>1</td>\n",
              "      <td>Samsung</td>\n",
              "      <td>14652</td>\n",
              "      <td>0.079656</td>\n",
              "    </tr>\n",
              "    <tr>\n",
              "      <th>4</th>\n",
              "      <td>mizoram</td>\n",
              "      <td>2022</td>\n",
              "      <td>1</td>\n",
              "      <td>Realme</td>\n",
              "      <td>8423</td>\n",
              "      <td>0.079656</td>\n",
              "    </tr>\n",
              "  </tbody>\n",
              "</table>\n",
              "</div>\n",
              "      <button class=\"colab-df-convert\" onclick=\"convertToInteractive('df-f8496ca0-4b6a-4aeb-9122-1be6393cc8eb')\"\n",
              "              title=\"Convert this dataframe to an interactive table.\"\n",
              "              style=\"display:none;\">\n",
              "        \n",
              "  <svg xmlns=\"http://www.w3.org/2000/svg\" height=\"24px\"viewBox=\"0 0 24 24\"\n",
              "       width=\"24px\">\n",
              "    <path d=\"M0 0h24v24H0V0z\" fill=\"none\"/>\n",
              "    <path d=\"M18.56 5.44l.94 2.06.94-2.06 2.06-.94-2.06-.94-.94-2.06-.94 2.06-2.06.94zm-11 1L8.5 8.5l.94-2.06 2.06-.94-2.06-.94L8.5 2.5l-.94 2.06-2.06.94zm10 10l.94 2.06.94-2.06 2.06-.94-2.06-.94-.94-2.06-.94 2.06-2.06.94z\"/><path d=\"M17.41 7.96l-1.37-1.37c-.4-.4-.92-.59-1.43-.59-.52 0-1.04.2-1.43.59L10.3 9.45l-7.72 7.72c-.78.78-.78 2.05 0 2.83L4 21.41c.39.39.9.59 1.41.59.51 0 1.02-.2 1.41-.59l7.78-7.78 2.81-2.81c.8-.78.8-2.07 0-2.86zM5.41 20L4 18.59l7.72-7.72 1.47 1.35L5.41 20z\"/>\n",
              "  </svg>\n",
              "      </button>\n",
              "      \n",
              "  <style>\n",
              "    .colab-df-container {\n",
              "      display:flex;\n",
              "      flex-wrap:wrap;\n",
              "      gap: 12px;\n",
              "    }\n",
              "\n",
              "    .colab-df-convert {\n",
              "      background-color: #E8F0FE;\n",
              "      border: none;\n",
              "      border-radius: 50%;\n",
              "      cursor: pointer;\n",
              "      display: none;\n",
              "      fill: #1967D2;\n",
              "      height: 32px;\n",
              "      padding: 0 0 0 0;\n",
              "      width: 32px;\n",
              "    }\n",
              "\n",
              "    .colab-df-convert:hover {\n",
              "      background-color: #E2EBFA;\n",
              "      box-shadow: 0px 1px 2px rgba(60, 64, 67, 0.3), 0px 1px 3px 1px rgba(60, 64, 67, 0.15);\n",
              "      fill: #174EA6;\n",
              "    }\n",
              "\n",
              "    [theme=dark] .colab-df-convert {\n",
              "      background-color: #3B4455;\n",
              "      fill: #D2E3FC;\n",
              "    }\n",
              "\n",
              "    [theme=dark] .colab-df-convert:hover {\n",
              "      background-color: #434B5C;\n",
              "      box-shadow: 0px 1px 3px 1px rgba(0, 0, 0, 0.15);\n",
              "      filter: drop-shadow(0px 1px 2px rgba(0, 0, 0, 0.3));\n",
              "      fill: #FFFFFF;\n",
              "    }\n",
              "  </style>\n",
              "\n",
              "      <script>\n",
              "        const buttonEl =\n",
              "          document.querySelector('#df-f8496ca0-4b6a-4aeb-9122-1be6393cc8eb button.colab-df-convert');\n",
              "        buttonEl.style.display =\n",
              "          google.colab.kernel.accessAllowed ? 'block' : 'none';\n",
              "\n",
              "        async function convertToInteractive(key) {\n",
              "          const element = document.querySelector('#df-f8496ca0-4b6a-4aeb-9122-1be6393cc8eb');\n",
              "          const dataTable =\n",
              "            await google.colab.kernel.invokeFunction('convertToInteractive',\n",
              "                                                     [key], {});\n",
              "          if (!dataTable) return;\n",
              "\n",
              "          const docLinkHtml = 'Like what you see? Visit the ' +\n",
              "            '<a target=\"_blank\" href=https://colab.research.google.com/notebooks/data_table.ipynb>data table notebook</a>'\n",
              "            + ' to learn more about interactive tables.';\n",
              "          element.innerHTML = '';\n",
              "          dataTable['output_type'] = 'display_data';\n",
              "          await google.colab.output.renderOutput(dataTable, element);\n",
              "          const docLink = document.createElement('div');\n",
              "          docLink.innerHTML = docLinkHtml;\n",
              "          element.appendChild(docLink);\n",
              "        }\n",
              "      </script>\n",
              "    </div>\n",
              "  </div>\n",
              "  "
            ]
          },
          "metadata": {},
          "execution_count": 43
        }
      ]
    },
    {
      "cell_type": "code",
      "source": [
        "df1.isnull().sum()"
      ],
      "metadata": {
        "colab": {
          "base_uri": "https://localhost:8080/"
        },
        "id": "9jmVen196Kre",
        "outputId": "138fbfd8-fac9-4c79-8cbd-e3d9136a1d55"
      },
      "execution_count": null,
      "outputs": [
        {
          "output_type": "execute_result",
          "data": {
            "text/plain": [
              "State         0\n",
              "Year          0\n",
              "Quarter       0\n",
              "Brand         0\n",
              "count         0\n",
              "percentage    0\n",
              "dtype: int64"
            ]
          },
          "metadata": {},
          "execution_count": 32
        }
      ]
    },
    {
      "cell_type": "code",
      "source": [
        "path=\"/content/pulse/data/map/transaction/hover/country/india/state/\"\n",
        "hover_state_list=os.listdir(path)\n",
        "hover_state_list\n",
        "\n",
        "clm3={'State':[], 'Year':[],'Quarter':[],'District':[], 'Count':[], 'Amount':[]}\n",
        "for i in hover_state_list:\n",
        "    p_i=path+i+\"/\"\n",
        "    hover_yr=os.listdir(p_i)    \n",
        "    for j in hover_yr:\n",
        "        p_j=p_i+j+\"/\"\n",
        "        hover_yr_list=os.listdir(p_j)        \n",
        "        for k in hover_yr_list:\n",
        "            p_k=p_j+k\n",
        "            Data=open(p_k,'r')\n",
        "            D=json.load(Data)\n",
        "            for z in D['data']['hoverDataList']:\n",
        "              Name=z['name']\n",
        "              count=z['metric'][0]['count']\n",
        "              amount=z['metric'][0]['amount']\n",
        "              clm3['District'].append(Name)\n",
        "              clm3['Count'].append(count)\n",
        "              clm3['Amount'].append(amount)\n",
        "              clm3['State'].append(i)\n",
        "              clm3['Year'].append(j)\n",
        "              clm3['Quarter'].append(int(k.strip('.json')))\n",
        "#Succesfully created a dataframe\n",
        "df2 = pd.DataFrame(clm3)\n",
        "\n",
        "df2.head()"
      ],
      "metadata": {
        "id": "SZ0AEras6y3G",
        "colab": {
          "base_uri": "https://localhost:8080/",
          "height": 206
        },
        "outputId": "5703802e-3211-4037-8592-f8a4a9b7f8c4"
      },
      "execution_count": null,
      "outputs": [
        {
          "output_type": "execute_result",
          "data": {
            "text/plain": [
              "     State  Year  Quarter            District   Count        Amount\n",
              "0  mizoram  2022        1   serchhip district   25542  7.357750e+07\n",
              "1  mizoram  2022        1     aizawl district  341192  1.081700e+09\n",
              "2  mizoram  2022        1    lunglei district   70118  2.257623e+08\n",
              "3  mizoram  2022        1      mamit district   31141  8.561581e+07\n",
              "4  mizoram  2022        1  lawngtlai district   52546  1.777109e+08"
            ],
            "text/html": [
              "\n",
              "  <div id=\"df-32509903-4ea3-47a1-afdd-2b059c63ba8e\">\n",
              "    <div class=\"colab-df-container\">\n",
              "      <div>\n",
              "<style scoped>\n",
              "    .dataframe tbody tr th:only-of-type {\n",
              "        vertical-align: middle;\n",
              "    }\n",
              "\n",
              "    .dataframe tbody tr th {\n",
              "        vertical-align: top;\n",
              "    }\n",
              "\n",
              "    .dataframe thead th {\n",
              "        text-align: right;\n",
              "    }\n",
              "</style>\n",
              "<table border=\"1\" class=\"dataframe\">\n",
              "  <thead>\n",
              "    <tr style=\"text-align: right;\">\n",
              "      <th></th>\n",
              "      <th>State</th>\n",
              "      <th>Year</th>\n",
              "      <th>Quarter</th>\n",
              "      <th>District</th>\n",
              "      <th>Count</th>\n",
              "      <th>Amount</th>\n",
              "    </tr>\n",
              "  </thead>\n",
              "  <tbody>\n",
              "    <tr>\n",
              "      <th>0</th>\n",
              "      <td>mizoram</td>\n",
              "      <td>2022</td>\n",
              "      <td>1</td>\n",
              "      <td>serchhip district</td>\n",
              "      <td>25542</td>\n",
              "      <td>7.357750e+07</td>\n",
              "    </tr>\n",
              "    <tr>\n",
              "      <th>1</th>\n",
              "      <td>mizoram</td>\n",
              "      <td>2022</td>\n",
              "      <td>1</td>\n",
              "      <td>aizawl district</td>\n",
              "      <td>341192</td>\n",
              "      <td>1.081700e+09</td>\n",
              "    </tr>\n",
              "    <tr>\n",
              "      <th>2</th>\n",
              "      <td>mizoram</td>\n",
              "      <td>2022</td>\n",
              "      <td>1</td>\n",
              "      <td>lunglei district</td>\n",
              "      <td>70118</td>\n",
              "      <td>2.257623e+08</td>\n",
              "    </tr>\n",
              "    <tr>\n",
              "      <th>3</th>\n",
              "      <td>mizoram</td>\n",
              "      <td>2022</td>\n",
              "      <td>1</td>\n",
              "      <td>mamit district</td>\n",
              "      <td>31141</td>\n",
              "      <td>8.561581e+07</td>\n",
              "    </tr>\n",
              "    <tr>\n",
              "      <th>4</th>\n",
              "      <td>mizoram</td>\n",
              "      <td>2022</td>\n",
              "      <td>1</td>\n",
              "      <td>lawngtlai district</td>\n",
              "      <td>52546</td>\n",
              "      <td>1.777109e+08</td>\n",
              "    </tr>\n",
              "  </tbody>\n",
              "</table>\n",
              "</div>\n",
              "      <button class=\"colab-df-convert\" onclick=\"convertToInteractive('df-32509903-4ea3-47a1-afdd-2b059c63ba8e')\"\n",
              "              title=\"Convert this dataframe to an interactive table.\"\n",
              "              style=\"display:none;\">\n",
              "        \n",
              "  <svg xmlns=\"http://www.w3.org/2000/svg\" height=\"24px\"viewBox=\"0 0 24 24\"\n",
              "       width=\"24px\">\n",
              "    <path d=\"M0 0h24v24H0V0z\" fill=\"none\"/>\n",
              "    <path d=\"M18.56 5.44l.94 2.06.94-2.06 2.06-.94-2.06-.94-.94-2.06-.94 2.06-2.06.94zm-11 1L8.5 8.5l.94-2.06 2.06-.94-2.06-.94L8.5 2.5l-.94 2.06-2.06.94zm10 10l.94 2.06.94-2.06 2.06-.94-2.06-.94-.94-2.06-.94 2.06-2.06.94z\"/><path d=\"M17.41 7.96l-1.37-1.37c-.4-.4-.92-.59-1.43-.59-.52 0-1.04.2-1.43.59L10.3 9.45l-7.72 7.72c-.78.78-.78 2.05 0 2.83L4 21.41c.39.39.9.59 1.41.59.51 0 1.02-.2 1.41-.59l7.78-7.78 2.81-2.81c.8-.78.8-2.07 0-2.86zM5.41 20L4 18.59l7.72-7.72 1.47 1.35L5.41 20z\"/>\n",
              "  </svg>\n",
              "      </button>\n",
              "      \n",
              "  <style>\n",
              "    .colab-df-container {\n",
              "      display:flex;\n",
              "      flex-wrap:wrap;\n",
              "      gap: 12px;\n",
              "    }\n",
              "\n",
              "    .colab-df-convert {\n",
              "      background-color: #E8F0FE;\n",
              "      border: none;\n",
              "      border-radius: 50%;\n",
              "      cursor: pointer;\n",
              "      display: none;\n",
              "      fill: #1967D2;\n",
              "      height: 32px;\n",
              "      padding: 0 0 0 0;\n",
              "      width: 32px;\n",
              "    }\n",
              "\n",
              "    .colab-df-convert:hover {\n",
              "      background-color: #E2EBFA;\n",
              "      box-shadow: 0px 1px 2px rgba(60, 64, 67, 0.3), 0px 1px 3px 1px rgba(60, 64, 67, 0.15);\n",
              "      fill: #174EA6;\n",
              "    }\n",
              "\n",
              "    [theme=dark] .colab-df-convert {\n",
              "      background-color: #3B4455;\n",
              "      fill: #D2E3FC;\n",
              "    }\n",
              "\n",
              "    [theme=dark] .colab-df-convert:hover {\n",
              "      background-color: #434B5C;\n",
              "      box-shadow: 0px 1px 3px 1px rgba(0, 0, 0, 0.15);\n",
              "      filter: drop-shadow(0px 1px 2px rgba(0, 0, 0, 0.3));\n",
              "      fill: #FFFFFF;\n",
              "    }\n",
              "  </style>\n",
              "\n",
              "      <script>\n",
              "        const buttonEl =\n",
              "          document.querySelector('#df-32509903-4ea3-47a1-afdd-2b059c63ba8e button.colab-df-convert');\n",
              "        buttonEl.style.display =\n",
              "          google.colab.kernel.accessAllowed ? 'block' : 'none';\n",
              "\n",
              "        async function convertToInteractive(key) {\n",
              "          const element = document.querySelector('#df-32509903-4ea3-47a1-afdd-2b059c63ba8e');\n",
              "          const dataTable =\n",
              "            await google.colab.kernel.invokeFunction('convertToInteractive',\n",
              "                                                     [key], {});\n",
              "          if (!dataTable) return;\n",
              "\n",
              "          const docLinkHtml = 'Like what you see? Visit the ' +\n",
              "            '<a target=\"_blank\" href=https://colab.research.google.com/notebooks/data_table.ipynb>data table notebook</a>'\n",
              "            + ' to learn more about interactive tables.';\n",
              "          element.innerHTML = '';\n",
              "          dataTable['output_type'] = 'display_data';\n",
              "          await google.colab.output.renderOutput(dataTable, element);\n",
              "          const docLink = document.createElement('div');\n",
              "          docLink.innerHTML = docLinkHtml;\n",
              "          element.appendChild(docLink);\n",
              "        }\n",
              "      </script>\n",
              "    </div>\n",
              "  </div>\n",
              "  "
            ]
          },
          "metadata": {},
          "execution_count": 42
        }
      ]
    },
    {
      "cell_type": "code",
      "source": [
        "df2.isnull().sum()"
      ],
      "metadata": {
        "colab": {
          "base_uri": "https://localhost:8080/"
        },
        "id": "8x-RJHPH8w8d",
        "outputId": "61b34df5-a205-4d27-9828-da101d65e444"
      },
      "execution_count": null,
      "outputs": [
        {
          "output_type": "execute_result",
          "data": {
            "text/plain": [
              "State            0\n",
              "Year             0\n",
              "Quarter          0\n",
              "District         0\n",
              "Metric_count     0\n",
              "Metric_amount    0\n",
              "dtype: int64"
            ]
          },
          "metadata": {},
          "execution_count": 34
        }
      ]
    },
    {
      "cell_type": "code",
      "source": [
        "path='/content/pulse/data/map/user/hover/country/india/state/'\n",
        "\n",
        "hover_state_list=os.listdir(path)\n",
        "hover_state_list\n",
        "\n",
        "clm4={'State':[], 'Year':[],'Quarter':[],'Users':[], 'Districts':[]}\n",
        "for i in hover_state_list:\n",
        "    p_i=path+i+\"/\"\n",
        "    hover_yr=os.listdir(p_i)    \n",
        "    for j in hover_yr:\n",
        "        p_j=p_i+j+\"/\"\n",
        "        hover_yr_list=os.listdir(p_j)        \n",
        "        for k in hover_yr_list:\n",
        "            p_k=p_j+k\n",
        "            Data=open(p_k,'r')\n",
        "            D=json.load(Data)\n",
        "            for district, values in D['data']['hoverData'].items():\n",
        "              users=values['registeredUsers']\n",
        "              dist=district\n",
        "              clm4['Users'].append(users)\n",
        "              clm4['Districts'].append(dist)\n",
        "              clm4['State'].append(i)\n",
        "              clm4['Year'].append(j)\n",
        "              clm4['Quarter'].append(int(k.strip('.json')))\n",
        "\n",
        "#Succesfully created a dataframe\n",
        "df3 = pd.DataFrame(clm4)\n",
        "df3.head()"
      ],
      "metadata": {
        "id": "B6YGDDAwmrsd",
        "colab": {
          "base_uri": "https://localhost:8080/",
          "height": 206
        },
        "outputId": "29fa4139-3742-4923-d85d-78f82a217435"
      },
      "execution_count": null,
      "outputs": [
        {
          "output_type": "execute_result",
          "data": {
            "text/plain": [
              "     State  Year  Quarter  Users           Districts\n",
              "0  mizoram  2022        1   4906   serchhip district\n",
              "1  mizoram  2022        1  59433     aizawl district\n",
              "2  mizoram  2022        1  14538    lunglei district\n",
              "3  mizoram  2022        1   6299      mamit district\n",
              "4  mizoram  2022        1  11459  lawngtlai district"
            ],
            "text/html": [
              "\n",
              "  <div id=\"df-33c08c8b-9090-4546-9d62-2d6bb2dd5c10\">\n",
              "    <div class=\"colab-df-container\">\n",
              "      <div>\n",
              "<style scoped>\n",
              "    .dataframe tbody tr th:only-of-type {\n",
              "        vertical-align: middle;\n",
              "    }\n",
              "\n",
              "    .dataframe tbody tr th {\n",
              "        vertical-align: top;\n",
              "    }\n",
              "\n",
              "    .dataframe thead th {\n",
              "        text-align: right;\n",
              "    }\n",
              "</style>\n",
              "<table border=\"1\" class=\"dataframe\">\n",
              "  <thead>\n",
              "    <tr style=\"text-align: right;\">\n",
              "      <th></th>\n",
              "      <th>State</th>\n",
              "      <th>Year</th>\n",
              "      <th>Quarter</th>\n",
              "      <th>Users</th>\n",
              "      <th>Districts</th>\n",
              "    </tr>\n",
              "  </thead>\n",
              "  <tbody>\n",
              "    <tr>\n",
              "      <th>0</th>\n",
              "      <td>mizoram</td>\n",
              "      <td>2022</td>\n",
              "      <td>1</td>\n",
              "      <td>4906</td>\n",
              "      <td>serchhip district</td>\n",
              "    </tr>\n",
              "    <tr>\n",
              "      <th>1</th>\n",
              "      <td>mizoram</td>\n",
              "      <td>2022</td>\n",
              "      <td>1</td>\n",
              "      <td>59433</td>\n",
              "      <td>aizawl district</td>\n",
              "    </tr>\n",
              "    <tr>\n",
              "      <th>2</th>\n",
              "      <td>mizoram</td>\n",
              "      <td>2022</td>\n",
              "      <td>1</td>\n",
              "      <td>14538</td>\n",
              "      <td>lunglei district</td>\n",
              "    </tr>\n",
              "    <tr>\n",
              "      <th>3</th>\n",
              "      <td>mizoram</td>\n",
              "      <td>2022</td>\n",
              "      <td>1</td>\n",
              "      <td>6299</td>\n",
              "      <td>mamit district</td>\n",
              "    </tr>\n",
              "    <tr>\n",
              "      <th>4</th>\n",
              "      <td>mizoram</td>\n",
              "      <td>2022</td>\n",
              "      <td>1</td>\n",
              "      <td>11459</td>\n",
              "      <td>lawngtlai district</td>\n",
              "    </tr>\n",
              "  </tbody>\n",
              "</table>\n",
              "</div>\n",
              "      <button class=\"colab-df-convert\" onclick=\"convertToInteractive('df-33c08c8b-9090-4546-9d62-2d6bb2dd5c10')\"\n",
              "              title=\"Convert this dataframe to an interactive table.\"\n",
              "              style=\"display:none;\">\n",
              "        \n",
              "  <svg xmlns=\"http://www.w3.org/2000/svg\" height=\"24px\"viewBox=\"0 0 24 24\"\n",
              "       width=\"24px\">\n",
              "    <path d=\"M0 0h24v24H0V0z\" fill=\"none\"/>\n",
              "    <path d=\"M18.56 5.44l.94 2.06.94-2.06 2.06-.94-2.06-.94-.94-2.06-.94 2.06-2.06.94zm-11 1L8.5 8.5l.94-2.06 2.06-.94-2.06-.94L8.5 2.5l-.94 2.06-2.06.94zm10 10l.94 2.06.94-2.06 2.06-.94-2.06-.94-.94-2.06-.94 2.06-2.06.94z\"/><path d=\"M17.41 7.96l-1.37-1.37c-.4-.4-.92-.59-1.43-.59-.52 0-1.04.2-1.43.59L10.3 9.45l-7.72 7.72c-.78.78-.78 2.05 0 2.83L4 21.41c.39.39.9.59 1.41.59.51 0 1.02-.2 1.41-.59l7.78-7.78 2.81-2.81c.8-.78.8-2.07 0-2.86zM5.41 20L4 18.59l7.72-7.72 1.47 1.35L5.41 20z\"/>\n",
              "  </svg>\n",
              "      </button>\n",
              "      \n",
              "  <style>\n",
              "    .colab-df-container {\n",
              "      display:flex;\n",
              "      flex-wrap:wrap;\n",
              "      gap: 12px;\n",
              "    }\n",
              "\n",
              "    .colab-df-convert {\n",
              "      background-color: #E8F0FE;\n",
              "      border: none;\n",
              "      border-radius: 50%;\n",
              "      cursor: pointer;\n",
              "      display: none;\n",
              "      fill: #1967D2;\n",
              "      height: 32px;\n",
              "      padding: 0 0 0 0;\n",
              "      width: 32px;\n",
              "    }\n",
              "\n",
              "    .colab-df-convert:hover {\n",
              "      background-color: #E2EBFA;\n",
              "      box-shadow: 0px 1px 2px rgba(60, 64, 67, 0.3), 0px 1px 3px 1px rgba(60, 64, 67, 0.15);\n",
              "      fill: #174EA6;\n",
              "    }\n",
              "\n",
              "    [theme=dark] .colab-df-convert {\n",
              "      background-color: #3B4455;\n",
              "      fill: #D2E3FC;\n",
              "    }\n",
              "\n",
              "    [theme=dark] .colab-df-convert:hover {\n",
              "      background-color: #434B5C;\n",
              "      box-shadow: 0px 1px 3px 1px rgba(0, 0, 0, 0.15);\n",
              "      filter: drop-shadow(0px 1px 2px rgba(0, 0, 0, 0.3));\n",
              "      fill: #FFFFFF;\n",
              "    }\n",
              "  </style>\n",
              "\n",
              "      <script>\n",
              "        const buttonEl =\n",
              "          document.querySelector('#df-33c08c8b-9090-4546-9d62-2d6bb2dd5c10 button.colab-df-convert');\n",
              "        buttonEl.style.display =\n",
              "          google.colab.kernel.accessAllowed ? 'block' : 'none';\n",
              "\n",
              "        async function convertToInteractive(key) {\n",
              "          const element = document.querySelector('#df-33c08c8b-9090-4546-9d62-2d6bb2dd5c10');\n",
              "          const dataTable =\n",
              "            await google.colab.kernel.invokeFunction('convertToInteractive',\n",
              "                                                     [key], {});\n",
              "          if (!dataTable) return;\n",
              "\n",
              "          const docLinkHtml = 'Like what you see? Visit the ' +\n",
              "            '<a target=\"_blank\" href=https://colab.research.google.com/notebooks/data_table.ipynb>data table notebook</a>'\n",
              "            + ' to learn more about interactive tables.';\n",
              "          element.innerHTML = '';\n",
              "          dataTable['output_type'] = 'display_data';\n",
              "          await google.colab.output.renderOutput(dataTable, element);\n",
              "          const docLink = document.createElement('div');\n",
              "          docLink.innerHTML = docLinkHtml;\n",
              "          element.appendChild(docLink);\n",
              "        }\n",
              "      </script>\n",
              "    </div>\n",
              "  </div>\n",
              "  "
            ]
          },
          "metadata": {},
          "execution_count": 35
        }
      ]
    },
    {
      "cell_type": "code",
      "source": [
        "df3.isnull().sum()"
      ],
      "metadata": {
        "colab": {
          "base_uri": "https://localhost:8080/"
        },
        "id": "xf-C35iN9Jj2",
        "outputId": "f51cbf94-c63a-4e23-893f-37a469886010"
      },
      "execution_count": null,
      "outputs": [
        {
          "output_type": "execute_result",
          "data": {
            "text/plain": [
              "State        0\n",
              "Year         0\n",
              "Quarter      0\n",
              "Users        0\n",
              "Districts    0\n",
              "dtype: int64"
            ]
          },
          "metadata": {},
          "execution_count": 38
        }
      ]
    },
    {
      "cell_type": "code",
      "source": [
        "path=\"/content/pulse/data/top/transaction/country/india/state/\"\n",
        "top_state_list=os.listdir(path)\n",
        "top_state_list\n",
        "\n",
        "clm5={'State':[], 'Year':[],'Quarter':[],'Districts':[], 'Count':[], 'Amount':[]}\n",
        "for i in top_state_list:\n",
        "    p_i=path+i+\"/\"\n",
        "    top_yr=os.listdir(p_i)    \n",
        "    for j in top_yr:\n",
        "        p_j=p_i+j+\"/\"\n",
        "        top_yr_list=os.listdir(p_j)        \n",
        "        for k in top_yr_list:\n",
        "            p_k=p_j+k\n",
        "            with open(p_k, 'r') as file:\n",
        "                D=json.load(file)\n",
        "            for z in D['data']['districts']:\n",
        "              Name=z['entityName']\n",
        "              count=z['metric']['count']\n",
        "              amount=z['metric']['amount']\n",
        "              clm5['Districts'].append(Name)\n",
        "              clm5['Count'].append(count)\n",
        "              clm5['Amount'].append(amount)\n",
        "              clm5['State'].append(i)\n",
        "              clm5['Year'].append(j)\n",
        "              clm5['Quarter'].append(int(k.strip('.json')))\n",
        "\n",
        "df4 = pd.DataFrame(clm5)\n",
        "df4.head()"
      ],
      "metadata": {
        "id": "cxHlXzAglcTQ",
        "colab": {
          "base_uri": "https://localhost:8080/",
          "height": 206
        },
        "outputId": "3c460324-ed0f-49e7-d31c-56febb982205"
      },
      "execution_count": null,
      "outputs": [
        {
          "output_type": "execute_result",
          "data": {
            "text/plain": [
              "     State  Year  Quarter  Districts   Count        Amount\n",
              "0  mizoram  2022        1     aizawl  341192  1.081700e+09\n",
              "1  mizoram  2022        1    lunglei   70118  2.257623e+08\n",
              "2  mizoram  2022        1  lawngtlai   52546  1.777109e+08\n",
              "3  mizoram  2022        1    kolasib   41730  1.315654e+08\n",
              "4  mizoram  2022        1      mamit   31141  8.561581e+07"
            ],
            "text/html": [
              "\n",
              "  <div id=\"df-c1660f04-e862-44a6-b407-b9a452de291c\">\n",
              "    <div class=\"colab-df-container\">\n",
              "      <div>\n",
              "<style scoped>\n",
              "    .dataframe tbody tr th:only-of-type {\n",
              "        vertical-align: middle;\n",
              "    }\n",
              "\n",
              "    .dataframe tbody tr th {\n",
              "        vertical-align: top;\n",
              "    }\n",
              "\n",
              "    .dataframe thead th {\n",
              "        text-align: right;\n",
              "    }\n",
              "</style>\n",
              "<table border=\"1\" class=\"dataframe\">\n",
              "  <thead>\n",
              "    <tr style=\"text-align: right;\">\n",
              "      <th></th>\n",
              "      <th>State</th>\n",
              "      <th>Year</th>\n",
              "      <th>Quarter</th>\n",
              "      <th>Districts</th>\n",
              "      <th>Count</th>\n",
              "      <th>Amount</th>\n",
              "    </tr>\n",
              "  </thead>\n",
              "  <tbody>\n",
              "    <tr>\n",
              "      <th>0</th>\n",
              "      <td>mizoram</td>\n",
              "      <td>2022</td>\n",
              "      <td>1</td>\n",
              "      <td>aizawl</td>\n",
              "      <td>341192</td>\n",
              "      <td>1.081700e+09</td>\n",
              "    </tr>\n",
              "    <tr>\n",
              "      <th>1</th>\n",
              "      <td>mizoram</td>\n",
              "      <td>2022</td>\n",
              "      <td>1</td>\n",
              "      <td>lunglei</td>\n",
              "      <td>70118</td>\n",
              "      <td>2.257623e+08</td>\n",
              "    </tr>\n",
              "    <tr>\n",
              "      <th>2</th>\n",
              "      <td>mizoram</td>\n",
              "      <td>2022</td>\n",
              "      <td>1</td>\n",
              "      <td>lawngtlai</td>\n",
              "      <td>52546</td>\n",
              "      <td>1.777109e+08</td>\n",
              "    </tr>\n",
              "    <tr>\n",
              "      <th>3</th>\n",
              "      <td>mizoram</td>\n",
              "      <td>2022</td>\n",
              "      <td>1</td>\n",
              "      <td>kolasib</td>\n",
              "      <td>41730</td>\n",
              "      <td>1.315654e+08</td>\n",
              "    </tr>\n",
              "    <tr>\n",
              "      <th>4</th>\n",
              "      <td>mizoram</td>\n",
              "      <td>2022</td>\n",
              "      <td>1</td>\n",
              "      <td>mamit</td>\n",
              "      <td>31141</td>\n",
              "      <td>8.561581e+07</td>\n",
              "    </tr>\n",
              "  </tbody>\n",
              "</table>\n",
              "</div>\n",
              "      <button class=\"colab-df-convert\" onclick=\"convertToInteractive('df-c1660f04-e862-44a6-b407-b9a452de291c')\"\n",
              "              title=\"Convert this dataframe to an interactive table.\"\n",
              "              style=\"display:none;\">\n",
              "        \n",
              "  <svg xmlns=\"http://www.w3.org/2000/svg\" height=\"24px\"viewBox=\"0 0 24 24\"\n",
              "       width=\"24px\">\n",
              "    <path d=\"M0 0h24v24H0V0z\" fill=\"none\"/>\n",
              "    <path d=\"M18.56 5.44l.94 2.06.94-2.06 2.06-.94-2.06-.94-.94-2.06-.94 2.06-2.06.94zm-11 1L8.5 8.5l.94-2.06 2.06-.94-2.06-.94L8.5 2.5l-.94 2.06-2.06.94zm10 10l.94 2.06.94-2.06 2.06-.94-2.06-.94-.94-2.06-.94 2.06-2.06.94z\"/><path d=\"M17.41 7.96l-1.37-1.37c-.4-.4-.92-.59-1.43-.59-.52 0-1.04.2-1.43.59L10.3 9.45l-7.72 7.72c-.78.78-.78 2.05 0 2.83L4 21.41c.39.39.9.59 1.41.59.51 0 1.02-.2 1.41-.59l7.78-7.78 2.81-2.81c.8-.78.8-2.07 0-2.86zM5.41 20L4 18.59l7.72-7.72 1.47 1.35L5.41 20z\"/>\n",
              "  </svg>\n",
              "      </button>\n",
              "      \n",
              "  <style>\n",
              "    .colab-df-container {\n",
              "      display:flex;\n",
              "      flex-wrap:wrap;\n",
              "      gap: 12px;\n",
              "    }\n",
              "\n",
              "    .colab-df-convert {\n",
              "      background-color: #E8F0FE;\n",
              "      border: none;\n",
              "      border-radius: 50%;\n",
              "      cursor: pointer;\n",
              "      display: none;\n",
              "      fill: #1967D2;\n",
              "      height: 32px;\n",
              "      padding: 0 0 0 0;\n",
              "      width: 32px;\n",
              "    }\n",
              "\n",
              "    .colab-df-convert:hover {\n",
              "      background-color: #E2EBFA;\n",
              "      box-shadow: 0px 1px 2px rgba(60, 64, 67, 0.3), 0px 1px 3px 1px rgba(60, 64, 67, 0.15);\n",
              "      fill: #174EA6;\n",
              "    }\n",
              "\n",
              "    [theme=dark] .colab-df-convert {\n",
              "      background-color: #3B4455;\n",
              "      fill: #D2E3FC;\n",
              "    }\n",
              "\n",
              "    [theme=dark] .colab-df-convert:hover {\n",
              "      background-color: #434B5C;\n",
              "      box-shadow: 0px 1px 3px 1px rgba(0, 0, 0, 0.15);\n",
              "      filter: drop-shadow(0px 1px 2px rgba(0, 0, 0, 0.3));\n",
              "      fill: #FFFFFF;\n",
              "    }\n",
              "  </style>\n",
              "\n",
              "      <script>\n",
              "        const buttonEl =\n",
              "          document.querySelector('#df-c1660f04-e862-44a6-b407-b9a452de291c button.colab-df-convert');\n",
              "        buttonEl.style.display =\n",
              "          google.colab.kernel.accessAllowed ? 'block' : 'none';\n",
              "\n",
              "        async function convertToInteractive(key) {\n",
              "          const element = document.querySelector('#df-c1660f04-e862-44a6-b407-b9a452de291c');\n",
              "          const dataTable =\n",
              "            await google.colab.kernel.invokeFunction('convertToInteractive',\n",
              "                                                     [key], {});\n",
              "          if (!dataTable) return;\n",
              "\n",
              "          const docLinkHtml = 'Like what you see? Visit the ' +\n",
              "            '<a target=\"_blank\" href=https://colab.research.google.com/notebooks/data_table.ipynb>data table notebook</a>'\n",
              "            + ' to learn more about interactive tables.';\n",
              "          element.innerHTML = '';\n",
              "          dataTable['output_type'] = 'display_data';\n",
              "          await google.colab.output.renderOutput(dataTable, element);\n",
              "          const docLink = document.createElement('div');\n",
              "          docLink.innerHTML = docLinkHtml;\n",
              "          element.appendChild(docLink);\n",
              "        }\n",
              "      </script>\n",
              "    </div>\n",
              "  </div>\n",
              "  "
            ]
          },
          "metadata": {},
          "execution_count": 41
        }
      ]
    },
    {
      "cell_type": "code",
      "source": [
        "df4.isnull().sum()"
      ],
      "metadata": {
        "colab": {
          "base_uri": "https://localhost:8080/"
        },
        "id": "6r78IsmS9FgP",
        "outputId": "5f6f7e68-048b-4658-c05a-61d4755c808e"
      },
      "execution_count": null,
      "outputs": [
        {
          "output_type": "execute_result",
          "data": {
            "text/plain": [
              "State            0\n",
              "Year             0\n",
              "Quarter          0\n",
              "Districts        0\n",
              "Metric_count     0\n",
              "Metric_amount    0\n",
              "dtype: int64"
            ]
          },
          "metadata": {},
          "execution_count": 37
        }
      ]
    },
    {
      "cell_type": "code",
      "source": [
        "path=\"/content/pulse/data/top/user/country/india/state/\"\n",
        "top_state_list=os.listdir(path)\n",
        "top_state_list\n",
        "\n",
        "clm6={'State':[], 'Year':[],'Quarter':[],'Districts':[], 'Users':[]}\n",
        "for i in top_state_list:\n",
        "    p_i=path+i+\"/\"\n",
        "    top_yr=os.listdir(p_i)    \n",
        "    for j in top_yr:\n",
        "        p_j=p_i+j+\"/\"\n",
        "        top_yr_list=os.listdir(p_j)        \n",
        "        for k in top_yr_list:\n",
        "            p_k=p_j+k\n",
        "            with open(p_k, 'r') as file:\n",
        "                D=json.load(file)\n",
        "            for z in D['data']['districts']:\n",
        "              Name=z['name']\n",
        "              count=z['registeredUsers']\n",
        "              clm6['Districts'].append(Name)\n",
        "              clm6['Users'].append(count)\n",
        "              clm6['State'].append(i)\n",
        "              clm6['Year'].append(j)\n",
        "              clm6['Quarter'].append(int(k.strip('.json')))\n",
        "\n",
        "df5 = pd.DataFrame(clm6)\n",
        "df5.head()"
      ],
      "metadata": {
        "id": "S87fWCxUlcmg",
        "colab": {
          "base_uri": "https://localhost:8080/",
          "height": 206
        },
        "outputId": "3377619a-a4b7-426b-e97a-8b871e7284ce"
      },
      "execution_count": null,
      "outputs": [
        {
          "output_type": "execute_result",
          "data": {
            "text/plain": [
              "     State  Year  Quarter  Districts  Users\n",
              "0  mizoram  2022        1     aizawl  59433\n",
              "1  mizoram  2022        1    lunglei  14538\n",
              "2  mizoram  2022        1  lawngtlai  11459\n",
              "3  mizoram  2022        1    kolasib   8375\n",
              "4  mizoram  2022        1   champhai   6875"
            ],
            "text/html": [
              "\n",
              "  <div id=\"df-73499bee-5a4c-4178-a909-d0a9950d6931\">\n",
              "    <div class=\"colab-df-container\">\n",
              "      <div>\n",
              "<style scoped>\n",
              "    .dataframe tbody tr th:only-of-type {\n",
              "        vertical-align: middle;\n",
              "    }\n",
              "\n",
              "    .dataframe tbody tr th {\n",
              "        vertical-align: top;\n",
              "    }\n",
              "\n",
              "    .dataframe thead th {\n",
              "        text-align: right;\n",
              "    }\n",
              "</style>\n",
              "<table border=\"1\" class=\"dataframe\">\n",
              "  <thead>\n",
              "    <tr style=\"text-align: right;\">\n",
              "      <th></th>\n",
              "      <th>State</th>\n",
              "      <th>Year</th>\n",
              "      <th>Quarter</th>\n",
              "      <th>Districts</th>\n",
              "      <th>Users</th>\n",
              "    </tr>\n",
              "  </thead>\n",
              "  <tbody>\n",
              "    <tr>\n",
              "      <th>0</th>\n",
              "      <td>mizoram</td>\n",
              "      <td>2022</td>\n",
              "      <td>1</td>\n",
              "      <td>aizawl</td>\n",
              "      <td>59433</td>\n",
              "    </tr>\n",
              "    <tr>\n",
              "      <th>1</th>\n",
              "      <td>mizoram</td>\n",
              "      <td>2022</td>\n",
              "      <td>1</td>\n",
              "      <td>lunglei</td>\n",
              "      <td>14538</td>\n",
              "    </tr>\n",
              "    <tr>\n",
              "      <th>2</th>\n",
              "      <td>mizoram</td>\n",
              "      <td>2022</td>\n",
              "      <td>1</td>\n",
              "      <td>lawngtlai</td>\n",
              "      <td>11459</td>\n",
              "    </tr>\n",
              "    <tr>\n",
              "      <th>3</th>\n",
              "      <td>mizoram</td>\n",
              "      <td>2022</td>\n",
              "      <td>1</td>\n",
              "      <td>kolasib</td>\n",
              "      <td>8375</td>\n",
              "    </tr>\n",
              "    <tr>\n",
              "      <th>4</th>\n",
              "      <td>mizoram</td>\n",
              "      <td>2022</td>\n",
              "      <td>1</td>\n",
              "      <td>champhai</td>\n",
              "      <td>6875</td>\n",
              "    </tr>\n",
              "  </tbody>\n",
              "</table>\n",
              "</div>\n",
              "      <button class=\"colab-df-convert\" onclick=\"convertToInteractive('df-73499bee-5a4c-4178-a909-d0a9950d6931')\"\n",
              "              title=\"Convert this dataframe to an interactive table.\"\n",
              "              style=\"display:none;\">\n",
              "        \n",
              "  <svg xmlns=\"http://www.w3.org/2000/svg\" height=\"24px\"viewBox=\"0 0 24 24\"\n",
              "       width=\"24px\">\n",
              "    <path d=\"M0 0h24v24H0V0z\" fill=\"none\"/>\n",
              "    <path d=\"M18.56 5.44l.94 2.06.94-2.06 2.06-.94-2.06-.94-.94-2.06-.94 2.06-2.06.94zm-11 1L8.5 8.5l.94-2.06 2.06-.94-2.06-.94L8.5 2.5l-.94 2.06-2.06.94zm10 10l.94 2.06.94-2.06 2.06-.94-2.06-.94-.94-2.06-.94 2.06-2.06.94z\"/><path d=\"M17.41 7.96l-1.37-1.37c-.4-.4-.92-.59-1.43-.59-.52 0-1.04.2-1.43.59L10.3 9.45l-7.72 7.72c-.78.78-.78 2.05 0 2.83L4 21.41c.39.39.9.59 1.41.59.51 0 1.02-.2 1.41-.59l7.78-7.78 2.81-2.81c.8-.78.8-2.07 0-2.86zM5.41 20L4 18.59l7.72-7.72 1.47 1.35L5.41 20z\"/>\n",
              "  </svg>\n",
              "      </button>\n",
              "      \n",
              "  <style>\n",
              "    .colab-df-container {\n",
              "      display:flex;\n",
              "      flex-wrap:wrap;\n",
              "      gap: 12px;\n",
              "    }\n",
              "\n",
              "    .colab-df-convert {\n",
              "      background-color: #E8F0FE;\n",
              "      border: none;\n",
              "      border-radius: 50%;\n",
              "      cursor: pointer;\n",
              "      display: none;\n",
              "      fill: #1967D2;\n",
              "      height: 32px;\n",
              "      padding: 0 0 0 0;\n",
              "      width: 32px;\n",
              "    }\n",
              "\n",
              "    .colab-df-convert:hover {\n",
              "      background-color: #E2EBFA;\n",
              "      box-shadow: 0px 1px 2px rgba(60, 64, 67, 0.3), 0px 1px 3px 1px rgba(60, 64, 67, 0.15);\n",
              "      fill: #174EA6;\n",
              "    }\n",
              "\n",
              "    [theme=dark] .colab-df-convert {\n",
              "      background-color: #3B4455;\n",
              "      fill: #D2E3FC;\n",
              "    }\n",
              "\n",
              "    [theme=dark] .colab-df-convert:hover {\n",
              "      background-color: #434B5C;\n",
              "      box-shadow: 0px 1px 3px 1px rgba(0, 0, 0, 0.15);\n",
              "      filter: drop-shadow(0px 1px 2px rgba(0, 0, 0, 0.3));\n",
              "      fill: #FFFFFF;\n",
              "    }\n",
              "  </style>\n",
              "\n",
              "      <script>\n",
              "        const buttonEl =\n",
              "          document.querySelector('#df-73499bee-5a4c-4178-a909-d0a9950d6931 button.colab-df-convert');\n",
              "        buttonEl.style.display =\n",
              "          google.colab.kernel.accessAllowed ? 'block' : 'none';\n",
              "\n",
              "        async function convertToInteractive(key) {\n",
              "          const element = document.querySelector('#df-73499bee-5a4c-4178-a909-d0a9950d6931');\n",
              "          const dataTable =\n",
              "            await google.colab.kernel.invokeFunction('convertToInteractive',\n",
              "                                                     [key], {});\n",
              "          if (!dataTable) return;\n",
              "\n",
              "          const docLinkHtml = 'Like what you see? Visit the ' +\n",
              "            '<a target=\"_blank\" href=https://colab.research.google.com/notebooks/data_table.ipynb>data table notebook</a>'\n",
              "            + ' to learn more about interactive tables.';\n",
              "          element.innerHTML = '';\n",
              "          dataTable['output_type'] = 'display_data';\n",
              "          await google.colab.output.renderOutput(dataTable, element);\n",
              "          const docLink = document.createElement('div');\n",
              "          docLink.innerHTML = docLinkHtml;\n",
              "          element.appendChild(docLink);\n",
              "        }\n",
              "      </script>\n",
              "    </div>\n",
              "  </div>\n",
              "  "
            ]
          },
          "metadata": {},
          "execution_count": 39
        }
      ]
    },
    {
      "cell_type": "code",
      "source": [
        "df5.isnull().sum()"
      ],
      "metadata": {
        "colab": {
          "base_uri": "https://localhost:8080/"
        },
        "id": "E0QDlnOA9Z8O",
        "outputId": "7da36ad8-539d-469f-b8c9-3d5c3bd22fea"
      },
      "execution_count": null,
      "outputs": [
        {
          "output_type": "execute_result",
          "data": {
            "text/plain": [
              "State        0\n",
              "Year         0\n",
              "Quarter      0\n",
              "Districts    0\n",
              "Users        0\n",
              "dtype: int64"
            ]
          },
          "metadata": {},
          "execution_count": 40
        }
      ]
    },
    {
      "cell_type": "code",
      "source": [
        "df3['State'].value_counts()"
      ],
      "metadata": {
        "id": "EegPsBt1hLw7"
      },
      "execution_count": null,
      "outputs": []
    },
    {
      "cell_type": "code",
      "source": [
        "df.to_csv('agg_transaction.csv', index=False)\n",
        "df1.to_csv('agg_user.csv', index=False)\n",
        "df2.to_csv('map_transaction.csv', index=False)\n",
        "df3.to_csv('map_user.csv', index=False)\n",
        "df4.to_csv('top_transaction.csv', index=False)\n",
        "df5.to_csv('top_user.csv', index=False)\n"
      ],
      "metadata": {
        "id": "XSCDNhkEe_VB"
      },
      "execution_count": null,
      "outputs": []
    },
    {
      "cell_type": "code",
      "source": [
        "import sqlite3"
      ],
      "metadata": {
        "id": "GgrKjeuolcp4"
      },
      "execution_count": null,
      "outputs": []
    },
    {
      "cell_type": "code",
      "source": [
        "conn = sqlite3.connect('Phonepe_pulse.db')\n",
        "cursor = conn.cursor()"
      ],
      "metadata": {
        "id": "052Q9aTagRz6"
      },
      "execution_count": null,
      "outputs": []
    },
    {
      "cell_type": "code",
      "source": [
        "cursor.execute(\"\"\"\n",
        "CREATE TABLE agg_transaction(\n",
        "    id INTEGER PRIMARY KEY,\n",
        "    State VARCHAR(255),\n",
        "    Year INT,\n",
        "    Quarter INT,\n",
        "    Transaction_type TEXT,\n",
        "    Transaction_count INTEGER,    \n",
        "    Transaction_amount INT\n",
        ");\n",
        "\"\"\")"
      ],
      "metadata": {
        "id": "eS6OQLQOlcwB",
        "colab": {
          "base_uri": "https://localhost:8080/"
        },
        "outputId": "4f43a955-265a-4b9f-ebe7-718cd1254c7c"
      },
      "execution_count": null,
      "outputs": [
        {
          "output_type": "execute_result",
          "data": {
            "text/plain": [
              "<sqlite3.Cursor at 0x7f28fc3be500>"
            ]
          },
          "metadata": {},
          "execution_count": 47
        }
      ]
    },
    {
      "cell_type": "code",
      "source": [
        "# Load the data into a DataFrame\n",
        "df = pd.read_csv(\"agg_transaction.csv\")\n",
        "\n",
        "# Insert the data from the DataFrame into the database\n",
        "df.to_sql(\"agg_transaction\", conn, if_exists=\"replace\", index=False)\n",
        "\n",
        "# Commit the changes\n",
        "conn.commit()"
      ],
      "metadata": {
        "id": "6wLOJT_g_KpE"
      },
      "execution_count": null,
      "outputs": []
    },
    {
      "cell_type": "code",
      "source": [
        "cursor.execute(\"\"\"\n",
        "CREATE TABLE agg_user(\n",
        "    id INTEGER PRIMARY KEY,\n",
        "    State VARCHAR(255),\n",
        "    Year INT,\n",
        "    Quarter INT,\n",
        "    Brand TEXT,\n",
        "    Count INTEGER,\n",
        "    Percentage FLOAT\n",
        ");\n",
        "\"\"\")\n",
        "\n"
      ],
      "metadata": {
        "colab": {
          "base_uri": "https://localhost:8080/"
        },
        "id": "TTYDaxFW2qIv",
        "outputId": "6613db49-1c75-4bd9-eb5f-649d6e05798b"
      },
      "execution_count": null,
      "outputs": [
        {
          "output_type": "execute_result",
          "data": {
            "text/plain": [
              "<sqlite3.Cursor at 0x7f28fc3be500>"
            ]
          },
          "metadata": {},
          "execution_count": 49
        }
      ]
    },
    {
      "cell_type": "code",
      "source": [
        "# Load the data into a DataFrame\n",
        "df = pd.read_csv(\"agg_user.csv\")\n",
        "\n",
        "# Insert the data from the DataFrame into the database\n",
        "df.to_sql(\"agg_user\", conn, if_exists=\"replace\", index=False)\n",
        "\n",
        "# Commit the changes\n",
        "conn.commit()\n"
      ],
      "metadata": {
        "id": "-VSQEzam_WNN"
      },
      "execution_count": null,
      "outputs": []
    },
    {
      "cell_type": "code",
      "source": [
        "cursor.execute(\"\"\"\n",
        "CREATE TABLE map_transaction(\n",
        "    id INTEGER PRIMARY KEY,\n",
        "    State VARCHAR(255),\n",
        "    Year INT,\n",
        "    Quarter INT,\n",
        "    District TEXT,\n",
        "    Count INTEGER,\n",
        "    Amount INT\n",
        ");\n",
        "\"\"\")\n"
      ],
      "metadata": {
        "id": "pNpPDyTV3UQP"
      },
      "execution_count": null,
      "outputs": []
    },
    {
      "cell_type": "code",
      "source": [
        "# Load the data into a DataFrame\n",
        "df = pd.read_csv(\"map_transaction.csv\")\n",
        "\n",
        "# Insert the data from the DataFrame into the database\n",
        "df.to_sql(\"map_transaction\", conn, if_exists=\"replace\", index=False)\n",
        "\n",
        "# Commit the changes\n",
        "conn.commit()\n"
      ],
      "metadata": {
        "id": "CGZ8AWSD_3Gy"
      },
      "execution_count": null,
      "outputs": []
    },
    {
      "cell_type": "code",
      "source": [
        "cursor.execute(\"\"\"\n",
        "CREATE TABLE map_user(\n",
        "    id INTEGER PRIMARY KEY,\n",
        "    State VARCHAR(255),\n",
        "    Year INT,\n",
        "    Quarter INT,\n",
        "    Users INT,\n",
        "    District TEXT\n",
        ");\n",
        "\"\"\")\n"
      ],
      "metadata": {
        "colab": {
          "base_uri": "https://localhost:8080/"
        },
        "id": "kjzb-Ba4AFIZ",
        "outputId": "8233961f-93f7-495c-b7c4-a53d7d5298f7"
      },
      "execution_count": null,
      "outputs": [
        {
          "output_type": "execute_result",
          "data": {
            "text/plain": [
              "<sqlite3.Cursor at 0x7f28fc3be500>"
            ]
          },
          "metadata": {},
          "execution_count": 53
        }
      ]
    },
    {
      "cell_type": "code",
      "source": [
        "# Load the data into a DataFrame\n",
        "df = pd.read_csv(\"map_user.csv\")\n",
        "\n",
        "# Insert the data from the DataFrame into the database\n",
        "df.to_sql(\"map_user\", conn, if_exists=\"replace\", index=False)\n",
        "\n",
        "# Commit the changes\n",
        "conn.commit()\n"
      ],
      "metadata": {
        "id": "OfymmdshARjt"
      },
      "execution_count": null,
      "outputs": []
    },
    {
      "cell_type": "code",
      "source": [
        "cursor.execute(\"\"\"\n",
        "CREATE TABLE top_transaction(\n",
        "    id INTEGER PRIMARY KEY,\n",
        "    State VARCHAR(255),\n",
        "    Year INT,\n",
        "    Quarter INT,\n",
        "    Districts TEXT,\n",
        "    Count INTEGER,\n",
        "    Amount FLOAT\n",
        ");\n",
        "\"\"\")\n"
      ],
      "metadata": {
        "colab": {
          "base_uri": "https://localhost:8080/"
        },
        "id": "p6PHfjVrAXHN",
        "outputId": "2ec88a06-715c-41b6-8737-83c38041c96d"
      },
      "execution_count": null,
      "outputs": [
        {
          "output_type": "execute_result",
          "data": {
            "text/plain": [
              "<sqlite3.Cursor at 0x7f28fc3be500>"
            ]
          },
          "metadata": {},
          "execution_count": 55
        }
      ]
    },
    {
      "cell_type": "code",
      "source": [
        "# Load the data into a DataFrame\n",
        "df = pd.read_csv(\"top_transaction.csv\")\n",
        "\n",
        "# Insert the data from the DataFrame into the database\n",
        "df.to_sql(\"top_transaction\", conn, if_exists=\"replace\", index=False)\n",
        "\n",
        "# Commit the changes\n",
        "conn.commit()"
      ],
      "metadata": {
        "id": "dSEWUj0GAXKQ"
      },
      "execution_count": null,
      "outputs": []
    },
    {
      "cell_type": "code",
      "source": [
        "cursor.execute(\"\"\"\n",
        "CREATE TABLE top_user(\n",
        "    id INTEGER PRIMARY KEY,\n",
        "    State VARCHAR(255),\n",
        "    Year INT,\n",
        "    Quarter INT,\n",
        "    Districts TEXT,\n",
        "    Users INT\n",
        ");\n",
        "\"\"\")\n"
      ],
      "metadata": {
        "colab": {
          "base_uri": "https://localhost:8080/"
        },
        "id": "LFG3iSPXAXNI",
        "outputId": "e7d11bb5-1a8c-4981-c52c-09f40a77b64c"
      },
      "execution_count": null,
      "outputs": [
        {
          "output_type": "execute_result",
          "data": {
            "text/plain": [
              "<sqlite3.Cursor at 0x7f28fc3be500>"
            ]
          },
          "metadata": {},
          "execution_count": 59
        }
      ]
    },
    {
      "cell_type": "code",
      "source": [
        "# Load the data into a DataFrame\n",
        "df = pd.read_csv(\"top_user.csv\")\n",
        "\n",
        "# Insert the data from the DataFrame into the database\n",
        "df.to_sql(\"top_user\", conn, if_exists=\"replace\", index=False)\n",
        "\n",
        "# Commit the changes\n",
        "conn.commit()"
      ],
      "metadata": {
        "id": "dex1RnNmAXQE"
      },
      "execution_count": null,
      "outputs": []
    },
    {
      "cell_type": "code",
      "source": [],
      "metadata": {
        "id": "B5R2yYK8AXTJ"
      },
      "execution_count": null,
      "outputs": []
    },
    {
      "cell_type": "code",
      "source": [
        "# Execute the query to create the filter view\n",
        "cursor.execute(\"SELECT State, Quarter, SUM(Transaction_amount) as Total_Transaction_amount FROM agg_transaction GROUP BY State, Quarter\")\n",
        "\n",
        "# Fetch the filtered rows\n",
        "filtered_rows = cursor.fetchall()\n",
        "\n",
        "# Create a DataFrame from the filtered rows\n",
        "df = pd.DataFrame(filtered_rows, columns=[\"State\", \"Quarter\", \"Transaction_amount\"])\n",
        "\n",
        "conn.commit()\n",
        "\n",
        "# Create a dropdown menu using Streamlit\n",
        "state = st.selectbox(\"Select State\", df[\"State\"].unique())\n",
        "\n",
        "# Filter the DataFrame based on the selected state\n",
        "df = df[df[\"State\"] == state]\n",
        "\n",
        "# Create a bar chart using Plotly Express\n",
        "fig = px.bar(df, x=\"Quarter\", y=\"Transaction_amount\", color=\"State\")\n",
        "\n",
        "# Display the bar chart using Streamlit\n",
        "st.plotly_chart(fig)\n"
      ],
      "metadata": {
        "id": "__WVXZHglc0B"
      },
      "execution_count": null,
      "outputs": []
    },
    {
      "cell_type": "code",
      "source": [
        "# Execute the query to create the filter view\n",
        "cursor.execute(\"SELECT State, Quarter, SUM(Brand and Count) as Brand FROM agg_user GROUP BY State, Quarter, Brand\")\n",
        "\n",
        "# Fetch the filtered rows\n",
        "filtered_rows = cursor.fetchall()\n",
        "\n",
        "# Create a DataFrame from the filtered rows\n",
        "df1 = pd.DataFrame(filtered_rows, columns=[\"State\", \"Quarter\", \"Brand\"])\n",
        "\n",
        "conn.commit()\n",
        "\n",
        "# Create a dropdown menu using Streamlit\n",
        "state = st.selectbox(\"Select State\", df[\"State\"].unique())\n",
        "\n",
        "# Filter the DataFrame based on the selected state\n",
        "df = df[df[\"State\"] == state]\n",
        "\n",
        "# Create a bar chart using Plotly Express\n",
        "fig = px.bar(df, x=\"Quarter\", y=\"Year\", color=\"State\")\n",
        "\n",
        "# Display the bar chart using Streamlit\n",
        "st.plotly_chart(fig)\n"
      ],
      "metadata": {
        "id": "xpisWXJSQ8GQ",
        "colab": {
          "base_uri": "https://localhost:8080/"
        },
        "outputId": "a2942969-91f6-4726-c2ae-4a441726d5eb"
      },
      "execution_count": null,
      "outputs": [
        {
          "output_type": "execute_result",
          "data": {
            "text/plain": [
              "DeltaGenerator(_root_container=0, _provided_cursor=None, _parent=None, _block_type=None, _form_data=None)"
            ]
          },
          "metadata": {},
          "execution_count": 64
        }
      ]
    },
    {
      "cell_type": "code",
      "source": [
        "# Execute the query to create the filter view\n",
        "cursor.execute(\"SELECT State, Quarter, Year, District , SUM(Amount) as total_amount FROM map_transaction GROUP BY State, Year, Quarter, District, Amount\")\n",
        "\n",
        "# Fetch the filtered rows\n",
        "filtered_rows = cursor.fetchall()\n",
        "\n",
        "# Create a DataFrame from the filtered rows\n",
        "df = pd.DataFrame(filtered_rows, columns=[\"State\", \"Quarter\", \"Year\", \"District\", \"Amount\"])\n",
        "\n",
        "# Create a dropdown menu using Streamlit\n",
        "#state = st.selectbox(\"Select State\", df[\"State\"].unique())\n",
        "state_filter = st.selectbox(\"Select State\", [\"All\", *df['State'].unique()])\n",
        "year_filter = st.selectbox(\"Select Year\", [\"All\", *df['Year'].unique()])\n",
        "district_filter = st.selectbox(\"Select District\", [\"All\", *df['District'].unique()])\n",
        "quater_filter = st.selectbox(\"Select Quarter\", [\"All\", *df['Quarter'].unique()])\n",
        "#total_amount = st.slider(\"Amount\", 0, 9000000, (0, 9000000))\n",
        "\n",
        "if state_filter != \"All\":\n",
        "    df = df[df['State'] == state_filter]\n",
        "if year_filter != \"All\":\n",
        "    df = df[df['Year'] == int(year_filter)]\n",
        "if quater_filter != \"All\":\n",
        "    df = df[df['Quarter'] == quater_filter]\n",
        "if district_filter != \"All\":\n",
        "    df = df[df['District'] == district_filter]\n",
        "\n",
        "#df = df[(df['Amount'] >= total_amount[0]) & (df['Amount'] <= total_amount[1])]\n",
        "\n",
        "\n",
        "# create table\n",
        "st.write(df)\n",
        "\n"
      ],
      "metadata": {
        "id": "tC_SrXx6Rk9Y"
      },
      "execution_count": null,
      "outputs": []
    },
    {
      "cell_type": "code",
      "source": [
        "\n",
        "# Execute the query to create the filter view\n",
        "cursor.execute(\"SELECT State, Year, Quarter, Districts, SUM(Users) as Total_Users FROM map_user GROUP BY State, Year, Quarter, Districts, Users\")\n",
        "\n",
        "# Fetch the filtered rows\n",
        "filtered_rows = cursor.fetchall()\n",
        "\n",
        "# Create a DataFrame from the filtered rows\n",
        "df = pd.DataFrame(filtered_rows, columns=[\"State\", \"Year\", \"Quarter\", \"Districts\", \"Users\"])\n",
        "\n",
        "# Create a dropdown menu using Streamlit\n",
        "#state = st.selectbox(\"Select State\", df[\"State\"].unique())\n",
        "state_filter = st.selectbox(\"Select State\", [\"All\", *df['State'].unique()])\n",
        "year_filter = st.selectbox(\"Select Year\", [\"All\", *df['Year'].unique()])\n",
        "quater_filter = st.selectbox(\"Select Quarter\", [\"All\", *df['Quarter'].unique()])\n",
        "district_filter = st.selectbox(\"Select Districts\", [\"All\", *df['Districts'].unique()])\n",
        "\n",
        "\n",
        "if state_filter != \"All\":\n",
        "    df = df[df['State'] == state_filter]\n",
        "if year_filter != \"All\":\n",
        "    df = df[df['Year'] == int(year_filter)]\n",
        "if quater_filter != \"All\":\n",
        "    df = df[df['Quarter'] == quater_filter]\n",
        "if district_filter != \"All\":\n",
        "    df = df[df['Districts'] == district_filter]\n",
        "\n",
        "#df = df[(df['Users'] >= Total_Users[0]) & (df['Users'] <= Total_Users[1])]\n",
        "\n",
        "\n",
        "# create table\n",
        "st.write(df)\n",
        "\n"
      ],
      "metadata": {
        "id": "8YZyj52ShG6o"
      },
      "execution_count": null,
      "outputs": []
    },
    {
      "cell_type": "code",
      "source": [
        "\n",
        "# Execute the query to create the filter view\n",
        "cursor.execute(\"SELECT State, Quarter, Year, Districts , SUM(Amount) as total_amount FROM top_transaction GROUP BY State, Year, Quarter, Districts, Amount\")\n",
        "\n",
        "# Fetch the filtered rows\n",
        "filtered_rows = cursor.fetchall()\n",
        "\n",
        "# Create a DataFrame from the filtered rows\n",
        "df = pd.DataFrame(filtered_rows, columns=[\"State\", \"Quarter\", \"Year\", \"Districts\", \"Amount\"])\n",
        "\n",
        "# Create a dropdown menu using Streamlit\n",
        "#state = st.selectbox(\"Select State\", df[\"State\"].unique())\n",
        "state_filter = st.selectbox(\"Select State\", [\"All\", *df['State'].unique()])\n",
        "year_filter = st.selectbox(\"Select Year\", [\"All\", *df['Year'].unique()])\n",
        "district_filter = st.selectbox(\"Select Districts\", [\"All\", *df['Districts'].unique()])\n",
        "quater_filter = st.selectbox(\"Select Quarter\", [\"All\", *df['Quarter'].unique()])\n",
        "#total_amount = st.slider(\"Amount\", 0, 9000000, (0, 9000000))\n",
        "\n",
        "if state_filter != \"All\":\n",
        "    df = df[df['State'] == state_filter]\n",
        "if year_filter != \"All\":\n",
        "    df = df[df['Year'] == int(year_filter)]\n",
        "if quater_filter != \"All\":\n",
        "    df = df[df['Quarter'] == quater_filter]\n",
        "if district_filter != \"All\":\n",
        "    df = df[df['Districts'] == district_filter]\n",
        "\n",
        "#df = df[(df['Amount'] >= total_amount[0]) & (df['Amount'] <= total_amount[1])]\n",
        "\n",
        "\n",
        "# create table\n",
        "st.write(df)\n",
        "\n"
      ],
      "metadata": {
        "id": "CURZenEYh8BJ"
      },
      "execution_count": null,
      "outputs": []
    },
    {
      "cell_type": "code",
      "source": [
        "\n",
        "# Execute the query to create the filter view\n",
        "cursor.execute(\"SELECT State, Year, Quarter, Districts, SUM(Users) as Total_Users FROM top_user GROUP BY State, Year, Quarter, Districts, Users\")\n",
        "\n",
        "# Fetch the filtered rows\n",
        "filtered_rows = cursor.fetchall()\n",
        "\n",
        "# Create a DataFrame from the filtered rows\n",
        "df = pd.DataFrame(filtered_rows, columns=[\"State\", \"Year\", \"Quarter\", \"Districts\", \"Users\"])\n",
        "\n",
        "# Create a dropdown menu using Streamlit\n",
        "#state = st.selectbox(\"Select State\", df[\"State\"].unique())\n",
        "state_filter = st.selectbox(\"Select State\", [\"All\", *df['State'].unique()])\n",
        "year_filter = st.selectbox(\"Select Year\", [\"All\", *df['Year'].unique()])\n",
        "quater_filter = st.selectbox(\"Select Quarter\", [\"All\", *df['Quarter'].unique()])\n",
        "district_filter = st.selectbox(\"Select Districts\", [\"All\", *df['Districts'].unique()])\n",
        "\n",
        "\n",
        "if state_filter != \"All\":\n",
        "    df = df[df['State'] == state_filter]\n",
        "if year_filter != \"All\":\n",
        "    df = df[df['Year'] == int(year_filter)]\n",
        "if quater_filter != \"All\":\n",
        "    df = df[df['Quarter'] == quater_filter]\n",
        "if district_filter != \"All\":\n",
        "    df = df[df['Districts'] == district_filter]\n",
        "\n",
        "#df = df[(df['Users'] >= Total_Users[0]) & (df['Users'] <= Total_Users[1])]\n",
        "\n",
        "\n",
        "# create table\n",
        "st.write(df)\n",
        "\n"
      ],
      "metadata": {
        "id": "-mjKyq99iBpA"
      },
      "execution_count": null,
      "outputs": []
    },
    {
      "cell_type": "code",
      "source": [
        "df = pd.read_csv(\"/content/agg_transaction.csv\")\n",
        "\n",
        "fig = px.choropleth(\n",
        "    df,\n",
        "    geojson=\"/content/agg_transaction.csv\",\n",
        "    featureidkey='properties.ST_NM',\n",
        "    locations='State',\n",
        "    color='Transaction_amount',\n",
        "    color_continuous_scale='Reds'\n",
        ")\n",
        "\n",
        "fig.update_geos(fitbounds=\"locations\", visible=False)\n",
        "\n",
        "fig.show()"
      ],
      "metadata": {
        "colab": {
          "resources": {
            "http://localhost:8080/content/agg_transaction.csv": {
              "data": "CjwhRE9DVFlQRSBodG1sPgo8aHRtbCBsYW5nPWVuPgogIDxtZXRhIGNoYXJzZXQ9dXRmLTg+CiAgPG1ldGEgbmFtZT12aWV3cG9ydCBjb250ZW50PSJpbml0aWFsLXNjYWxlPTEsIG1pbmltdW0tc2NhbGU9MSwgd2lkdGg9ZGV2aWNlLXdpZHRoIj4KICA8dGl0bGU+RXJyb3IgNDA0IChOb3QgRm91bmQpISExPC90aXRsZT4KICA8c3R5bGU+CiAgICAqe21hcmdpbjowO3BhZGRpbmc6MH1odG1sLGNvZGV7Zm9udDoxNXB4LzIycHggYXJpYWwsc2Fucy1zZXJpZn1odG1se2JhY2tncm91bmQ6I2ZmZjtjb2xvcjojMjIyO3BhZGRpbmc6MTVweH1ib2R5e21hcmdpbjo3JSBhdXRvIDA7bWF4LXdpZHRoOjM5MHB4O21pbi1oZWlnaHQ6MTgwcHg7cGFkZGluZzozMHB4IDAgMTVweH0qID4gYm9keXtiYWNrZ3JvdW5kOnVybCgvL3d3dy5nb29nbGUuY29tL2ltYWdlcy9lcnJvcnMvcm9ib3QucG5nKSAxMDAlIDVweCBuby1yZXBlYXQ7cGFkZGluZy1yaWdodDoyMDVweH1we21hcmdpbjoxMXB4IDAgMjJweDtvdmVyZmxvdzpoaWRkZW59aW5ze2NvbG9yOiM3Nzc7dGV4dC1kZWNvcmF0aW9uOm5vbmV9YSBpbWd7Ym9yZGVyOjB9QG1lZGlhIHNjcmVlbiBhbmQgKG1heC13aWR0aDo3NzJweCl7Ym9keXtiYWNrZ3JvdW5kOm5vbmU7bWFyZ2luLXRvcDowO21heC13aWR0aDpub25lO3BhZGRpbmctcmlnaHQ6MH19I2xvZ297YmFja2dyb3VuZDp1cmwoLy93d3cuZ29vZ2xlLmNvbS9pbWFnZXMvbG9nb3MvZXJyb3JwYWdlL2Vycm9yX2xvZ28tMTUweDU0LnBuZykgbm8tcmVwZWF0O21hcmdpbi1sZWZ0Oi01cHh9QG1lZGlhIG9ubHkgc2NyZWVuIGFuZCAobWluLXJlc29sdXRpb246MTkyZHBpKXsjbG9nb3tiYWNrZ3JvdW5kOnVybCgvL3d3dy5nb29nbGUuY29tL2ltYWdlcy9sb2dvcy9lcnJvcnBhZ2UvZXJyb3JfbG9nby0xNTB4NTQtMngucG5nKSBuby1yZXBlYXQgMCUgMCUvMTAwJSAxMDAlOy1tb3otYm9yZGVyLWltYWdlOnVybCgvL3d3dy5nb29nbGUuY29tL2ltYWdlcy9sb2dvcy9lcnJvcnBhZ2UvZXJyb3JfbG9nby0xNTB4NTQtMngucG5nKSAwfX1AbWVkaWEgb25seSBzY3JlZW4gYW5kICgtd2Via2l0LW1pbi1kZXZpY2UtcGl4ZWwtcmF0aW86Mil7I2xvZ297YmFja2dyb3VuZDp1cmwoLy93d3cuZ29vZ2xlLmNvbS9pbWFnZXMvbG9nb3MvZXJyb3JwYWdlL2Vycm9yX2xvZ28tMTUweDU0LTJ4LnBuZykgbm8tcmVwZWF0Oy13ZWJraXQtYmFja2dyb3VuZC1zaXplOjEwMCUgMTAwJX19I2xvZ297ZGlzcGxheTppbmxpbmUtYmxvY2s7aGVpZ2h0OjU0cHg7d2lkdGg6MTUwcHh9CiAgPC9zdHlsZT4KICA8YSBocmVmPS8vd3d3Lmdvb2dsZS5jb20vPjxzcGFuIGlkPWxvZ28gYXJpYS1sYWJlbD1Hb29nbGU+PC9zcGFuPjwvYT4KICA8cD48Yj40MDQuPC9iPiA8aW5zPlRoYXTigJlzIGFuIGVycm9yLjwvaW5zPgogIDxwPiAgPGlucz5UaGF04oCZcyBhbGwgd2Uga25vdy48L2lucz4K",
              "ok": false,
              "headers": [
                [
                  "content-length",
                  "1449"
                ],
                [
                  "content-type",
                  "text/html; charset=utf-8"
                ]
              ],
              "status": 404,
              "status_text": ""
            }
          },
          "base_uri": "https://localhost:8080/",
          "height": 542
        },
        "id": "LeWNx8mliJXI",
        "outputId": "aac672ae-d6cd-4ea5-c459-61f04a6fad8c"
      },
      "execution_count": null,
      "outputs": [
        {
          "output_type": "display_data",
          "data": {
            "text/html": [
              "<html>\n",
              "<head><meta charset=\"utf-8\" /></head>\n",
              "<body>\n",
              "    <div>            <script src=\"https://cdnjs.cloudflare.com/ajax/libs/mathjax/2.7.5/MathJax.js?config=TeX-AMS-MML_SVG\"></script><script type=\"text/javascript\">if (window.MathJax) {MathJax.Hub.Config({SVG: {font: \"STIX-Web\"}});}</script>                <script type=\"text/javascript\">window.PlotlyConfig = {MathJaxConfig: 'local'};</script>\n",
              "        <script src=\"https://cdn.plot.ly/plotly-2.8.3.min.js\"></script>                <div id=\"71e0e384-25c8-4fe2-928e-7b8320500b5a\" class=\"plotly-graph-div\" style=\"height:525px; width:100%;\"></div>            <script type=\"text/javascript\">                                    window.PLOTLYENV=window.PLOTLYENV || {};                                    if (document.getElementById(\"71e0e384-25c8-4fe2-928e-7b8320500b5a\")) {                    Plotly.newPlot(                        \"71e0e384-25c8-4fe2-928e-7b8320500b5a\",                        [{\"coloraxis\":\"coloraxis\",\"featureidkey\":\"properties.ST_NM\",\"geo\":\"geo\",\"geojson\":\"/content/agg_transaction.csv\",\"hovertemplate\":\"State=%{location}<br>Transaction_amount=%{z}<extra></extra>\",\"locations\":[\"mizoram\",\"mizoram\",\"mizoram\",\"mizoram\",\"mizoram\",\"mizoram\",\"mizoram\",\"mizoram\",\"mizoram\",\"mizoram\",\"mizoram\",\"mizoram\",\"mizoram\",\"mizoram\",\"mizoram\",\"mizoram\",\"mizoram\",\"mizoram\",\"mizoram\",\"mizoram\",\"mizoram\",\"mizoram\",\"mizoram\",\"mizoram\",\"mizoram\",\"mizoram\",\"mizoram\",\"mizoram\",\"mizoram\",\"mizoram\",\"mizoram\",\"mizoram\",\"mizoram\",\"mizoram\",\"mizoram\",\"mizoram\",\"mizoram\",\"mizoram\",\"mizoram\",\"mizoram\",\"mizoram\",\"mizoram\",\"mizoram\",\"mizoram\",\"mizoram\",\"mizoram\",\"mizoram\",\"mizoram\",\"mizoram\",\"mizoram\",\"mizoram\",\"mizoram\",\"mizoram\",\"mizoram\",\"mizoram\",\"mizoram\",\"mizoram\",\"mizoram\",\"mizoram\",\"mizoram\",\"mizoram\",\"mizoram\",\"mizoram\",\"mizoram\",\"mizoram\",\"mizoram\",\"mizoram\",\"mizoram\",\"mizoram\",\"mizoram\",\"mizoram\",\"mizoram\",\"mizoram\",\"mizoram\",\"mizoram\",\"mizoram\",\"mizoram\",\"mizoram\",\"mizoram\",\"mizoram\",\"mizoram\",\"mizoram\",\"mizoram\",\"mizoram\",\"mizoram\",\"mizoram\",\"mizoram\",\"mizoram\",\"mizoram\",\"mizoram\",\"mizoram\",\"mizoram\",\"mizoram\",\"mizoram\",\"mizoram\",\"mizoram\",\"mizoram\",\"mizoram\",\"mizoram\",\"mizoram\",\"lakshadweep\",\"lakshadweep\",\"lakshadweep\",\"lakshadweep\",\"lakshadweep\",\"lakshadweep\",\"lakshadweep\",\"lakshadweep\",\"lakshadweep\",\"lakshadweep\",\"lakshadweep\",\"lakshadweep\",\"lakshadweep\",\"lakshadweep\",\"lakshadweep\",\"lakshadweep\",\"lakshadweep\",\"lakshadweep\",\"lakshadweep\",\"lakshadweep\",\"lakshadweep\",\"lakshadweep\",\"lakshadweep\",\"lakshadweep\",\"lakshadweep\",\"lakshadweep\",\"lakshadweep\",\"lakshadweep\",\"lakshadweep\",\"lakshadweep\",\"lakshadweep\",\"lakshadweep\",\"lakshadweep\",\"lakshadweep\",\"lakshadweep\",\"lakshadweep\",\"lakshadweep\",\"lakshadweep\",\"lakshadweep\",\"lakshadweep\",\"lakshadweep\",\"lakshadweep\",\"lakshadweep\",\"lakshadweep\",\"lakshadweep\",\"lakshadweep\",\"lakshadweep\",\"lakshadweep\",\"lakshadweep\",\"lakshadweep\",\"lakshadweep\",\"lakshadweep\",\"lakshadweep\",\"lakshadweep\",\"lakshadweep\",\"lakshadweep\",\"lakshadweep\",\"lakshadweep\",\"lakshadweep\",\"lakshadweep\",\"lakshadweep\",\"lakshadweep\",\"lakshadweep\",\"lakshadweep\",\"lakshadweep\",\"lakshadweep\",\"lakshadweep\",\"lakshadweep\",\"lakshadweep\",\"lakshadweep\",\"lakshadweep\",\"lakshadweep\",\"lakshadweep\",\"lakshadweep\",\"lakshadweep\",\"lakshadweep\",\"lakshadweep\",\"lakshadweep\",\"lakshadweep\",\"lakshadweep\",\"lakshadweep\",\"lakshadweep\",\"lakshadweep\",\"lakshadweep\",\"lakshadweep\",\"lakshadweep\",\"lakshadweep\",\"lakshadweep\",\"lakshadweep\",\"lakshadweep\",\"lakshadweep\",\"lakshadweep\",\"lakshadweep\",\"lakshadweep\",\"meghalaya\",\"meghalaya\",\"meghalaya\",\"meghalaya\",\"meghalaya\",\"meghalaya\",\"meghalaya\",\"meghalaya\",\"meghalaya\",\"meghalaya\",\"meghalaya\",\"meghalaya\",\"meghalaya\",\"meghalaya\",\"meghalaya\",\"meghalaya\",\"meghalaya\",\"meghalaya\",\"meghalaya\",\"meghalaya\",\"meghalaya\",\"meghalaya\",\"meghalaya\",\"meghalaya\",\"meghalaya\",\"meghalaya\",\"meghalaya\",\"meghalaya\",\"meghalaya\",\"meghalaya\",\"meghalaya\",\"meghalaya\",\"meghalaya\",\"meghalaya\",\"meghalaya\",\"meghalaya\",\"meghalaya\",\"meghalaya\",\"meghalaya\",\"meghalaya\",\"meghalaya\",\"meghalaya\",\"meghalaya\",\"meghalaya\",\"meghalaya\",\"meghalaya\",\"meghalaya\",\"meghalaya\",\"meghalaya\",\"meghalaya\",\"meghalaya\",\"meghalaya\",\"meghalaya\",\"meghalaya\",\"meghalaya\",\"meghalaya\",\"meghalaya\",\"meghalaya\",\"meghalaya\",\"meghalaya\",\"meghalaya\",\"meghalaya\",\"meghalaya\",\"meghalaya\",\"meghalaya\",\"meghalaya\",\"meghalaya\",\"meghalaya\",\"meghalaya\",\"meghalaya\",\"meghalaya\",\"meghalaya\",\"meghalaya\",\"meghalaya\",\"meghalaya\",\"meghalaya\",\"meghalaya\",\"meghalaya\",\"meghalaya\",\"meghalaya\",\"meghalaya\",\"meghalaya\",\"meghalaya\",\"meghalaya\",\"meghalaya\",\"meghalaya\",\"meghalaya\",\"meghalaya\",\"meghalaya\",\"meghalaya\",\"meghalaya\",\"meghalaya\",\"meghalaya\",\"meghalaya\",\"meghalaya\",\"meghalaya\",\"meghalaya\",\"meghalaya\",\"meghalaya\",\"meghalaya\",\"chhattisgarh\",\"chhattisgarh\",\"chhattisgarh\",\"chhattisgarh\",\"chhattisgarh\",\"chhattisgarh\",\"chhattisgarh\",\"chhattisgarh\",\"chhattisgarh\",\"chhattisgarh\",\"chhattisgarh\",\"chhattisgarh\",\"chhattisgarh\",\"chhattisgarh\",\"chhattisgarh\",\"chhattisgarh\",\"chhattisgarh\",\"chhattisgarh\",\"chhattisgarh\",\"chhattisgarh\",\"chhattisgarh\",\"chhattisgarh\",\"chhattisgarh\",\"chhattisgarh\",\"chhattisgarh\",\"chhattisgarh\",\"chhattisgarh\",\"chhattisgarh\",\"chhattisgarh\",\"chhattisgarh\",\"chhattisgarh\",\"chhattisgarh\",\"chhattisgarh\",\"chhattisgarh\",\"chhattisgarh\",\"chhattisgarh\",\"chhattisgarh\",\"chhattisgarh\",\"chhattisgarh\",\"chhattisgarh\",\"chhattisgarh\",\"chhattisgarh\",\"chhattisgarh\",\"chhattisgarh\",\"chhattisgarh\",\"chhattisgarh\",\"chhattisgarh\",\"chhattisgarh\",\"chhattisgarh\",\"chhattisgarh\",\"chhattisgarh\",\"chhattisgarh\",\"chhattisgarh\",\"chhattisgarh\",\"chhattisgarh\",\"chhattisgarh\",\"chhattisgarh\",\"chhattisgarh\",\"chhattisgarh\",\"chhattisgarh\",\"chhattisgarh\",\"chhattisgarh\",\"chhattisgarh\",\"chhattisgarh\",\"chhattisgarh\",\"chhattisgarh\",\"chhattisgarh\",\"chhattisgarh\",\"chhattisgarh\",\"chhattisgarh\",\"chhattisgarh\",\"chhattisgarh\",\"chhattisgarh\",\"chhattisgarh\",\"chhattisgarh\",\"chhattisgarh\",\"chhattisgarh\",\"chhattisgarh\",\"chhattisgarh\",\"chhattisgarh\",\"chhattisgarh\",\"chhattisgarh\",\"chhattisgarh\",\"chhattisgarh\",\"chhattisgarh\",\"chhattisgarh\",\"chhattisgarh\",\"chhattisgarh\",\"chhattisgarh\",\"chhattisgarh\",\"chhattisgarh\",\"chhattisgarh\",\"chhattisgarh\",\"chhattisgarh\",\"chhattisgarh\",\"chhattisgarh\",\"chhattisgarh\",\"chhattisgarh\",\"chhattisgarh\",\"chhattisgarh\",\"karnataka\",\"karnataka\",\"karnataka\",\"karnataka\",\"karnataka\",\"karnataka\",\"karnataka\",\"karnataka\",\"karnataka\",\"karnataka\",\"karnataka\",\"karnataka\",\"karnataka\",\"karnataka\",\"karnataka\",\"karnataka\",\"karnataka\",\"karnataka\",\"karnataka\",\"karnataka\",\"karnataka\",\"karnataka\",\"karnataka\",\"karnataka\",\"karnataka\",\"karnataka\",\"karnataka\",\"karnataka\",\"karnataka\",\"karnataka\",\"karnataka\",\"karnataka\",\"karnataka\",\"karnataka\",\"karnataka\",\"karnataka\",\"karnataka\",\"karnataka\",\"karnataka\",\"karnataka\",\"karnataka\",\"karnataka\",\"karnataka\",\"karnataka\",\"karnataka\",\"karnataka\",\"karnataka\",\"karnataka\",\"karnataka\",\"karnataka\",\"karnataka\",\"karnataka\",\"karnataka\",\"karnataka\",\"karnataka\",\"karnataka\",\"karnataka\",\"karnataka\",\"karnataka\",\"karnataka\",\"karnataka\",\"karnataka\",\"karnataka\",\"karnataka\",\"karnataka\",\"karnataka\",\"karnataka\",\"karnataka\",\"karnataka\",\"karnataka\",\"karnataka\",\"karnataka\",\"karnataka\",\"karnataka\",\"karnataka\",\"karnataka\",\"karnataka\",\"karnataka\",\"karnataka\",\"karnataka\",\"karnataka\",\"karnataka\",\"karnataka\",\"karnataka\",\"karnataka\",\"karnataka\",\"karnataka\",\"karnataka\",\"karnataka\",\"karnataka\",\"karnataka\",\"karnataka\",\"karnataka\",\"karnataka\",\"karnataka\",\"karnataka\",\"karnataka\",\"karnataka\",\"karnataka\",\"karnataka\",\"odisha\",\"odisha\",\"odisha\",\"odisha\",\"odisha\",\"odisha\",\"odisha\",\"odisha\",\"odisha\",\"odisha\",\"odisha\",\"odisha\",\"odisha\",\"odisha\",\"odisha\",\"odisha\",\"odisha\",\"odisha\",\"odisha\",\"odisha\",\"odisha\",\"odisha\",\"odisha\",\"odisha\",\"odisha\",\"odisha\",\"odisha\",\"odisha\",\"odisha\",\"odisha\",\"odisha\",\"odisha\",\"odisha\",\"odisha\",\"odisha\",\"odisha\",\"odisha\",\"odisha\",\"odisha\",\"odisha\",\"odisha\",\"odisha\",\"odisha\",\"odisha\",\"odisha\",\"odisha\",\"odisha\",\"odisha\",\"odisha\",\"odisha\",\"odisha\",\"odisha\",\"odisha\",\"odisha\",\"odisha\",\"odisha\",\"odisha\",\"odisha\",\"odisha\",\"odisha\",\"odisha\",\"odisha\",\"odisha\",\"odisha\",\"odisha\",\"odisha\",\"odisha\",\"odisha\",\"odisha\",\"odisha\",\"odisha\",\"odisha\",\"odisha\",\"odisha\",\"odisha\",\"odisha\",\"odisha\",\"odisha\",\"odisha\",\"odisha\",\"odisha\",\"odisha\",\"odisha\",\"odisha\",\"odisha\",\"odisha\",\"odisha\",\"odisha\",\"odisha\",\"odisha\",\"odisha\",\"odisha\",\"odisha\",\"odisha\",\"odisha\",\"odisha\",\"odisha\",\"odisha\",\"odisha\",\"odisha\",\"kerala\",\"kerala\",\"kerala\",\"kerala\",\"kerala\",\"kerala\",\"kerala\",\"kerala\",\"kerala\",\"kerala\",\"kerala\",\"kerala\",\"kerala\",\"kerala\",\"kerala\",\"kerala\",\"kerala\",\"kerala\",\"kerala\",\"kerala\",\"kerala\",\"kerala\",\"kerala\",\"kerala\",\"kerala\",\"kerala\",\"kerala\",\"kerala\",\"kerala\",\"kerala\",\"kerala\",\"kerala\",\"kerala\",\"kerala\",\"kerala\",\"kerala\",\"kerala\",\"kerala\",\"kerala\",\"kerala\",\"kerala\",\"kerala\",\"kerala\",\"kerala\",\"kerala\",\"kerala\",\"kerala\",\"kerala\",\"kerala\",\"kerala\",\"kerala\",\"kerala\",\"kerala\",\"kerala\",\"kerala\",\"kerala\",\"kerala\",\"kerala\",\"kerala\",\"kerala\",\"kerala\",\"kerala\",\"kerala\",\"kerala\",\"kerala\",\"kerala\",\"kerala\",\"kerala\",\"kerala\",\"kerala\",\"kerala\",\"kerala\",\"kerala\",\"kerala\",\"kerala\",\"kerala\",\"kerala\",\"kerala\",\"kerala\",\"kerala\",\"kerala\",\"kerala\",\"kerala\",\"kerala\",\"kerala\",\"kerala\",\"kerala\",\"kerala\",\"kerala\",\"kerala\",\"kerala\",\"kerala\",\"kerala\",\"kerala\",\"kerala\",\"kerala\",\"kerala\",\"kerala\",\"kerala\",\"kerala\",\"goa\",\"goa\",\"goa\",\"goa\",\"goa\",\"goa\",\"goa\",\"goa\",\"goa\",\"goa\",\"goa\",\"goa\",\"goa\",\"goa\",\"goa\",\"goa\",\"goa\",\"goa\",\"goa\",\"goa\",\"goa\",\"goa\",\"goa\",\"goa\",\"goa\",\"goa\",\"goa\",\"goa\",\"goa\",\"goa\",\"goa\",\"goa\",\"goa\",\"goa\",\"goa\",\"goa\",\"goa\",\"goa\",\"goa\",\"goa\",\"goa\",\"goa\",\"goa\",\"goa\",\"goa\",\"goa\",\"goa\",\"goa\",\"goa\",\"goa\",\"goa\",\"goa\",\"goa\",\"goa\",\"goa\",\"goa\",\"goa\",\"goa\",\"goa\",\"goa\",\"goa\",\"goa\",\"goa\",\"goa\",\"goa\",\"goa\",\"goa\",\"goa\",\"goa\",\"goa\",\"goa\",\"goa\",\"goa\",\"goa\",\"goa\",\"goa\",\"goa\",\"goa\",\"goa\",\"goa\",\"goa\",\"goa\",\"goa\",\"goa\",\"goa\",\"goa\",\"goa\",\"goa\",\"goa\",\"goa\",\"goa\",\"goa\",\"goa\",\"goa\",\"goa\",\"goa\",\"goa\",\"goa\",\"goa\",\"goa\",\"uttarakhand\",\"uttarakhand\",\"uttarakhand\",\"uttarakhand\",\"uttarakhand\",\"uttarakhand\",\"uttarakhand\",\"uttarakhand\",\"uttarakhand\",\"uttarakhand\",\"uttarakhand\",\"uttarakhand\",\"uttarakhand\",\"uttarakhand\",\"uttarakhand\",\"uttarakhand\",\"uttarakhand\",\"uttarakhand\",\"uttarakhand\",\"uttarakhand\",\"uttarakhand\",\"uttarakhand\",\"uttarakhand\",\"uttarakhand\",\"uttarakhand\",\"uttarakhand\",\"uttarakhand\",\"uttarakhand\",\"uttarakhand\",\"uttarakhand\",\"uttarakhand\",\"uttarakhand\",\"uttarakhand\",\"uttarakhand\",\"uttarakhand\",\"uttarakhand\",\"uttarakhand\",\"uttarakhand\",\"uttarakhand\",\"uttarakhand\",\"uttarakhand\",\"uttarakhand\",\"uttarakhand\",\"uttarakhand\",\"uttarakhand\",\"uttarakhand\",\"uttarakhand\",\"uttarakhand\",\"uttarakhand\",\"uttarakhand\",\"uttarakhand\",\"uttarakhand\",\"uttarakhand\",\"uttarakhand\",\"uttarakhand\",\"uttarakhand\",\"uttarakhand\",\"uttarakhand\",\"uttarakhand\",\"uttarakhand\",\"uttarakhand\",\"uttarakhand\",\"uttarakhand\",\"uttarakhand\",\"uttarakhand\",\"uttarakhand\",\"uttarakhand\",\"uttarakhand\",\"uttarakhand\",\"uttarakhand\",\"uttarakhand\",\"uttarakhand\",\"uttarakhand\",\"uttarakhand\",\"uttarakhand\",\"uttarakhand\",\"uttarakhand\",\"uttarakhand\",\"uttarakhand\",\"uttarakhand\",\"uttarakhand\",\"uttarakhand\",\"uttarakhand\",\"uttarakhand\",\"uttarakhand\",\"uttarakhand\",\"uttarakhand\",\"uttarakhand\",\"uttarakhand\",\"uttarakhand\",\"uttarakhand\",\"uttarakhand\",\"uttarakhand\",\"uttarakhand\",\"uttarakhand\",\"uttarakhand\",\"uttarakhand\",\"uttarakhand\",\"uttarakhand\",\"uttarakhand\",\"punjab\",\"punjab\",\"punjab\",\"punjab\",\"punjab\",\"punjab\",\"punjab\",\"punjab\",\"punjab\",\"punjab\",\"punjab\",\"punjab\",\"punjab\",\"punjab\",\"punjab\",\"punjab\",\"punjab\",\"punjab\",\"punjab\",\"punjab\",\"punjab\",\"punjab\",\"punjab\",\"punjab\",\"punjab\",\"punjab\",\"punjab\",\"punjab\",\"punjab\",\"punjab\",\"punjab\",\"punjab\",\"punjab\",\"punjab\",\"punjab\",\"punjab\",\"punjab\",\"punjab\",\"punjab\",\"punjab\",\"punjab\",\"punjab\",\"punjab\",\"punjab\",\"punjab\",\"punjab\",\"punjab\",\"punjab\",\"punjab\",\"punjab\",\"punjab\",\"punjab\",\"punjab\",\"punjab\",\"punjab\",\"punjab\",\"punjab\",\"punjab\",\"punjab\",\"punjab\",\"punjab\",\"punjab\",\"punjab\",\"punjab\",\"punjab\",\"punjab\",\"punjab\",\"punjab\",\"punjab\",\"punjab\",\"punjab\",\"punjab\",\"punjab\",\"punjab\",\"punjab\",\"punjab\",\"punjab\",\"punjab\",\"punjab\",\"punjab\",\"punjab\",\"punjab\",\"punjab\",\"punjab\",\"punjab\",\"punjab\",\"punjab\",\"punjab\",\"punjab\",\"punjab\",\"punjab\",\"punjab\",\"punjab\",\"punjab\",\"punjab\",\"punjab\",\"punjab\",\"punjab\",\"punjab\",\"punjab\",\"andhra-pradesh\",\"andhra-pradesh\",\"andhra-pradesh\",\"andhra-pradesh\",\"andhra-pradesh\",\"andhra-pradesh\",\"andhra-pradesh\",\"andhra-pradesh\",\"andhra-pradesh\",\"andhra-pradesh\",\"andhra-pradesh\",\"andhra-pradesh\",\"andhra-pradesh\",\"andhra-pradesh\",\"andhra-pradesh\",\"andhra-pradesh\",\"andhra-pradesh\",\"andhra-pradesh\",\"andhra-pradesh\",\"andhra-pradesh\",\"andhra-pradesh\",\"andhra-pradesh\",\"andhra-pradesh\",\"andhra-pradesh\",\"andhra-pradesh\",\"andhra-pradesh\",\"andhra-pradesh\",\"andhra-pradesh\",\"andhra-pradesh\",\"andhra-pradesh\",\"andhra-pradesh\",\"andhra-pradesh\",\"andhra-pradesh\",\"andhra-pradesh\",\"andhra-pradesh\",\"andhra-pradesh\",\"andhra-pradesh\",\"andhra-pradesh\",\"andhra-pradesh\",\"andhra-pradesh\",\"andhra-pradesh\",\"andhra-pradesh\",\"andhra-pradesh\",\"andhra-pradesh\",\"andhra-pradesh\",\"andhra-pradesh\",\"andhra-pradesh\",\"andhra-pradesh\",\"andhra-pradesh\",\"andhra-pradesh\",\"andhra-pradesh\",\"andhra-pradesh\",\"andhra-pradesh\",\"andhra-pradesh\",\"andhra-pradesh\",\"andhra-pradesh\",\"andhra-pradesh\",\"andhra-pradesh\",\"andhra-pradesh\",\"andhra-pradesh\",\"andhra-pradesh\",\"andhra-pradesh\",\"andhra-pradesh\",\"andhra-pradesh\",\"andhra-pradesh\",\"andhra-pradesh\",\"andhra-pradesh\",\"andhra-pradesh\",\"andhra-pradesh\",\"andhra-pradesh\",\"andhra-pradesh\",\"andhra-pradesh\",\"andhra-pradesh\",\"andhra-pradesh\",\"andhra-pradesh\",\"andhra-pradesh\",\"andhra-pradesh\",\"andhra-pradesh\",\"andhra-pradesh\",\"andhra-pradesh\",\"andhra-pradesh\",\"andhra-pradesh\",\"andhra-pradesh\",\"andhra-pradesh\",\"andhra-pradesh\",\"andhra-pradesh\",\"andhra-pradesh\",\"andhra-pradesh\",\"andhra-pradesh\",\"andhra-pradesh\",\"andhra-pradesh\",\"andhra-pradesh\",\"andhra-pradesh\",\"andhra-pradesh\",\"andhra-pradesh\",\"andhra-pradesh\",\"andhra-pradesh\",\"andhra-pradesh\",\"andhra-pradesh\",\"andhra-pradesh\",\"tamil-nadu\",\"tamil-nadu\",\"tamil-nadu\",\"tamil-nadu\",\"tamil-nadu\",\"tamil-nadu\",\"tamil-nadu\",\"tamil-nadu\",\"tamil-nadu\",\"tamil-nadu\",\"tamil-nadu\",\"tamil-nadu\",\"tamil-nadu\",\"tamil-nadu\",\"tamil-nadu\",\"tamil-nadu\",\"tamil-nadu\",\"tamil-nadu\",\"tamil-nadu\",\"tamil-nadu\",\"tamil-nadu\",\"tamil-nadu\",\"tamil-nadu\",\"tamil-nadu\",\"tamil-nadu\",\"tamil-nadu\",\"tamil-nadu\",\"tamil-nadu\",\"tamil-nadu\",\"tamil-nadu\",\"tamil-nadu\",\"tamil-nadu\",\"tamil-nadu\",\"tamil-nadu\",\"tamil-nadu\",\"tamil-nadu\",\"tamil-nadu\",\"tamil-nadu\",\"tamil-nadu\",\"tamil-nadu\",\"tamil-nadu\",\"tamil-nadu\",\"tamil-nadu\",\"tamil-nadu\",\"tamil-nadu\",\"tamil-nadu\",\"tamil-nadu\",\"tamil-nadu\",\"tamil-nadu\",\"tamil-nadu\",\"tamil-nadu\",\"tamil-nadu\",\"tamil-nadu\",\"tamil-nadu\",\"tamil-nadu\",\"tamil-nadu\",\"tamil-nadu\",\"tamil-nadu\",\"tamil-nadu\",\"tamil-nadu\",\"tamil-nadu\",\"tamil-nadu\",\"tamil-nadu\",\"tamil-nadu\",\"tamil-nadu\",\"tamil-nadu\",\"tamil-nadu\",\"tamil-nadu\",\"tamil-nadu\",\"tamil-nadu\",\"tamil-nadu\",\"tamil-nadu\",\"tamil-nadu\",\"tamil-nadu\",\"tamil-nadu\",\"tamil-nadu\",\"tamil-nadu\",\"tamil-nadu\",\"tamil-nadu\",\"tamil-nadu\",\"tamil-nadu\",\"tamil-nadu\",\"tamil-nadu\",\"tamil-nadu\",\"tamil-nadu\",\"tamil-nadu\",\"tamil-nadu\",\"tamil-nadu\",\"tamil-nadu\",\"tamil-nadu\",\"tamil-nadu\",\"tamil-nadu\",\"tamil-nadu\",\"tamil-nadu\",\"tamil-nadu\",\"tamil-nadu\",\"tamil-nadu\",\"tamil-nadu\",\"tamil-nadu\",\"tamil-nadu\",\"arunachal-pradesh\",\"arunachal-pradesh\",\"arunachal-pradesh\",\"arunachal-pradesh\",\"arunachal-pradesh\",\"arunachal-pradesh\",\"arunachal-pradesh\",\"arunachal-pradesh\",\"arunachal-pradesh\",\"arunachal-pradesh\",\"arunachal-pradesh\",\"arunachal-pradesh\",\"arunachal-pradesh\",\"arunachal-pradesh\",\"arunachal-pradesh\",\"arunachal-pradesh\",\"arunachal-pradesh\",\"arunachal-pradesh\",\"arunachal-pradesh\",\"arunachal-pradesh\",\"arunachal-pradesh\",\"arunachal-pradesh\",\"arunachal-pradesh\",\"arunachal-pradesh\",\"arunachal-pradesh\",\"arunachal-pradesh\",\"arunachal-pradesh\",\"arunachal-pradesh\",\"arunachal-pradesh\",\"arunachal-pradesh\",\"arunachal-pradesh\",\"arunachal-pradesh\",\"arunachal-pradesh\",\"arunachal-pradesh\",\"arunachal-pradesh\",\"arunachal-pradesh\",\"arunachal-pradesh\",\"arunachal-pradesh\",\"arunachal-pradesh\",\"arunachal-pradesh\",\"arunachal-pradesh\",\"arunachal-pradesh\",\"arunachal-pradesh\",\"arunachal-pradesh\",\"arunachal-pradesh\",\"arunachal-pradesh\",\"arunachal-pradesh\",\"arunachal-pradesh\",\"arunachal-pradesh\",\"arunachal-pradesh\",\"arunachal-pradesh\",\"arunachal-pradesh\",\"arunachal-pradesh\",\"arunachal-pradesh\",\"arunachal-pradesh\",\"arunachal-pradesh\",\"arunachal-pradesh\",\"arunachal-pradesh\",\"arunachal-pradesh\",\"arunachal-pradesh\",\"arunachal-pradesh\",\"arunachal-pradesh\",\"arunachal-pradesh\",\"arunachal-pradesh\",\"arunachal-pradesh\",\"arunachal-pradesh\",\"arunachal-pradesh\",\"arunachal-pradesh\",\"arunachal-pradesh\",\"arunachal-pradesh\",\"arunachal-pradesh\",\"arunachal-pradesh\",\"arunachal-pradesh\",\"arunachal-pradesh\",\"arunachal-pradesh\",\"arunachal-pradesh\",\"arunachal-pradesh\",\"arunachal-pradesh\",\"arunachal-pradesh\",\"arunachal-pradesh\",\"arunachal-pradesh\",\"arunachal-pradesh\",\"arunachal-pradesh\",\"arunachal-pradesh\",\"arunachal-pradesh\",\"arunachal-pradesh\",\"arunachal-pradesh\",\"arunachal-pradesh\",\"arunachal-pradesh\",\"arunachal-pradesh\",\"arunachal-pradesh\",\"arunachal-pradesh\",\"arunachal-pradesh\",\"arunachal-pradesh\",\"arunachal-pradesh\",\"arunachal-pradesh\",\"arunachal-pradesh\",\"arunachal-pradesh\",\"arunachal-pradesh\",\"arunachal-pradesh\",\"chandigarh\",\"chandigarh\",\"chandigarh\",\"chandigarh\",\"chandigarh\",\"chandigarh\",\"chandigarh\",\"chandigarh\",\"chandigarh\",\"chandigarh\",\"chandigarh\",\"chandigarh\",\"chandigarh\",\"chandigarh\",\"chandigarh\",\"chandigarh\",\"chandigarh\",\"chandigarh\",\"chandigarh\",\"chandigarh\",\"chandigarh\",\"chandigarh\",\"chandigarh\",\"chandigarh\",\"chandigarh\",\"chandigarh\",\"chandigarh\",\"chandigarh\",\"chandigarh\",\"chandigarh\",\"chandigarh\",\"chandigarh\",\"chandigarh\",\"chandigarh\",\"chandigarh\",\"chandigarh\",\"chandigarh\",\"chandigarh\",\"chandigarh\",\"chandigarh\",\"chandigarh\",\"chandigarh\",\"chandigarh\",\"chandigarh\",\"chandigarh\",\"chandigarh\",\"chandigarh\",\"chandigarh\",\"chandigarh\",\"chandigarh\",\"chandigarh\",\"chandigarh\",\"chandigarh\",\"chandigarh\",\"chandigarh\",\"chandigarh\",\"chandigarh\",\"chandigarh\",\"chandigarh\",\"chandigarh\",\"chandigarh\",\"chandigarh\",\"chandigarh\",\"chandigarh\",\"chandigarh\",\"chandigarh\",\"chandigarh\",\"chandigarh\",\"chandigarh\",\"chandigarh\",\"chandigarh\",\"chandigarh\",\"chandigarh\",\"chandigarh\",\"chandigarh\",\"chandigarh\",\"chandigarh\",\"chandigarh\",\"chandigarh\",\"chandigarh\",\"chandigarh\",\"chandigarh\",\"chandigarh\",\"chandigarh\",\"chandigarh\",\"chandigarh\",\"chandigarh\",\"chandigarh\",\"chandigarh\",\"chandigarh\",\"chandigarh\",\"chandigarh\",\"chandigarh\",\"chandigarh\",\"chandigarh\",\"chandigarh\",\"chandigarh\",\"chandigarh\",\"chandigarh\",\"chandigarh\",\"madhya-pradesh\",\"madhya-pradesh\",\"madhya-pradesh\",\"madhya-pradesh\",\"madhya-pradesh\",\"madhya-pradesh\",\"madhya-pradesh\",\"madhya-pradesh\",\"madhya-pradesh\",\"madhya-pradesh\",\"madhya-pradesh\",\"madhya-pradesh\",\"madhya-pradesh\",\"madhya-pradesh\",\"madhya-pradesh\",\"madhya-pradesh\",\"madhya-pradesh\",\"madhya-pradesh\",\"madhya-pradesh\",\"madhya-pradesh\",\"madhya-pradesh\",\"madhya-pradesh\",\"madhya-pradesh\",\"madhya-pradesh\",\"madhya-pradesh\",\"madhya-pradesh\",\"madhya-pradesh\",\"madhya-pradesh\",\"madhya-pradesh\",\"madhya-pradesh\",\"madhya-pradesh\",\"madhya-pradesh\",\"madhya-pradesh\",\"madhya-pradesh\",\"madhya-pradesh\",\"madhya-pradesh\",\"madhya-pradesh\",\"madhya-pradesh\",\"madhya-pradesh\",\"madhya-pradesh\",\"madhya-pradesh\",\"madhya-pradesh\",\"madhya-pradesh\",\"madhya-pradesh\",\"madhya-pradesh\",\"madhya-pradesh\",\"madhya-pradesh\",\"madhya-pradesh\",\"madhya-pradesh\",\"madhya-pradesh\",\"madhya-pradesh\",\"madhya-pradesh\",\"madhya-pradesh\",\"madhya-pradesh\",\"madhya-pradesh\",\"madhya-pradesh\",\"madhya-pradesh\",\"madhya-pradesh\",\"madhya-pradesh\",\"madhya-pradesh\",\"madhya-pradesh\",\"madhya-pradesh\",\"madhya-pradesh\",\"madhya-pradesh\",\"madhya-pradesh\",\"madhya-pradesh\",\"madhya-pradesh\",\"madhya-pradesh\",\"madhya-pradesh\",\"madhya-pradesh\",\"madhya-pradesh\",\"madhya-pradesh\",\"madhya-pradesh\",\"madhya-pradesh\",\"madhya-pradesh\",\"madhya-pradesh\",\"madhya-pradesh\",\"madhya-pradesh\",\"madhya-pradesh\",\"madhya-pradesh\",\"madhya-pradesh\",\"madhya-pradesh\",\"madhya-pradesh\",\"madhya-pradesh\",\"madhya-pradesh\",\"madhya-pradesh\",\"madhya-pradesh\",\"madhya-pradesh\",\"madhya-pradesh\",\"madhya-pradesh\",\"madhya-pradesh\",\"madhya-pradesh\",\"madhya-pradesh\",\"madhya-pradesh\",\"madhya-pradesh\",\"madhya-pradesh\",\"madhya-pradesh\",\"madhya-pradesh\",\"madhya-pradesh\",\"madhya-pradesh\",\"west-bengal\",\"west-bengal\",\"west-bengal\",\"west-bengal\",\"west-bengal\",\"west-bengal\",\"west-bengal\",\"west-bengal\",\"west-bengal\",\"west-bengal\",\"west-bengal\",\"west-bengal\",\"west-bengal\",\"west-bengal\",\"west-bengal\",\"west-bengal\",\"west-bengal\",\"west-bengal\",\"west-bengal\",\"west-bengal\",\"west-bengal\",\"west-bengal\",\"west-bengal\",\"west-bengal\",\"west-bengal\",\"west-bengal\",\"west-bengal\",\"west-bengal\",\"west-bengal\",\"west-bengal\",\"west-bengal\",\"west-bengal\",\"west-bengal\",\"west-bengal\",\"west-bengal\",\"west-bengal\",\"west-bengal\",\"west-bengal\",\"west-bengal\",\"west-bengal\",\"west-bengal\",\"west-bengal\",\"west-bengal\",\"west-bengal\",\"west-bengal\",\"west-bengal\",\"west-bengal\",\"west-bengal\",\"west-bengal\",\"west-bengal\",\"west-bengal\",\"west-bengal\",\"west-bengal\",\"west-bengal\",\"west-bengal\",\"west-bengal\",\"west-bengal\",\"west-bengal\",\"west-bengal\",\"west-bengal\",\"west-bengal\",\"west-bengal\",\"west-bengal\",\"west-bengal\",\"west-bengal\",\"west-bengal\",\"west-bengal\",\"west-bengal\",\"west-bengal\",\"west-bengal\",\"west-bengal\",\"west-bengal\",\"west-bengal\",\"west-bengal\",\"west-bengal\",\"west-bengal\",\"west-bengal\",\"west-bengal\",\"west-bengal\",\"west-bengal\",\"west-bengal\",\"west-bengal\",\"west-bengal\",\"west-bengal\",\"west-bengal\",\"west-bengal\",\"west-bengal\",\"west-bengal\",\"west-bengal\",\"west-bengal\",\"west-bengal\",\"west-bengal\",\"west-bengal\",\"west-bengal\",\"west-bengal\",\"west-bengal\",\"west-bengal\",\"west-bengal\",\"west-bengal\",\"west-bengal\",\"assam\",\"assam\",\"assam\",\"assam\",\"assam\",\"assam\",\"assam\",\"assam\",\"assam\",\"assam\",\"assam\",\"assam\",\"assam\",\"assam\",\"assam\",\"assam\",\"assam\",\"assam\",\"assam\",\"assam\",\"assam\",\"assam\",\"assam\",\"assam\",\"assam\",\"assam\",\"assam\",\"assam\",\"assam\",\"assam\",\"assam\",\"assam\",\"assam\",\"assam\",\"assam\",\"assam\",\"assam\",\"assam\",\"assam\",\"assam\",\"assam\",\"assam\",\"assam\",\"assam\",\"assam\",\"assam\",\"assam\",\"assam\",\"assam\",\"assam\",\"assam\",\"assam\",\"assam\",\"assam\",\"assam\",\"assam\",\"assam\",\"assam\",\"assam\",\"assam\",\"assam\",\"assam\",\"assam\",\"assam\",\"assam\",\"assam\",\"assam\",\"assam\",\"assam\",\"assam\",\"assam\",\"assam\",\"assam\",\"assam\",\"assam\",\"assam\",\"assam\",\"assam\",\"assam\",\"assam\",\"assam\",\"assam\",\"assam\",\"assam\",\"assam\",\"assam\",\"assam\",\"assam\",\"assam\",\"assam\",\"assam\",\"assam\",\"assam\",\"assam\",\"assam\",\"assam\",\"assam\",\"assam\",\"assam\",\"assam\",\"uttar-pradesh\",\"uttar-pradesh\",\"uttar-pradesh\",\"uttar-pradesh\",\"uttar-pradesh\",\"uttar-pradesh\",\"uttar-pradesh\",\"uttar-pradesh\",\"uttar-pradesh\",\"uttar-pradesh\",\"uttar-pradesh\",\"uttar-pradesh\",\"uttar-pradesh\",\"uttar-pradesh\",\"uttar-pradesh\",\"uttar-pradesh\",\"uttar-pradesh\",\"uttar-pradesh\",\"uttar-pradesh\",\"uttar-pradesh\",\"uttar-pradesh\",\"uttar-pradesh\",\"uttar-pradesh\",\"uttar-pradesh\",\"uttar-pradesh\",\"uttar-pradesh\",\"uttar-pradesh\",\"uttar-pradesh\",\"uttar-pradesh\",\"uttar-pradesh\",\"uttar-pradesh\",\"uttar-pradesh\",\"uttar-pradesh\",\"uttar-pradesh\",\"uttar-pradesh\",\"uttar-pradesh\",\"uttar-pradesh\",\"uttar-pradesh\",\"uttar-pradesh\",\"uttar-pradesh\",\"uttar-pradesh\",\"uttar-pradesh\",\"uttar-pradesh\",\"uttar-pradesh\",\"uttar-pradesh\",\"uttar-pradesh\",\"uttar-pradesh\",\"uttar-pradesh\",\"uttar-pradesh\",\"uttar-pradesh\",\"uttar-pradesh\",\"uttar-pradesh\",\"uttar-pradesh\",\"uttar-pradesh\",\"uttar-pradesh\",\"uttar-pradesh\",\"uttar-pradesh\",\"uttar-pradesh\",\"uttar-pradesh\",\"uttar-pradesh\",\"uttar-pradesh\",\"uttar-pradesh\",\"uttar-pradesh\",\"uttar-pradesh\",\"uttar-pradesh\",\"uttar-pradesh\",\"uttar-pradesh\",\"uttar-pradesh\",\"uttar-pradesh\",\"uttar-pradesh\",\"uttar-pradesh\",\"uttar-pradesh\",\"uttar-pradesh\",\"uttar-pradesh\",\"uttar-pradesh\",\"uttar-pradesh\",\"uttar-pradesh\",\"uttar-pradesh\",\"uttar-pradesh\",\"uttar-pradesh\",\"uttar-pradesh\",\"uttar-pradesh\",\"uttar-pradesh\",\"uttar-pradesh\",\"uttar-pradesh\",\"uttar-pradesh\",\"uttar-pradesh\",\"uttar-pradesh\",\"uttar-pradesh\",\"uttar-pradesh\",\"uttar-pradesh\",\"uttar-pradesh\",\"uttar-pradesh\",\"uttar-pradesh\",\"uttar-pradesh\",\"uttar-pradesh\",\"uttar-pradesh\",\"uttar-pradesh\",\"uttar-pradesh\",\"uttar-pradesh\",\"gujarat\",\"gujarat\",\"gujarat\",\"gujarat\",\"gujarat\",\"gujarat\",\"gujarat\",\"gujarat\",\"gujarat\",\"gujarat\",\"gujarat\",\"gujarat\",\"gujarat\",\"gujarat\",\"gujarat\",\"gujarat\",\"gujarat\",\"gujarat\",\"gujarat\",\"gujarat\",\"gujarat\",\"gujarat\",\"gujarat\",\"gujarat\",\"gujarat\",\"gujarat\",\"gujarat\",\"gujarat\",\"gujarat\",\"gujarat\",\"gujarat\",\"gujarat\",\"gujarat\",\"gujarat\",\"gujarat\",\"gujarat\",\"gujarat\",\"gujarat\",\"gujarat\",\"gujarat\",\"gujarat\",\"gujarat\",\"gujarat\",\"gujarat\",\"gujarat\",\"gujarat\",\"gujarat\",\"gujarat\",\"gujarat\",\"gujarat\",\"gujarat\",\"gujarat\",\"gujarat\",\"gujarat\",\"gujarat\",\"gujarat\",\"gujarat\",\"gujarat\",\"gujarat\",\"gujarat\",\"gujarat\",\"gujarat\",\"gujarat\",\"gujarat\",\"gujarat\",\"gujarat\",\"gujarat\",\"gujarat\",\"gujarat\",\"gujarat\",\"gujarat\",\"gujarat\",\"gujarat\",\"gujarat\",\"gujarat\",\"gujarat\",\"gujarat\",\"gujarat\",\"gujarat\",\"gujarat\",\"gujarat\",\"gujarat\",\"gujarat\",\"gujarat\",\"gujarat\",\"gujarat\",\"gujarat\",\"gujarat\",\"gujarat\",\"gujarat\",\"gujarat\",\"gujarat\",\"gujarat\",\"gujarat\",\"gujarat\",\"gujarat\",\"gujarat\",\"gujarat\",\"gujarat\",\"gujarat\",\"manipur\",\"manipur\",\"manipur\",\"manipur\",\"manipur\",\"manipur\",\"manipur\",\"manipur\",\"manipur\",\"manipur\",\"manipur\",\"manipur\",\"manipur\",\"manipur\",\"manipur\",\"manipur\",\"manipur\",\"manipur\",\"manipur\",\"manipur\",\"manipur\",\"manipur\",\"manipur\",\"manipur\",\"manipur\",\"manipur\",\"manipur\",\"manipur\",\"manipur\",\"manipur\",\"manipur\",\"manipur\",\"manipur\",\"manipur\",\"manipur\",\"manipur\",\"manipur\",\"manipur\",\"manipur\",\"manipur\",\"manipur\",\"manipur\",\"manipur\",\"manipur\",\"manipur\",\"manipur\",\"manipur\",\"manipur\",\"manipur\",\"manipur\",\"manipur\",\"manipur\",\"manipur\",\"manipur\",\"manipur\",\"manipur\",\"manipur\",\"manipur\",\"manipur\",\"manipur\",\"manipur\",\"manipur\",\"manipur\",\"manipur\",\"manipur\",\"manipur\",\"manipur\",\"manipur\",\"manipur\",\"manipur\",\"manipur\",\"manipur\",\"manipur\",\"manipur\",\"manipur\",\"manipur\",\"manipur\",\"manipur\",\"manipur\",\"manipur\",\"manipur\",\"manipur\",\"manipur\",\"manipur\",\"manipur\",\"manipur\",\"manipur\",\"manipur\",\"manipur\",\"manipur\",\"manipur\",\"manipur\",\"manipur\",\"manipur\",\"manipur\",\"manipur\",\"manipur\",\"manipur\",\"manipur\",\"manipur\",\"tripura\",\"tripura\",\"tripura\",\"tripura\",\"tripura\",\"tripura\",\"tripura\",\"tripura\",\"tripura\",\"tripura\",\"tripura\",\"tripura\",\"tripura\",\"tripura\",\"tripura\",\"tripura\",\"tripura\",\"tripura\",\"tripura\",\"tripura\",\"tripura\",\"tripura\",\"tripura\",\"tripura\",\"tripura\",\"tripura\",\"tripura\",\"tripura\",\"tripura\",\"tripura\",\"tripura\",\"tripura\",\"tripura\",\"tripura\",\"tripura\",\"tripura\",\"tripura\",\"tripura\",\"tripura\",\"tripura\",\"tripura\",\"tripura\",\"tripura\",\"tripura\",\"tripura\",\"tripura\",\"tripura\",\"tripura\",\"tripura\",\"tripura\",\"tripura\",\"tripura\",\"tripura\",\"tripura\",\"tripura\",\"tripura\",\"tripura\",\"tripura\",\"tripura\",\"tripura\",\"tripura\",\"tripura\",\"tripura\",\"tripura\",\"tripura\",\"tripura\",\"tripura\",\"tripura\",\"tripura\",\"tripura\",\"tripura\",\"tripura\",\"tripura\",\"tripura\",\"tripura\",\"tripura\",\"tripura\",\"tripura\",\"tripura\",\"tripura\",\"tripura\",\"tripura\",\"tripura\",\"tripura\",\"tripura\",\"tripura\",\"tripura\",\"tripura\",\"tripura\",\"tripura\",\"tripura\",\"tripura\",\"tripura\",\"tripura\",\"tripura\",\"tripura\",\"tripura\",\"tripura\",\"tripura\",\"tripura\",\"puducherry\",\"puducherry\",\"puducherry\",\"puducherry\",\"puducherry\",\"puducherry\",\"puducherry\",\"puducherry\",\"puducherry\",\"puducherry\",\"puducherry\",\"puducherry\",\"puducherry\",\"puducherry\",\"puducherry\",\"puducherry\",\"puducherry\",\"puducherry\",\"puducherry\",\"puducherry\",\"puducherry\",\"puducherry\",\"puducherry\",\"puducherry\",\"puducherry\",\"puducherry\",\"puducherry\",\"puducherry\",\"puducherry\",\"puducherry\",\"puducherry\",\"puducherry\",\"puducherry\",\"puducherry\",\"puducherry\",\"puducherry\",\"puducherry\",\"puducherry\",\"puducherry\",\"puducherry\",\"puducherry\",\"puducherry\",\"puducherry\",\"puducherry\",\"puducherry\",\"puducherry\",\"puducherry\",\"puducherry\",\"puducherry\",\"puducherry\",\"puducherry\",\"puducherry\",\"puducherry\",\"puducherry\",\"puducherry\",\"puducherry\",\"puducherry\",\"puducherry\",\"puducherry\",\"puducherry\",\"puducherry\",\"puducherry\",\"puducherry\",\"puducherry\",\"puducherry\",\"puducherry\",\"puducherry\",\"puducherry\",\"puducherry\",\"puducherry\",\"puducherry\",\"puducherry\",\"puducherry\",\"puducherry\",\"puducherry\",\"puducherry\",\"puducherry\",\"puducherry\",\"puducherry\",\"puducherry\",\"puducherry\",\"puducherry\",\"puducherry\",\"puducherry\",\"puducherry\",\"puducherry\",\"puducherry\",\"puducherry\",\"puducherry\",\"puducherry\",\"puducherry\",\"puducherry\",\"puducherry\",\"puducherry\",\"puducherry\",\"puducherry\",\"puducherry\",\"puducherry\",\"puducherry\",\"puducherry\",\"bihar\",\"bihar\",\"bihar\",\"bihar\",\"bihar\",\"bihar\",\"bihar\",\"bihar\",\"bihar\",\"bihar\",\"bihar\",\"bihar\",\"bihar\",\"bihar\",\"bihar\",\"bihar\",\"bihar\",\"bihar\",\"bihar\",\"bihar\",\"bihar\",\"bihar\",\"bihar\",\"bihar\",\"bihar\",\"bihar\",\"bihar\",\"bihar\",\"bihar\",\"bihar\",\"bihar\",\"bihar\",\"bihar\",\"bihar\",\"bihar\",\"bihar\",\"bihar\",\"bihar\",\"bihar\",\"bihar\",\"bihar\",\"bihar\",\"bihar\",\"bihar\",\"bihar\",\"bihar\",\"bihar\",\"bihar\",\"bihar\",\"bihar\",\"bihar\",\"bihar\",\"bihar\",\"bihar\",\"bihar\",\"bihar\",\"bihar\",\"bihar\",\"bihar\",\"bihar\",\"bihar\",\"bihar\",\"bihar\",\"bihar\",\"bihar\",\"bihar\",\"bihar\",\"bihar\",\"bihar\",\"bihar\",\"bihar\",\"bihar\",\"bihar\",\"bihar\",\"bihar\",\"bihar\",\"bihar\",\"bihar\",\"bihar\",\"bihar\",\"bihar\",\"bihar\",\"bihar\",\"bihar\",\"bihar\",\"bihar\",\"bihar\",\"bihar\",\"bihar\",\"bihar\",\"bihar\",\"bihar\",\"bihar\",\"bihar\",\"bihar\",\"bihar\",\"bihar\",\"bihar\",\"bihar\",\"bihar\",\"jammu-&-kashmir\",\"jammu-&-kashmir\",\"jammu-&-kashmir\",\"jammu-&-kashmir\",\"jammu-&-kashmir\",\"jammu-&-kashmir\",\"jammu-&-kashmir\",\"jammu-&-kashmir\",\"jammu-&-kashmir\",\"jammu-&-kashmir\",\"jammu-&-kashmir\",\"jammu-&-kashmir\",\"jammu-&-kashmir\",\"jammu-&-kashmir\",\"jammu-&-kashmir\",\"jammu-&-kashmir\",\"jammu-&-kashmir\",\"jammu-&-kashmir\",\"jammu-&-kashmir\",\"jammu-&-kashmir\",\"jammu-&-kashmir\",\"jammu-&-kashmir\",\"jammu-&-kashmir\",\"jammu-&-kashmir\",\"jammu-&-kashmir\",\"jammu-&-kashmir\",\"jammu-&-kashmir\",\"jammu-&-kashmir\",\"jammu-&-kashmir\",\"jammu-&-kashmir\",\"jammu-&-kashmir\",\"jammu-&-kashmir\",\"jammu-&-kashmir\",\"jammu-&-kashmir\",\"jammu-&-kashmir\",\"jammu-&-kashmir\",\"jammu-&-kashmir\",\"jammu-&-kashmir\",\"jammu-&-kashmir\",\"jammu-&-kashmir\",\"jammu-&-kashmir\",\"jammu-&-kashmir\",\"jammu-&-kashmir\",\"jammu-&-kashmir\",\"jammu-&-kashmir\",\"jammu-&-kashmir\",\"jammu-&-kashmir\",\"jammu-&-kashmir\",\"jammu-&-kashmir\",\"jammu-&-kashmir\",\"jammu-&-kashmir\",\"jammu-&-kashmir\",\"jammu-&-kashmir\",\"jammu-&-kashmir\",\"jammu-&-kashmir\",\"jammu-&-kashmir\",\"jammu-&-kashmir\",\"jammu-&-kashmir\",\"jammu-&-kashmir\",\"jammu-&-kashmir\",\"jammu-&-kashmir\",\"jammu-&-kashmir\",\"jammu-&-kashmir\",\"jammu-&-kashmir\",\"jammu-&-kashmir\",\"jammu-&-kashmir\",\"jammu-&-kashmir\",\"jammu-&-kashmir\",\"jammu-&-kashmir\",\"jammu-&-kashmir\",\"jammu-&-kashmir\",\"jammu-&-kashmir\",\"jammu-&-kashmir\",\"jammu-&-kashmir\",\"jammu-&-kashmir\",\"jammu-&-kashmir\",\"jammu-&-kashmir\",\"jammu-&-kashmir\",\"jammu-&-kashmir\",\"jammu-&-kashmir\",\"jammu-&-kashmir\",\"jammu-&-kashmir\",\"jammu-&-kashmir\",\"jammu-&-kashmir\",\"jammu-&-kashmir\",\"jammu-&-kashmir\",\"jammu-&-kashmir\",\"jammu-&-kashmir\",\"jammu-&-kashmir\",\"jammu-&-kashmir\",\"jammu-&-kashmir\",\"jammu-&-kashmir\",\"jammu-&-kashmir\",\"jammu-&-kashmir\",\"jammu-&-kashmir\",\"jammu-&-kashmir\",\"jammu-&-kashmir\",\"jammu-&-kashmir\",\"jammu-&-kashmir\",\"jammu-&-kashmir\",\"nagaland\",\"nagaland\",\"nagaland\",\"nagaland\",\"nagaland\",\"nagaland\",\"nagaland\",\"nagaland\",\"nagaland\",\"nagaland\",\"nagaland\",\"nagaland\",\"nagaland\",\"nagaland\",\"nagaland\",\"nagaland\",\"nagaland\",\"nagaland\",\"nagaland\",\"nagaland\",\"nagaland\",\"nagaland\",\"nagaland\",\"nagaland\",\"nagaland\",\"nagaland\",\"nagaland\",\"nagaland\",\"nagaland\",\"nagaland\",\"nagaland\",\"nagaland\",\"nagaland\",\"nagaland\",\"nagaland\",\"nagaland\",\"nagaland\",\"nagaland\",\"nagaland\",\"nagaland\",\"nagaland\",\"nagaland\",\"nagaland\",\"nagaland\",\"nagaland\",\"nagaland\",\"nagaland\",\"nagaland\",\"nagaland\",\"nagaland\",\"nagaland\",\"nagaland\",\"nagaland\",\"nagaland\",\"nagaland\",\"nagaland\",\"nagaland\",\"nagaland\",\"nagaland\",\"nagaland\",\"nagaland\",\"nagaland\",\"nagaland\",\"nagaland\",\"nagaland\",\"nagaland\",\"nagaland\",\"nagaland\",\"nagaland\",\"nagaland\",\"nagaland\",\"nagaland\",\"nagaland\",\"nagaland\",\"nagaland\",\"nagaland\",\"nagaland\",\"nagaland\",\"nagaland\",\"nagaland\",\"nagaland\",\"nagaland\",\"nagaland\",\"nagaland\",\"nagaland\",\"nagaland\",\"nagaland\",\"nagaland\",\"nagaland\",\"nagaland\",\"nagaland\",\"nagaland\",\"nagaland\",\"nagaland\",\"nagaland\",\"nagaland\",\"nagaland\",\"nagaland\",\"nagaland\",\"nagaland\",\"rajasthan\",\"rajasthan\",\"rajasthan\",\"rajasthan\",\"rajasthan\",\"rajasthan\",\"rajasthan\",\"rajasthan\",\"rajasthan\",\"rajasthan\",\"rajasthan\",\"rajasthan\",\"rajasthan\",\"rajasthan\",\"rajasthan\",\"rajasthan\",\"rajasthan\",\"rajasthan\",\"rajasthan\",\"rajasthan\",\"rajasthan\",\"rajasthan\",\"rajasthan\",\"rajasthan\",\"rajasthan\",\"rajasthan\",\"rajasthan\",\"rajasthan\",\"rajasthan\",\"rajasthan\",\"rajasthan\",\"rajasthan\",\"rajasthan\",\"rajasthan\",\"rajasthan\",\"rajasthan\",\"rajasthan\",\"rajasthan\",\"rajasthan\",\"rajasthan\",\"rajasthan\",\"rajasthan\",\"rajasthan\",\"rajasthan\",\"rajasthan\",\"rajasthan\",\"rajasthan\",\"rajasthan\",\"rajasthan\",\"rajasthan\",\"rajasthan\",\"rajasthan\",\"rajasthan\",\"rajasthan\",\"rajasthan\",\"rajasthan\",\"rajasthan\",\"rajasthan\",\"rajasthan\",\"rajasthan\",\"rajasthan\",\"rajasthan\",\"rajasthan\",\"rajasthan\",\"rajasthan\",\"rajasthan\",\"rajasthan\",\"rajasthan\",\"rajasthan\",\"rajasthan\",\"rajasthan\",\"rajasthan\",\"rajasthan\",\"rajasthan\",\"rajasthan\",\"rajasthan\",\"rajasthan\",\"rajasthan\",\"rajasthan\",\"rajasthan\",\"rajasthan\",\"rajasthan\",\"rajasthan\",\"rajasthan\",\"rajasthan\",\"rajasthan\",\"rajasthan\",\"rajasthan\",\"rajasthan\",\"rajasthan\",\"rajasthan\",\"rajasthan\",\"rajasthan\",\"rajasthan\",\"rajasthan\",\"rajasthan\",\"rajasthan\",\"rajasthan\",\"rajasthan\",\"rajasthan\",\"delhi\",\"delhi\",\"delhi\",\"delhi\",\"delhi\",\"delhi\",\"delhi\",\"delhi\",\"delhi\",\"delhi\",\"delhi\",\"delhi\",\"delhi\",\"delhi\",\"delhi\",\"delhi\",\"delhi\",\"delhi\",\"delhi\",\"delhi\",\"delhi\",\"delhi\",\"delhi\",\"delhi\",\"delhi\",\"delhi\",\"delhi\",\"delhi\",\"delhi\",\"delhi\",\"delhi\",\"delhi\",\"delhi\",\"delhi\",\"delhi\",\"delhi\",\"delhi\",\"delhi\",\"delhi\",\"delhi\",\"delhi\",\"delhi\",\"delhi\",\"delhi\",\"delhi\",\"delhi\",\"delhi\",\"delhi\",\"delhi\",\"delhi\",\"delhi\",\"delhi\",\"delhi\",\"delhi\",\"delhi\",\"delhi\",\"delhi\",\"delhi\",\"delhi\",\"delhi\",\"delhi\",\"delhi\",\"delhi\",\"delhi\",\"delhi\",\"delhi\",\"delhi\",\"delhi\",\"delhi\",\"delhi\",\"delhi\",\"delhi\",\"delhi\",\"delhi\",\"delhi\",\"delhi\",\"delhi\",\"delhi\",\"delhi\",\"delhi\",\"delhi\",\"delhi\",\"delhi\",\"delhi\",\"delhi\",\"delhi\",\"delhi\",\"delhi\",\"delhi\",\"delhi\",\"delhi\",\"delhi\",\"delhi\",\"delhi\",\"delhi\",\"delhi\",\"delhi\",\"delhi\",\"delhi\",\"delhi\",\"maharashtra\",\"maharashtra\",\"maharashtra\",\"maharashtra\",\"maharashtra\",\"maharashtra\",\"maharashtra\",\"maharashtra\",\"maharashtra\",\"maharashtra\",\"maharashtra\",\"maharashtra\",\"maharashtra\",\"maharashtra\",\"maharashtra\",\"maharashtra\",\"maharashtra\",\"maharashtra\",\"maharashtra\",\"maharashtra\",\"maharashtra\",\"maharashtra\",\"maharashtra\",\"maharashtra\",\"maharashtra\",\"maharashtra\",\"maharashtra\",\"maharashtra\",\"maharashtra\",\"maharashtra\",\"maharashtra\",\"maharashtra\",\"maharashtra\",\"maharashtra\",\"maharashtra\",\"maharashtra\",\"maharashtra\",\"maharashtra\",\"maharashtra\",\"maharashtra\",\"maharashtra\",\"maharashtra\",\"maharashtra\",\"maharashtra\",\"maharashtra\",\"maharashtra\",\"maharashtra\",\"maharashtra\",\"maharashtra\",\"maharashtra\",\"maharashtra\",\"maharashtra\",\"maharashtra\",\"maharashtra\",\"maharashtra\",\"maharashtra\",\"maharashtra\",\"maharashtra\",\"maharashtra\",\"maharashtra\",\"maharashtra\",\"maharashtra\",\"maharashtra\",\"maharashtra\",\"maharashtra\",\"maharashtra\",\"maharashtra\",\"maharashtra\",\"maharashtra\",\"maharashtra\",\"maharashtra\",\"maharashtra\",\"maharashtra\",\"maharashtra\",\"maharashtra\",\"maharashtra\",\"maharashtra\",\"maharashtra\",\"maharashtra\",\"maharashtra\",\"maharashtra\",\"maharashtra\",\"maharashtra\",\"maharashtra\",\"maharashtra\",\"maharashtra\",\"maharashtra\",\"maharashtra\",\"maharashtra\",\"maharashtra\",\"maharashtra\",\"maharashtra\",\"maharashtra\",\"maharashtra\",\"maharashtra\",\"maharashtra\",\"maharashtra\",\"maharashtra\",\"maharashtra\",\"maharashtra\",\"telangana\",\"telangana\",\"telangana\",\"telangana\",\"telangana\",\"telangana\",\"telangana\",\"telangana\",\"telangana\",\"telangana\",\"telangana\",\"telangana\",\"telangana\",\"telangana\",\"telangana\",\"telangana\",\"telangana\",\"telangana\",\"telangana\",\"telangana\",\"telangana\",\"telangana\",\"telangana\",\"telangana\",\"telangana\",\"telangana\",\"telangana\",\"telangana\",\"telangana\",\"telangana\",\"telangana\",\"telangana\",\"telangana\",\"telangana\",\"telangana\",\"telangana\",\"telangana\",\"telangana\",\"telangana\",\"telangana\",\"telangana\",\"telangana\",\"telangana\",\"telangana\",\"telangana\",\"telangana\",\"telangana\",\"telangana\",\"telangana\",\"telangana\",\"telangana\",\"telangana\",\"telangana\",\"telangana\",\"telangana\",\"telangana\",\"telangana\",\"telangana\",\"telangana\",\"telangana\",\"telangana\",\"telangana\",\"telangana\",\"telangana\",\"telangana\",\"telangana\",\"telangana\",\"telangana\",\"telangana\",\"telangana\",\"telangana\",\"telangana\",\"telangana\",\"telangana\",\"telangana\",\"telangana\",\"telangana\",\"telangana\",\"telangana\",\"telangana\",\"telangana\",\"telangana\",\"telangana\",\"telangana\",\"telangana\",\"telangana\",\"telangana\",\"telangana\",\"telangana\",\"telangana\",\"telangana\",\"telangana\",\"telangana\",\"telangana\",\"telangana\",\"telangana\",\"telangana\",\"telangana\",\"telangana\",\"telangana\",\"andaman-&-nicobar-islands\",\"andaman-&-nicobar-islands\",\"andaman-&-nicobar-islands\",\"andaman-&-nicobar-islands\",\"andaman-&-nicobar-islands\",\"andaman-&-nicobar-islands\",\"andaman-&-nicobar-islands\",\"andaman-&-nicobar-islands\",\"andaman-&-nicobar-islands\",\"andaman-&-nicobar-islands\",\"andaman-&-nicobar-islands\",\"andaman-&-nicobar-islands\",\"andaman-&-nicobar-islands\",\"andaman-&-nicobar-islands\",\"andaman-&-nicobar-islands\",\"andaman-&-nicobar-islands\",\"andaman-&-nicobar-islands\",\"andaman-&-nicobar-islands\",\"andaman-&-nicobar-islands\",\"andaman-&-nicobar-islands\",\"andaman-&-nicobar-islands\",\"andaman-&-nicobar-islands\",\"andaman-&-nicobar-islands\",\"andaman-&-nicobar-islands\",\"andaman-&-nicobar-islands\",\"andaman-&-nicobar-islands\",\"andaman-&-nicobar-islands\",\"andaman-&-nicobar-islands\",\"andaman-&-nicobar-islands\",\"andaman-&-nicobar-islands\",\"andaman-&-nicobar-islands\",\"andaman-&-nicobar-islands\",\"andaman-&-nicobar-islands\",\"andaman-&-nicobar-islands\",\"andaman-&-nicobar-islands\",\"andaman-&-nicobar-islands\",\"andaman-&-nicobar-islands\",\"andaman-&-nicobar-islands\",\"andaman-&-nicobar-islands\",\"andaman-&-nicobar-islands\",\"andaman-&-nicobar-islands\",\"andaman-&-nicobar-islands\",\"andaman-&-nicobar-islands\",\"andaman-&-nicobar-islands\",\"andaman-&-nicobar-islands\",\"andaman-&-nicobar-islands\",\"andaman-&-nicobar-islands\",\"andaman-&-nicobar-islands\",\"andaman-&-nicobar-islands\",\"andaman-&-nicobar-islands\",\"andaman-&-nicobar-islands\",\"andaman-&-nicobar-islands\",\"andaman-&-nicobar-islands\",\"andaman-&-nicobar-islands\",\"andaman-&-nicobar-islands\",\"andaman-&-nicobar-islands\",\"andaman-&-nicobar-islands\",\"andaman-&-nicobar-islands\",\"andaman-&-nicobar-islands\",\"andaman-&-nicobar-islands\",\"andaman-&-nicobar-islands\",\"andaman-&-nicobar-islands\",\"andaman-&-nicobar-islands\",\"andaman-&-nicobar-islands\",\"andaman-&-nicobar-islands\",\"andaman-&-nicobar-islands\",\"andaman-&-nicobar-islands\",\"andaman-&-nicobar-islands\",\"andaman-&-nicobar-islands\",\"andaman-&-nicobar-islands\",\"andaman-&-nicobar-islands\",\"andaman-&-nicobar-islands\",\"andaman-&-nicobar-islands\",\"andaman-&-nicobar-islands\",\"andaman-&-nicobar-islands\",\"andaman-&-nicobar-islands\",\"andaman-&-nicobar-islands\",\"andaman-&-nicobar-islands\",\"andaman-&-nicobar-islands\",\"andaman-&-nicobar-islands\",\"andaman-&-nicobar-islands\",\"andaman-&-nicobar-islands\",\"andaman-&-nicobar-islands\",\"andaman-&-nicobar-islands\",\"andaman-&-nicobar-islands\",\"andaman-&-nicobar-islands\",\"andaman-&-nicobar-islands\",\"andaman-&-nicobar-islands\",\"andaman-&-nicobar-islands\",\"andaman-&-nicobar-islands\",\"andaman-&-nicobar-islands\",\"andaman-&-nicobar-islands\",\"andaman-&-nicobar-islands\",\"andaman-&-nicobar-islands\",\"andaman-&-nicobar-islands\",\"andaman-&-nicobar-islands\",\"andaman-&-nicobar-islands\",\"andaman-&-nicobar-islands\",\"andaman-&-nicobar-islands\",\"andaman-&-nicobar-islands\",\"himachal-pradesh\",\"himachal-pradesh\",\"himachal-pradesh\",\"himachal-pradesh\",\"himachal-pradesh\",\"himachal-pradesh\",\"himachal-pradesh\",\"himachal-pradesh\",\"himachal-pradesh\",\"himachal-pradesh\",\"himachal-pradesh\",\"himachal-pradesh\",\"himachal-pradesh\",\"himachal-pradesh\",\"himachal-pradesh\",\"himachal-pradesh\",\"himachal-pradesh\",\"himachal-pradesh\",\"himachal-pradesh\",\"himachal-pradesh\",\"himachal-pradesh\",\"himachal-pradesh\",\"himachal-pradesh\",\"himachal-pradesh\",\"himachal-pradesh\",\"himachal-pradesh\",\"himachal-pradesh\",\"himachal-pradesh\",\"himachal-pradesh\",\"himachal-pradesh\",\"himachal-pradesh\",\"himachal-pradesh\",\"himachal-pradesh\",\"himachal-pradesh\",\"himachal-pradesh\",\"himachal-pradesh\",\"himachal-pradesh\",\"himachal-pradesh\",\"himachal-pradesh\",\"himachal-pradesh\",\"himachal-pradesh\",\"himachal-pradesh\",\"himachal-pradesh\",\"himachal-pradesh\",\"himachal-pradesh\",\"himachal-pradesh\",\"himachal-pradesh\",\"himachal-pradesh\",\"himachal-pradesh\",\"himachal-pradesh\",\"himachal-pradesh\",\"himachal-pradesh\",\"himachal-pradesh\",\"himachal-pradesh\",\"himachal-pradesh\",\"himachal-pradesh\",\"himachal-pradesh\",\"himachal-pradesh\",\"himachal-pradesh\",\"himachal-pradesh\",\"himachal-pradesh\",\"himachal-pradesh\",\"himachal-pradesh\",\"himachal-pradesh\",\"himachal-pradesh\",\"himachal-pradesh\",\"himachal-pradesh\",\"himachal-pradesh\",\"himachal-pradesh\",\"himachal-pradesh\",\"himachal-pradesh\",\"himachal-pradesh\",\"himachal-pradesh\",\"himachal-pradesh\",\"himachal-pradesh\",\"himachal-pradesh\",\"himachal-pradesh\",\"himachal-pradesh\",\"himachal-pradesh\",\"himachal-pradesh\",\"himachal-pradesh\",\"himachal-pradesh\",\"himachal-pradesh\",\"himachal-pradesh\",\"himachal-pradesh\",\"himachal-pradesh\",\"himachal-pradesh\",\"himachal-pradesh\",\"himachal-pradesh\",\"himachal-pradesh\",\"himachal-pradesh\",\"himachal-pradesh\",\"himachal-pradesh\",\"himachal-pradesh\",\"himachal-pradesh\",\"himachal-pradesh\",\"himachal-pradesh\",\"himachal-pradesh\",\"himachal-pradesh\",\"himachal-pradesh\",\"jharkhand\",\"jharkhand\",\"jharkhand\",\"jharkhand\",\"jharkhand\",\"jharkhand\",\"jharkhand\",\"jharkhand\",\"jharkhand\",\"jharkhand\",\"jharkhand\",\"jharkhand\",\"jharkhand\",\"jharkhand\",\"jharkhand\",\"jharkhand\",\"jharkhand\",\"jharkhand\",\"jharkhand\",\"jharkhand\",\"jharkhand\",\"jharkhand\",\"jharkhand\",\"jharkhand\",\"jharkhand\",\"jharkhand\",\"jharkhand\",\"jharkhand\",\"jharkhand\",\"jharkhand\",\"jharkhand\",\"jharkhand\",\"jharkhand\",\"jharkhand\",\"jharkhand\",\"jharkhand\",\"jharkhand\",\"jharkhand\",\"jharkhand\",\"jharkhand\",\"jharkhand\",\"jharkhand\",\"jharkhand\",\"jharkhand\",\"jharkhand\",\"jharkhand\",\"jharkhand\",\"jharkhand\",\"jharkhand\",\"jharkhand\",\"jharkhand\",\"jharkhand\",\"jharkhand\",\"jharkhand\",\"jharkhand\",\"jharkhand\",\"jharkhand\",\"jharkhand\",\"jharkhand\",\"jharkhand\",\"jharkhand\",\"jharkhand\",\"jharkhand\",\"jharkhand\",\"jharkhand\",\"jharkhand\",\"jharkhand\",\"jharkhand\",\"jharkhand\",\"jharkhand\",\"jharkhand\",\"jharkhand\",\"jharkhand\",\"jharkhand\",\"jharkhand\",\"jharkhand\",\"jharkhand\",\"jharkhand\",\"jharkhand\",\"jharkhand\",\"jharkhand\",\"jharkhand\",\"jharkhand\",\"jharkhand\",\"jharkhand\",\"jharkhand\",\"jharkhand\",\"jharkhand\",\"jharkhand\",\"jharkhand\",\"jharkhand\",\"jharkhand\",\"jharkhand\",\"jharkhand\",\"jharkhand\",\"jharkhand\",\"jharkhand\",\"jharkhand\",\"jharkhand\",\"jharkhand\",\"haryana\",\"haryana\",\"haryana\",\"haryana\",\"haryana\",\"haryana\",\"haryana\",\"haryana\",\"haryana\",\"haryana\",\"haryana\",\"haryana\",\"haryana\",\"haryana\",\"haryana\",\"haryana\",\"haryana\",\"haryana\",\"haryana\",\"haryana\",\"haryana\",\"haryana\",\"haryana\",\"haryana\",\"haryana\",\"haryana\",\"haryana\",\"haryana\",\"haryana\",\"haryana\",\"haryana\",\"haryana\",\"haryana\",\"haryana\",\"haryana\",\"haryana\",\"haryana\",\"haryana\",\"haryana\",\"haryana\",\"haryana\",\"haryana\",\"haryana\",\"haryana\",\"haryana\",\"haryana\",\"haryana\",\"haryana\",\"haryana\",\"haryana\",\"haryana\",\"haryana\",\"haryana\",\"haryana\",\"haryana\",\"haryana\",\"haryana\",\"haryana\",\"haryana\",\"haryana\",\"haryana\",\"haryana\",\"haryana\",\"haryana\",\"haryana\",\"haryana\",\"haryana\",\"haryana\",\"haryana\",\"haryana\",\"haryana\",\"haryana\",\"haryana\",\"haryana\",\"haryana\",\"haryana\",\"haryana\",\"haryana\",\"haryana\",\"haryana\",\"haryana\",\"haryana\",\"haryana\",\"haryana\",\"haryana\",\"haryana\",\"haryana\",\"haryana\",\"haryana\",\"haryana\",\"haryana\",\"haryana\",\"haryana\",\"haryana\",\"haryana\",\"haryana\",\"haryana\",\"haryana\",\"haryana\",\"haryana\",\"ladakh\",\"ladakh\",\"ladakh\",\"ladakh\",\"ladakh\",\"ladakh\",\"ladakh\",\"ladakh\",\"ladakh\",\"ladakh\",\"ladakh\",\"ladakh\",\"ladakh\",\"ladakh\",\"ladakh\",\"ladakh\",\"ladakh\",\"ladakh\",\"ladakh\",\"ladakh\",\"ladakh\",\"ladakh\",\"ladakh\",\"ladakh\",\"ladakh\",\"ladakh\",\"ladakh\",\"ladakh\",\"ladakh\",\"ladakh\",\"ladakh\",\"ladakh\",\"ladakh\",\"ladakh\",\"ladakh\",\"ladakh\",\"ladakh\",\"ladakh\",\"ladakh\",\"ladakh\",\"ladakh\",\"ladakh\",\"ladakh\",\"ladakh\",\"ladakh\",\"ladakh\",\"ladakh\",\"ladakh\",\"ladakh\",\"ladakh\",\"ladakh\",\"ladakh\",\"ladakh\",\"ladakh\",\"ladakh\",\"ladakh\",\"ladakh\",\"ladakh\",\"ladakh\",\"ladakh\",\"ladakh\",\"ladakh\",\"ladakh\",\"ladakh\",\"ladakh\",\"ladakh\",\"ladakh\",\"ladakh\",\"ladakh\",\"ladakh\",\"ladakh\",\"ladakh\",\"ladakh\",\"ladakh\",\"ladakh\",\"ladakh\",\"ladakh\",\"ladakh\",\"ladakh\",\"ladakh\",\"ladakh\",\"ladakh\",\"ladakh\",\"ladakh\",\"ladakh\",\"ladakh\",\"ladakh\",\"ladakh\",\"ladakh\",\"ladakh\",\"ladakh\",\"ladakh\",\"ladakh\",\"ladakh\",\"ladakh\",\"ladakh\",\"ladakh\",\"ladakh\",\"ladakh\",\"ladakh\",\"sikkim\",\"sikkim\",\"sikkim\",\"sikkim\",\"sikkim\",\"sikkim\",\"sikkim\",\"sikkim\",\"sikkim\",\"sikkim\",\"sikkim\",\"sikkim\",\"sikkim\",\"sikkim\",\"sikkim\",\"sikkim\",\"sikkim\",\"sikkim\",\"sikkim\",\"sikkim\",\"sikkim\",\"sikkim\",\"sikkim\",\"sikkim\",\"sikkim\",\"sikkim\",\"sikkim\",\"sikkim\",\"sikkim\",\"sikkim\",\"sikkim\",\"sikkim\",\"sikkim\",\"sikkim\",\"sikkim\",\"sikkim\",\"sikkim\",\"sikkim\",\"sikkim\",\"sikkim\",\"sikkim\",\"sikkim\",\"sikkim\",\"sikkim\",\"sikkim\",\"sikkim\",\"sikkim\",\"sikkim\",\"sikkim\",\"sikkim\",\"sikkim\",\"sikkim\",\"sikkim\",\"sikkim\",\"sikkim\",\"sikkim\",\"sikkim\",\"sikkim\",\"sikkim\",\"sikkim\",\"sikkim\",\"sikkim\",\"sikkim\",\"sikkim\",\"sikkim\",\"sikkim\",\"sikkim\",\"sikkim\",\"sikkim\",\"sikkim\",\"sikkim\",\"sikkim\",\"sikkim\",\"sikkim\",\"sikkim\",\"sikkim\",\"sikkim\",\"sikkim\",\"sikkim\",\"sikkim\",\"sikkim\",\"sikkim\",\"sikkim\",\"sikkim\",\"sikkim\",\"sikkim\",\"sikkim\",\"sikkim\",\"sikkim\",\"sikkim\",\"sikkim\",\"sikkim\",\"sikkim\",\"sikkim\",\"sikkim\",\"sikkim\",\"sikkim\",\"sikkim\",\"sikkim\",\"sikkim\",\"dadra-&-nagar-haveli-&-daman-&-diu\",\"dadra-&-nagar-haveli-&-daman-&-diu\",\"dadra-&-nagar-haveli-&-daman-&-diu\",\"dadra-&-nagar-haveli-&-daman-&-diu\",\"dadra-&-nagar-haveli-&-daman-&-diu\",\"dadra-&-nagar-haveli-&-daman-&-diu\",\"dadra-&-nagar-haveli-&-daman-&-diu\",\"dadra-&-nagar-haveli-&-daman-&-diu\",\"dadra-&-nagar-haveli-&-daman-&-diu\",\"dadra-&-nagar-haveli-&-daman-&-diu\",\"dadra-&-nagar-haveli-&-daman-&-diu\",\"dadra-&-nagar-haveli-&-daman-&-diu\",\"dadra-&-nagar-haveli-&-daman-&-diu\",\"dadra-&-nagar-haveli-&-daman-&-diu\",\"dadra-&-nagar-haveli-&-daman-&-diu\",\"dadra-&-nagar-haveli-&-daman-&-diu\",\"dadra-&-nagar-haveli-&-daman-&-diu\",\"dadra-&-nagar-haveli-&-daman-&-diu\",\"dadra-&-nagar-haveli-&-daman-&-diu\",\"dadra-&-nagar-haveli-&-daman-&-diu\",\"dadra-&-nagar-haveli-&-daman-&-diu\",\"dadra-&-nagar-haveli-&-daman-&-diu\",\"dadra-&-nagar-haveli-&-daman-&-diu\",\"dadra-&-nagar-haveli-&-daman-&-diu\",\"dadra-&-nagar-haveli-&-daman-&-diu\",\"dadra-&-nagar-haveli-&-daman-&-diu\",\"dadra-&-nagar-haveli-&-daman-&-diu\",\"dadra-&-nagar-haveli-&-daman-&-diu\",\"dadra-&-nagar-haveli-&-daman-&-diu\",\"dadra-&-nagar-haveli-&-daman-&-diu\",\"dadra-&-nagar-haveli-&-daman-&-diu\",\"dadra-&-nagar-haveli-&-daman-&-diu\",\"dadra-&-nagar-haveli-&-daman-&-diu\",\"dadra-&-nagar-haveli-&-daman-&-diu\",\"dadra-&-nagar-haveli-&-daman-&-diu\",\"dadra-&-nagar-haveli-&-daman-&-diu\",\"dadra-&-nagar-haveli-&-daman-&-diu\",\"dadra-&-nagar-haveli-&-daman-&-diu\",\"dadra-&-nagar-haveli-&-daman-&-diu\",\"dadra-&-nagar-haveli-&-daman-&-diu\",\"dadra-&-nagar-haveli-&-daman-&-diu\",\"dadra-&-nagar-haveli-&-daman-&-diu\",\"dadra-&-nagar-haveli-&-daman-&-diu\",\"dadra-&-nagar-haveli-&-daman-&-diu\",\"dadra-&-nagar-haveli-&-daman-&-diu\",\"dadra-&-nagar-haveli-&-daman-&-diu\",\"dadra-&-nagar-haveli-&-daman-&-diu\",\"dadra-&-nagar-haveli-&-daman-&-diu\",\"dadra-&-nagar-haveli-&-daman-&-diu\",\"dadra-&-nagar-haveli-&-daman-&-diu\",\"dadra-&-nagar-haveli-&-daman-&-diu\",\"dadra-&-nagar-haveli-&-daman-&-diu\",\"dadra-&-nagar-haveli-&-daman-&-diu\",\"dadra-&-nagar-haveli-&-daman-&-diu\",\"dadra-&-nagar-haveli-&-daman-&-diu\",\"dadra-&-nagar-haveli-&-daman-&-diu\",\"dadra-&-nagar-haveli-&-daman-&-diu\",\"dadra-&-nagar-haveli-&-daman-&-diu\",\"dadra-&-nagar-haveli-&-daman-&-diu\",\"dadra-&-nagar-haveli-&-daman-&-diu\",\"dadra-&-nagar-haveli-&-daman-&-diu\",\"dadra-&-nagar-haveli-&-daman-&-diu\",\"dadra-&-nagar-haveli-&-daman-&-diu\",\"dadra-&-nagar-haveli-&-daman-&-diu\",\"dadra-&-nagar-haveli-&-daman-&-diu\",\"dadra-&-nagar-haveli-&-daman-&-diu\",\"dadra-&-nagar-haveli-&-daman-&-diu\",\"dadra-&-nagar-haveli-&-daman-&-diu\",\"dadra-&-nagar-haveli-&-daman-&-diu\",\"dadra-&-nagar-haveli-&-daman-&-diu\",\"dadra-&-nagar-haveli-&-daman-&-diu\",\"dadra-&-nagar-haveli-&-daman-&-diu\",\"dadra-&-nagar-haveli-&-daman-&-diu\",\"dadra-&-nagar-haveli-&-daman-&-diu\",\"dadra-&-nagar-haveli-&-daman-&-diu\",\"dadra-&-nagar-haveli-&-daman-&-diu\",\"dadra-&-nagar-haveli-&-daman-&-diu\",\"dadra-&-nagar-haveli-&-daman-&-diu\",\"dadra-&-nagar-haveli-&-daman-&-diu\",\"dadra-&-nagar-haveli-&-daman-&-diu\",\"dadra-&-nagar-haveli-&-daman-&-diu\",\"dadra-&-nagar-haveli-&-daman-&-diu\",\"dadra-&-nagar-haveli-&-daman-&-diu\",\"dadra-&-nagar-haveli-&-daman-&-diu\",\"dadra-&-nagar-haveli-&-daman-&-diu\",\"dadra-&-nagar-haveli-&-daman-&-diu\",\"dadra-&-nagar-haveli-&-daman-&-diu\",\"dadra-&-nagar-haveli-&-daman-&-diu\",\"dadra-&-nagar-haveli-&-daman-&-diu\",\"dadra-&-nagar-haveli-&-daman-&-diu\",\"dadra-&-nagar-haveli-&-daman-&-diu\",\"dadra-&-nagar-haveli-&-daman-&-diu\",\"dadra-&-nagar-haveli-&-daman-&-diu\",\"dadra-&-nagar-haveli-&-daman-&-diu\",\"dadra-&-nagar-haveli-&-daman-&-diu\",\"dadra-&-nagar-haveli-&-daman-&-diu\",\"dadra-&-nagar-haveli-&-daman-&-diu\",\"dadra-&-nagar-haveli-&-daman-&-diu\",\"dadra-&-nagar-haveli-&-daman-&-diu\",\"dadra-&-nagar-haveli-&-daman-&-diu\"],\"name\":\"\",\"z\":[1691281089.989316,76541062.33691595,174157725.41469872,1657575.282816791,1521510.587498479,1665955694.9848173,68463689.80469275,209934220.28326848,880187.5512756812,1031819.4438998674,1750113148.3068104,222455759.17733783,63477925.042983845,949850.198945797,914402.5369417528,1739114390.3016624,70775723.34635986,191484723.76839563,801633.2114598342,1010096.4810587188,204183867.4116538,6760113.704148788,6470456.031897823,33512.39606736117,712945.8536347556,12966806.696277115,257538220.22775063,7397529.021326996,72985.31151294889,818358.6944744462,16857122.3073061,341664291.4936854,9451111.139352825,20966.3333050078,695859.360839114,233471780.00357005,7823562.397702506,5889316.861228463,14455.380988399307,817593.4915248882,2199565.258913744,41186717.27800167,1066002.167062227,65022.49896840689,709912.772844791,108783543.9098094,4050433.5962071815,2952533.8004545765,43891.23943201654,770335.5794872268,177049162.13058332,5523702.976434887,6911586.608122997,35654.18337878893,906746.6310095722,3107406.501616686,77040044.25291511,2368711.975892641,60939.77304627103,931303.0542636234,24356294.58523286,356260523.23262954,10404414.592504771,283854.3188381147,772492.6204317764,40941077.03285696,634560147.3506901,30693648.236451425,824864.513127287,924438.3714747172,887252744.067668,45386403.17281592,52094800.565094605,855201.5881157237,932966.3002634952,37504550.77732091,404110075.0863959,14627463.664270936,434960.2799078573,516383.63442262856,982955112.189278,45558278.22323953,70289687.94622748,1330632.9787811027,971875.6084117102,1290523196.259221,67493206.62394348,113697005.89821,806905.9729422838,1228335.4576346255,1545255603.4119103,67548806.84754582,154183940.72826496,2202285.707728365,1475104.827591939,995581952.903405,56059844.239659324,69528721.40156102,710657.5065644829,993297.250902934,48590864.56835763,2322580.1695599537,3838358.358629393,38274.22628876488,149355.3310943247,40029003.82575238,1936538.3067545425,5469200.646094429,63629.88416689246,81636.9547320153,47450386.0033243,2024739.154202395,5250991.002376802,26453.0247779254,61304.43025482374,48451728.04746901,2386144.714677198,4895657.060086848,87127.8249489804,108944.34272364664,8221402.368536929,353870.52398354514,183062.1455975621,27795.441220958,503049.2411913635,8923273.862948446,215159.68119447332,10278.678434187355,618155.9004644766,10383413.246670496,211413.62244321496,34.39721181625656,56896.23813384895,436735.1684614296,8602732.117788196,190716.5411561734,12340.30958308919,1860278.2784597145,61432.04938505074,590.7505138175776,6310.102519157715,3926048.74488305,300978.32420203416,94046.43333034206,17958.809570422687,351201.0879000404,3841230.430870924,262079.85573632165,389.8932323919954,8312.430483153179,5757123.079919379,353202.7988510042,64568.47789279556,9134.413223158994,3780.7695141997474,789255.2646123999,12463327.261836832,216594.03077193064,33192.017283045374,1186947.553816269,19189391.618742835,842981.169451366,45457.50970027798,42055.45694608544,1499298.1127799237,27284123.245665,1227101.6378793938,13968.7539965527,86826.16675951776,1061694.138574572,14718605.188911092,971609.4583537824,158593.59701229632,32419.70309265505,24823715.017422147,1070209.4218526704,1040213.7953898906,15929.095105497145,92715.5843109472,34142107.520169854,1700287.4734963956,2750367.063028222,137227.35390598277,73174.28816768769,44696668.86120765,2093901.291802684,4071239.087436496,19994.54194636028,116381.74598782149,1745295.828077295,23996417.49366483,1525331.91465294,15052.01849600818,101366.40306045808,3899172008.700116,192026788.60457045,563004043.9315958,3019251.8598936894,5116238.235718384,7796315453.507147,1468318733.1353962,330230375.9276109,3106775.38571138,5329459.165683068,7328913724.33394,1381013596.832624,278377945.43169147,3564357.119764914,4671532.630633753,4359000096.157877,714995836.5962032,200896879.6910393,2406087.095158501,4192522.344518611,23006751.795504905,358932132.1046898,14297275.230527855,62335.064750311045,2738667.957962149,38916251.42165714,546221812.6889315,23461321.889810227,584192.9488108774,3035023.204323471,43611775.02621875,670870023.4297696,25344714.50557894,124511.63613216748,2485447.192519395,27248605.42923336,446537199.1735684,15600927.006629135,106800.75308155928,3437756.744766518,6028476.149090356,55943496.51588632,2395888.4397623385,144318.2545571151,1738080.43060439,14231601.453371253,187460582.05754715,5458930.689379572,552674.5783359876,2149872.755760235,18100891.637344178,301941442.7059927,14434314.193342488,190875.1884897996,2918155.279504664,9657896.164724296,101140464.66239844,3663446.436220131,580648.3434132106,1962212.2350756056,59666071.21530793,1013733312.3935764,44125206.34755945,402779.89033132966,2207471.061039081,97662913.13408674,1065012681.7126106,67511647.1349487,4049966.8133478058,2821792.5880408054,102794647.7641504,1579858348.0670545,115136797.58942305,2774557.112070617,3678221.666272167,100570200.25271696,998750895.9111592,48980521.41595118,2944583.114737345,2488953.643832149,1794745857.318895,106098525.65614726,147747773.01896822,3981898.045775197,2941223.950049905,2348008593.21644,144363692.75220004,270311210.8907223,2379067.1150075165,3937887.553600684,3233210261.728197,165277548.45940137,442464385.0377933,2464327.924231136,5348877.036531466,129031455.7077258,1885041503.797047,173894963.00439677,2306496.854595862,3342835.526834045,33822547183.04485,118393860520.57216,5442872986.10511,55991695.31200866,131773069.80038044,50874051122.3736,161027214428.20593,8069941553.075293,61881709.73674865,128469268.5974064,60247141797.94961,183672880692.7266,8376603987.152398,81169069.23462963,141385263.4082809,41536371583.74904,133534947239.2497,5949415519.837789,46037703.16128763,114905117.7834119,11417366152.388483,679458794.5442779,374735986.85082686,5075418.743007188,67920032.80184662,17584630267.779922,1069468753.7262832,1074255588.7227576,4542997.939180325,70361559.28538439,24112075521.017845,1257371454.8604,1720930747.6285615,4665759.804240476,48745253.90234077,15410038389.818308,855753107.510468,654411637.0168115,4237631.55442897,77914922.92227882,206518662.81014803,1838238336.1663632,39708474.15869055,7350624.274461515,57339459.82710209,443460556.77590346,5647949187.747948,145342066.01377475,6195179.156999446,59360083.75169004,554514488.4121984,8450105299.480802,331842964.57864183,9709810.436343707,70240102.06349953,351709628.0901169,3703114547.658351,129967815.18510856,9405941.62707696,69972510.60099621,28723854868.846924,1688995018.2209015,2393811867.3887434,7378557.223060286,46557359.6766012,34661165923.13037,2790720003.1373434,3990179454.188005,39141096.45070238,45538330.62766186,50812302052.95271,8238390462.202984,3033918783.208999,48082346.06124696,82280639.52262866,2504355746.828547,27351810047.608715,2361252112.419633,17814454.60563486,33149845.43882452,55638916992.13896,10661449529.109669,3000977538.840563,40387648.84021996,68111552.62215017,19905616746.80529,80506858751.32883,4045490947.23822,48855662.40142638,99286155.00295876,29283695601.229546,102177997315.68285,4724827139.9519415,66445873.296120845,146144588.65236923,62134058797.4359,12828590761.713425,3640692364.165052,39620256.36433959,85809079.54731184,278109650949.8691,1243199329198.8584,43891305256.63388,624857963.437548,824344937.0828401,333606445776.6083,1282604186671.1765,48539011844.07969,558132533.414458,610455785.7449958,380643835280.2336,1468087523889.2769,54445900607.2116,650217624.1227758,689145506.798728,358016289601.7625,1457330278795.186,50583781089.16758,545330283.2377212,670434289.8797817,104118436760.31566,7076613843.774634,6217689429.770171,51023386.14504391,512618725.7517852,20375791901.51608,183163325083.02167,10208179941.827314,57194690.691376016,732228821.132016,31602890835.851074,250562864352.78363,12183568521.027197,51145982.18087677,646673755.3894986,142910706254.40515,12338599108.54726,7745156562.557001,44871623.82931484,662690676.7455502,1496816541.9710202,16522277460.174664,696586489.2644083,52664837.407078,449549985.19633806,42819128165.14718,3019156590.415938,1879406580.538648,50726023.40346949,456674396.3028466,63575342228.05887,4751317554.815564,4030978295.062695,71134704.79416475,579613793.3366778,2435924808.0540595,29135024501.319637,1361967204.9193478,93244737.61226672,489418829.39568377,40374401933.52864,297635301555.931,14724886028.403404,110130184.7219853,557335296.81275,60769881812.00958,390432374828.4793,18911088810.529343,358426105.9585576,268744139.7048992,97147239182.96416,538340957771.568,21611671359.120277,427966918.93006,508863332.4358694,38463881234.4382,265767207470.16788,16434890228.30622,246367207.0610708,192530880.1645686,117959690729.6494,610937002732.095,25111731675.64637,475815041.81600165,511117233.1864776,190563423840.34485,908138627418.7012,33386709060.80711,508051800.8625039,637927036.8737218,243754536471.1106,1090951587881.044,39294350717.40592,574240588.1883193,896608692.1244912,124624417935.05894,684035748184.4377,28272314719.07621,456933673.9871358,497736717.48932767,364447461107.4863,74302051597.7621,12133153536.781809,118946014.37332997,225699523.4203592,102889591517.77438,444439407187.0311,16916650473.3639,114005498.98461476,185902663.39600116,121470843740.33278,512124643103.06616,18266150373.351486,149681749.30767313,205745557.94232672,90369380298.6282,405793657448.2689,13602640170.909237,95050158.46585184,174284263.75509703,33342321630.613518,1120730273.348215,821493664.580642,34542738.889085874,108039623.26819064,51447586885.48035,3895753253.334454,1806123698.4609373,31079934.75864201,124033587.18883926,72966050937.29504,2290841668.304525,4395710870.154251,38782542.04589868,77987614.2508337,41423292021.95664,1506620072.6624596,1664621261.2600243,20424212.30787918,139897303.4868461,331254466.1508661,4033548999.193232,58099674.94576137,112301341.6661862,92427728.93143728,22029087498.562176,605721781.5285043,97292154.49117658,275532813.4193076,86881527.58366849,21804268077.596016,773017649.5916129,682181415.8729985,55534399.30905172,114868029.19162312,7621288195.565702,482823290.3527084,67829259.91787937,213530873.3537121,102838720.42969128,82863844732.4941,5738217250.062569,3253609732.8992968,27641460.905009564,73485022.97217913,107064668710.39912,5015719823.514479,10242496366.436386,84971747.75755268,56087156.18513397,153208735347.1269,19347472702.80409,5532179002.002789,104419909.66526456,109856053.01820508,80990080777.89252,4551061364.34481,6092753944.948116,50322080.338512495,48818444.57258892,181450436291.9105,25201936762.205837,6552605937.545543,95064023.94844368,97693172.7305285,251150860524.22568,43316348173.18004,9025674783.404198,112383446.87807696,175452005.353413,310704112799.8908,63383870318.30179,10728834440.697895,147526652.49426866,286705478.5345538,208405882369.0544,29208847674.89984,8024323050.14009,102761986.97553992,122302396.20450994,28685388646.415367,104623270223.31714,6373570715.969071,158926455.91425735,147786423.0782508,37852759989.759125,116414003145.11606,7709237374.351864,162861560.07391134,121557246.12854593,40607857085.646095,124564727703.6056,8075692517.275558,191307058.1462068,120224235.03622033,34395023155.77253,112813716119.4625,7230489227.091859,133436809.9132271,123664236.88435228,9314451112.085836,498453895.947243,371997848.2006639,7808573.898364296,42319704.717572376,14433990011.32079,1051007778.312958,879510566.1106174,8910528.723410578,56390837.59670959,18537483865.44591,1287955351.6647906,1268704040.100692,10816332.760911915,46367047.83244334,11630623424.131498,768892057.7982787,569545842.9998999,5823291.622642939,56486944.633225575,157311821.37585658,2107288314.3025224,82919383.04571173,7957491.901965583,47197742.47444939,4823239268.279744,296352497.34099543,160705488.6023575,6170643.387882499,36557326.26447625,6959805154.570259,351296525.29857576,378857199.6490426,10063656.726067666,47338700.56846385,248080143.257024,3436199589.077317,144501582.04666698,12355589.34361695,45786439.71799916,22862907701.60516,1716538277.3696735,1810329140.1843731,17160614.593254916,44149097.18179157,33346812213.79868,2688361345.204546,4016995193.6035366,76828720.82445312,35153178.52298187,45686395927.74489,7695667406.723909,3238199947.525463,69202344.44095232,65791020.57617174,2452435028.924937,21309983654.739,2075701451.36276,32921115.845954426,23037227.72754424,55336812492.74641,10058436408.18426,3732534739.0436296,69655547.76092248,63530974.15939384,17877677018.10737,78598482305.73877,5008396079.412957,101460242.2623948,100146127.60812962,24589454633.018272,92774490034.55844,5689390023.204552,128238698.74055986,160563553.84187678,58152644526.04467,11263178335.980885,4645548909.798975,88370679.95309764,77063984.37888283,4682000388.389215,14449830641.555716,646403472.1135541,17490493.19245399,20720407.595174044,5112175255.359402,13780955270.352726,657115143.5357426,12650738.420843877,11368868.03761505,6739205748.43176,17421974714.962345,734121700.6400625,15705663.126967767,13978544.178016864,5736211013.6866455,16372343177.228306,738765635.2807853,13192736.02810038,12525197.296362752,1310759847.8146646,78212835.0406034,75946974.41483101,499592.0966860995,9904147.90979165,1704668027.0159788,157952854.9501171,123948570.56857497,1282344.8444824044,12515394.117688328,2484453030.31845,205602115.14625147,218404664.8638511,649712.8451498008,14350825.325765315,1391933790.7547765,93218689.41694948,92873008.6474504,515859.8076807977,13325754.760758923,18273814.16270872,268175048.06992975,11036031.735657964,520105.642400422,5851742.732386975,40314972.94208837,639468418.1317002,26634198.17885101,468171.3648398488,6281208.620754639,1021902315.4426756,54832855.89468471,66666113.92145965,723599.2328183289,8880194.430766659,30994284.17044104,419492232.52410376,20162855.70611957,733429.427283199,7221023.530667527,2851686768.653684,244739382.20701855,298421548.1046571,1816477.569247236,13707055.389155574,2723430713.3444066,280187505.0339355,353193881.4783259,6418950.466847964,5112530.621144422,5407626413.043346,1123844212.517182,345088772.3784919,10386560.386677971,12846789.254236266,241196540.9379891,1766723888.2025127,168591711.94693565,3328361.317987765,3775927.611346662,7553384653.1682,1768358976.7158575,410604192.7268899,12207778.148638733,12687278.26183929,2143135314.897931,7871092673.137299,438838003.2298237,12943224.07382146,12416377.597493527,4384250602.937038,13618351952.666094,585734312.4063727,17101084.66037453,21819163.1997744,1411529033.6650195,6195032351.177256,383804809.3560881,12371843.844825167,10115549.032816991,14585438346.473846,53535521438.95823,2745987927.683198,49695999.71828518,62138787.2410843,20528059274.248493,68377272372.60579,3633710468.801753,44669245.26821817,57548577.43879978,26026949674.245083,85220041974.58176,4128624164.749209,55762460.39159953,64668557.391687945,19479185362.296963,65563901300.31024,3174160697.8567643,37217548.78562989,58906116.08464594,6512361464.496071,394631055.6931843,226281078.7699414,3951610.30495379,46303966.00979781,8512622076.436331,683772296.9748493,480794827.1193007,4570326.192004257,47272543.29483967,11020339546.604958,817728111.4576316,701746516.8731368,3555524.3767221333,30336605.83833359,7752954670.580209,454962951.9136597,323876953.4104364,2550386.477414152,54187888.53677146,124377517.3349145,1296603346.334598,39372913.10424411,5637758.556349495,42553823.19378027,3356030294.930648,239244556.76646537,84447374.86583523,4334709.909645849,42516103.38590273,5072621132.343549,292877734.33795583,228453045.85460952,6035161.098892693,54285064.328889735,193802092.8234874,2358941864.7682114,66946005.75890133,7913276.778501136,52152138.42194019,13999676596.865889,1028598924.445406,1094245197.235664,8180881.808693047,27378658.63192141,18377468807.44993,1509373287.697055,2166776519.8536706,26449980.584111303,23442372.42176825,25748737002.1362,4274032856.6465273,1697819950.5564797,29791064.76179736,42358455.00938001,1303523584.942265,13572964169.690296,1181497493.0283294,17612288.05771955,18590166.38240856,5283142247.065777,29202365442.63442,1727960484.030287,38400863.99560504,36320362.17233381,9001414756.070686,39256650720.01872,2182554095.263321,38013969.98341857,48863242.2282843,13515464697.761791,49969580473.07786,2540546090.023079,51212042.38175093,71304856.17664191,32674145244.390625,6257528832.057196,1979824048.815712,35404991.874676295,43914757.70001851,23217511696.823074,88645204328.52362,6317909908.645241,83933665.00820544,125418506.96271203,32370885165.312702,107653378074.87231,9119649328.792372,68249938.53956848,107280498.83777893,38162493193.40967,120512767954.99376,9248445985.684328,72160390.22791913,111559653.62333828,28585688543.68705,100938068541.26062,7652499714.013335,57234782.46271807,111934787.80332904,12027441595.712795,986004867.8072444,478382600.617519,6871295.954710579,75789641.76089522,19146726286.63604,2481094964.9170837,1183743251.2734203,7912219.734296376,86338883.28250344,25564144629.75061,2622222199.1884565,1741259163.3677323,6382345.429778575,55793908.45587015,16258891447.321404,1440058991.4565237,815090878.0150015,6876144.454559349,93875933.52482703,196018621.35851485,2412434633.5413933,83873893.96204324,11162488.423236402,77268587.56920797,6173898400.559117,622737633.7524918,194883994.5757109,9429174.53468925,64737840.39918464,9404088424.489891,825449591.241031,455091549.5918779,11832962.875482315,85520045.45150709,395417027.849745,4036457553.717748,159406610.2632674,17719391.411258094,75671628.7650177,26350005915.230072,2767419472.6505165,2196329615.3949203,10987850.955996178,49442411.668161854,32477438924.476498,4066750820.6407743,3490665357.291087,42060249.32847581,46176796.07655344,43286909256.83391,6142380827.109474,4201551869.9511194,51677182.316327386,92887343.34418696,3089758241.1281967,25074384847.498463,2058898904.3613408,23704957.876037344,37907301.34960769,46908632143.31532,7651004598.907397,3980874403.2760215,52009482.41407214,98366463.19387978,66149902036.358826,14103740968.543571,5540272095.274853,63576666.590925634,135069073.84402025,20753662875.546524,83611403637.31992,6107473171.935022,86356456.60324252,151230100.5948589,55282486111.30394,9710508482.436422,4370756868.518326,53309051.06501615,113998049.29147904,1089629182596.478,169419685917.19562,34473036841.83001,324358965.11859065,474382234.25397474,1140164525892.7395,202910820650.0824,41438764826.20322,239347241.54655045,323951101.5715289,211898851397.09848,1170249585983.0112,41986837706.47902,250596592.06465048,339211363.0027188,1231408926513.7114,205433660654.20895,42408541939.06145,245783011.04455265,357036084.9071137,77524329742.2595,3480641602.3771377,2423536770.3706346,47150177.52982048,284937624.5393019,124338645329.51532,6893984676.598906,7887394038.066369,29778183.027080443,298142027.58625776,178893550050.68753,13476303367.50486,8335168605.691999,26796571.745749157,216496893.1610288,103924649232.4702,4708345387.9101095,4613405202.681959,26626696.771042537,361492238.3966455,892293975.6698562,10524250283.178782,247297640.2400069,44808449.7639544,287626042.970705,32738630444.668724,1949098146.8941927,685277254.5076212,60790077.57437308,284248675.5700202,47011639726.13608,2418164314.470957,1671585888.568256,57178116.40322068,315211361.26249415,1598591488.4880352,20451493098.8953,436785223.8603296,68952114.81374599,328092346.575651,223088554055.04755,18603161784.496998,10813530777.973532,43739133.169823855,188228538.3748977,406461788252.32056,40739580213.86052,19475104674.82717,256074924.7187529,151582519.18136686,566639138543.7708,66654048149.95168,20936337211.557747,305168772.45601684,306853355.59473807,262731724130.7907,16991006436.573467,22625596525.44269,145274999.15679634,90087654.6000998,580542193013.0018,70813192713.43477,20546424964.14482,270313028.48452014,272546457.5502677,837841124664.307,118164377968.16754,27511344958.24361,297239697.83073866,403948275.56756073,971269765249.1282,152883933596.5386,31232784713.985798,332740108.6635881,545223415.6638832,737004484057.439,88512429436.91248,24646800345.106976,265483044.40124667,308302224.3856007,81798208975.87326,409631710258.4541,20705079141.09696,298216135.377552,355987089.8306444,109801011246.16068,493880482824.984,27694221703.16715,238069828.1652185,265434770.7913805,118847998736.56468,526511418812.7734,29719449171.387,334812023.56560165,275988847.1474179,100813133534.0309,464333108374.5711,24477663683.793488,233054908.96978933,277767177.03123105,51296299081.44436,2695317014.8660007,1924461188.9900143,31217137.545322973,256742393.284268,70615331408.53966,4079315732.661683,3964144354.416152,27213741.831077334,273599406.1898495,91858026341.27563,6420193204.780616,4681454397.562926,24332240.65556671,206859328.2685905,57924128549.06981,3280033639.8500404,2690331792.5060787,18334602.38963153,294847441.9421142,646028338.3951533,10031518934.085688,272002057.1736871,31876073.74792233,280132294.11422664,26792462660.044968,1521551955.205038,733189649.5729834,37049222.36590697,245838753.995272,39180083690.57276,2020329567.8245385,1742903221.432857,46571758.68242933,312185737.38152075,1189892955.8051777,18067624388.09562,517130320.4660308,65402385.25640666,285794226.64323723,101907683045.28436,8950736938.223478,5493239429.732224,41422107.813630365,176604658.386683,123561080533.04672,12554589575.504852,7476952307.406668,158512062.54590106,90281020.15995154,172196381789.491,24417758781.65223,9462546013.163391,186775413.14290395,209735503.54521424,82347647064.12332,6414781159.484189,6909361871.628206,89189349.84916353,65529451.74366937,206405230307.9611,30722779534.582508,11115915388.739548,215319360.4840321,208899281.8834732,52932187058.5752,296121079294.8346,15613287081.611631,246146707.2790811,294622911.6328684,70539086832.13815,353529424598.23047,18979178477.53405,275850497.094934,400412189.80491126,216379027686.3025,33504798112.88382,13155346942.255478,225113402.6634022,223054882.44675264,6670641250.45945,917155358.717718,231933129.00412333,3359625.792926075,5002264.113148138,7365427284.274204,1413247143.4889915,238448083.80779752,4763324.776043448,3224948.7015704075,7768088687.67791,1669602212.9174638,239412553.61214688,3785469.399336656,4020773.895396032,7627061474.687715,1255513517.3639429,241162643.1948016,4063469.0998270046,3864269.879579009,26796894.998233315,568554821.4456317,11727218.401334248,140622.87093631705,2730548.597814082,50946104.94289842,841037395.2474606,17178248.07427002,64089.11350267195,3419197.4177385764,63516906.09060433,1100137447.9340453,23192271.69157681,305379.7987782319,3421174.01227797,30420803.41271234,704237943.4054435,13955724.130712911,160660.8821362781,3880742.524023137,5184132.514934338,82889682.72418305,2420374.1905855755,58893.76201533088,1834252.817690888,15997565.906016495,308106303.45342577,5505694.567913429,72133.845254878,2044708.9687807967,20662691.88231328,468831493.2328036,11998974.1040326,100597.90379906222,2446271.9688117937,10468878.537107185,181576281.19464755,4718953.439561011,363761.801595492,1842317.369135248,86011654.77474582,1263912288.4066367,28553052.1339188,337812.948161694,2943873.066683824,153463816.21184397,2361603431.37578,88145178.69272713,4030599.9171272414,2695539.3607389224,3254744938.4105625,152389181.21743062,156682926.02384603,2391651.8783250954,4055324.315454754,145198528.22961134,1630654426.0441835,46446966.61244752,2655507.6964110374,1761404.4023099935,3460488558.9436507,142358376.9003836,204958020.0891498,2672460.4740365944,3301662.609423133,5033603845.032885,187390578.30403772,449869060.7842621,3348547.8272713376,3912143.3503634185,6022733378.120082,207784816.33218512,704195694.9939187,3933557.2795471298,4862905.885615055,4000960152.0755496,165579844.25105897,283709438.5363142,2761076.7934988844,3415105.337960117,3264574793.456436,11150701028.605722,731347957.2152067,13538635.562948208,14829134.999686666,4713972532.82215,14788179156.481958,1033530639.9360826,9918740.020967592,14156668.144691642,6570336079.954211,20013621495.89691,1267654269.1590743,12000766.356404984,16141955.57281622,3919372475.5605655,12549248085.111444,792957088.5933374,8943857.181076445,12978651.924569944,2123866601.651376,161414934.10238376,97230471.44089969,917030.9066760786,12603012.342693318,2815184152.8041325,226535908.8355719,213884900.47217816,794918.674981478,13282206.873976797,3586763928.6423693,318692521.79224944,237695594.96329552,654298.6785004465,8707473.86293627,2339922407.523348,185659011.54417652,152766864.66190332,839765.161351582,13928050.053676538,47479581.16264416,527998849.34055936,19477066.53327672,1865618.249949839,16614305.58119321,1217617705.968176,100639674.6708905,37560565.97386869,1302311.5967954171,12234189.324580798,1793871702.3196409,128130475.99274208,94010713.60616028,2039811.337203704,14538888.5242277,76722906.67871952,835296156.4220204,29408471.50633328,3679451.8635118967,16116275.274144216,4421372542.468033,438193845.4527705,257250007.2445577,1406138.1883251297,8230536.662513691,4178346395.412492,604271248.9262259,296964794.9657042,5254415.457263877,4972498.603385328,939307675.8510206,4872318731.339843,320731281.94750684,4400109.748752326,10005102.462219946,3293060119.5471582,331423259.0003719,214425229.3354035,3982005.1176844486,4125116.689457224,1210594490.0981498,5916467167.303293,451109555.33889335,7700394.761505902,10549252.044153867,2245390329.2047896,8927868098.340746,620437997.3899603,7960844.903971832,14225734.853836158,3041038519.8233976,10610461952.10716,693790747.2429855,10459431.863661809,17832859.58125159,1390989390.7789688,6541132352.922333,467698864.6672056,7394941.032842191,10458390.53475552,143310226696.7226,578201697703.7521,25437774564.26215,219927120.15944037,495513514.75128734,212445928287.3991,780650402034.3962,39132574047.51802,236981163.6316285,442608716.718932,272801597092.4764,984255199293.6544,45143248068.81734,278304972.64702964,521508120.7286146,174183397721.35938,663180522499.3412,29125694281.81933,153944499.74490312,381178326.32090586,44114206183.09186,2423593841.716142,1263699222.350108,28901169.292499043,239879105.5972368,67648107703.0357,5147459307.101742,4576521609.460834,25654168.60092132,278578703.0441117,92064471161.9892,7304157801.612935,5104821720.999016,24020060.9321332,190456045.32494444,61758841793.87666,3571897178.303101,2671155681.449155,18869661.513485767,313802065.4154737,667057311.4560372,7590790588.551903,43374288.98373023,170119673.71275404,210261540.7414958,22057686208.544346,1367773856.6756551,465390819.5901336,46120458.63885434,212770861.22341692,30897348664.90544,1669345516.941368,1036249753.9278036,43367243.154430926,259296894.0382776,1132090445.8903365,14155603482.492638,339308203.1707404,53860331.80574276,243218603.31985623,110325991607.38477,9898242848.25793,6311610609.846225,30645714.401902918,170790656.30339786,174978985034.2865,20621273981.65966,9834190567.205517,122971108.07060198,144259293.31583393,235584201864.22345,37315576877.14569,10977774483.325563,132590450.07074244,264996097.6059612,128184693854.7977,8904067957.01212,10666223053.634727,62073621.44351514,104956802.17437972,50098244499.50662,279938170703.8171,13060914041.039404,161838389.7954778,274786748.1299523,85885669792.43228,398912712886.4574,19025346050.627724,180366422.58245987,408508699.4365407,126461098235.02324,507118521843.3588,22492766779.156635,246488171.37792647,568617375.5894115,348935762191.10486,58839392449.9937,17230546398.848663,177313389.66602695,317753606.0115696,446343740437.9778,85854730616.41321,18435424277.725903,261096608.805606,531671268.6395414,556258142870.3699,123577123532.40588,24221425246.93133,241288774.23230743,451918188.2047272,620222191587.5906,140807748126.1634,26026633153.202,261122865.47893512,457937874.8149981,520190680811.7997,107049019781.85825,20697301165.41855,199770753.2306173,438407071.93834406,44170923881.744286,3021107711.9021683,2645438308.338478,47986448.46936697,279216273.42549,8273187167.078855,57058405341.48096,4832486821.888576,57054414.83597401,319398871.5461071,76593333397.8665,4859794689.902503,6477138700.812115,77047243.72974005,196296222.33587587,48394974398.37831,4657258459.145545,3676123279.3800926,45646046.98846317,331688935.22631323,964309485.9592384,8874266825.985771,119502271.66944444,366788699.65713125,301111268.86863834,38439798815.23789,1992473341.2750623,979603555.1397108,185187032.8965006,246871438.6293067,35303180047.06148,2467741143.225801,2294203496.657532,93755616.52283624,330738908.23670936,15889890046.862814,1563841173.839662,160809685.93886387,715914360.819237,298728202.7433254,82770282623.80914,8097859088.519976,5550815439.734788,58280893.55150119,176067145.3227705,133120676151.84232,8768630922.970161,14614394375.389551,125973420.85650632,183680984.0825332,166391874596.30487,22241302940.83296,10074605883.201237,164241191.7401362,293466753.56894124,84984004330.7718,7496845561.868595,7404190137.669086,89987205.23090403,124404641.81495728,202240249482.85385,28918343691.018497,11339665944.69124,175445811.88444334,263502545.07389975,294799731350.5536,50971169851.15668,16045754099.005053,213411736.37376124,426999219.42323273,372240891205.5542,71231577538.7114,17813903244.663807,270791056.674143,660874216.4934742,230812278789.29965,34787867208.31932,13331453857.609217,186466487.6307634,316744715.7049847,108855352347.44864,18833132506.022354,4424035840.366192,73257991.39188361,94659207.47378008,127264703851.96635,28789992307.161205,5295136932.037907,62882386.459812224,76363577.27323309,150693397669.18314,36033810141.574844,5773980885.270762,75960367.91633397,76370123.60102956,123829913105.31844,24333260089.826862,4814695679.877083,55549153.74320389,77624058.0178437,400281677.94382846,7291433300.700247,266644645.74929428,4612454.1127945455,39127457.94468764,11835800855.176552,639885372.7480905,421380275.4207429,6403456.344768786,46973660.73634353,14083346879.361856,704118873.972094,456318130.082201,3492255.0860687294,34707757.009855896,539315772.8606573,10035232820.852964,326844709.5879724,4037222.414240564,49538663.41037582,93491181.1405638,993525195.9818656,34501622.89266755,4936862.200688562,31349593.99668264,254569069.32411745,3424136709.5088205,96783839.37466942,4741123.821880115,30904247.88478589,317661277.3470997,5284776455.070784,240563395.2777939,6331912.52655252,38689818.79087821,174427478.21340805,2064314053.1339967,73366344.80739225,7051504.657611102,31425754.725386057,18977446151.768826,971722606.1579468,675423852.9512749,7054325.507515656,36781411.34368035,26646565777.43919,1627282415.9451878,1492484153.3873158,28452966.02637225,36605946.74600269,36013292450.814384,1662189124.4177454,2466913305.59039,32314809.975261036,51901628.46643049,1612522828.7163477,17358374071.26616,749018053.2400584,18130004.687672265,28255168.009208795,45476079487.10464,2103017761.546533,3657261586.2001615,41291047.3832124,48814663.88782827,64131823895.235466,3248364164.1984267,8208706348.034584,43889820.49598976,67715045.34317216,86801625126.53499,13378765005.905182,3842004488.37332,65456475.826191336,97116796.57575196,51521387890.61253,2657676415.2458973,4914753140.040101,46106001.498141706,52549929.267157935,165543931419.27045,684758883172.6667,31683813998.38605,386218170.5981607,750327356.10464,232005905549.1372,844564255684.5037,43854148172.58542,344330142.1388885,601411350.4106325,296781967366.6535,1030345562935.8824,48159073834.94295,430212917.27641135,661985014.756895,216176289528.43256,812579156783.274,37867966758.88997,285646084.3258523,606123265.0864555,68506766330.45149,4231102032.956449,3105904146.2085333,43341558.48535549,637066065.9078369,95134023863.97964,8000160942.595396,7399443975.24218,51363215.14597865,683145478.0865316,126564888408.1326,9082140369.774977,9412924984.9687,45686806.83093811,433285937.588854,87581482658.94861,5627886175.9093685,4894223107.452321,38169259.94529109,775758168.4201038,1201827543.8816488,11786969148.760595,428301434.2754866,75150444.99108115,447722351.3138524,32944051606.98276,2485029062.889952,1012726185.1169598,76605144.65776658,493702369.5936288,48836291123.914734,3040717446.728788,2480267671.259793,76250539.85851902,663216794.1554663,2044535461.482608,22197440015.945545,799920463.267408,105536911.84026654,572768843.1641636,147734706846.56177,11168417430.652224,13072371616.871723,64365117.409359045,376573949.20359,207530912756.73047,16437365640.853413,24224433240.836243,194129227.5437428,303114557.0989778,294401153346.76337,44438824680.670944,17793973968.761925,255803306.13741985,539071475.9342327,14668026056.368128,150079524408.8693,13655151082.574724,131930242.90371712,209384339.5723213,321609613378.6789,55362244381.43686,18563189222.328217,266104783.7449573,486435811.3771204,440726915882.1709,91089049637.02376,24348150109.635998,292009129.0296748,624716522.0745409,142889329646.05463,600973581946.6772,28812549097.65689,386356976.48969895,829152405.3448995,388761820128.4563,70351401159.78787,22266927128.75408,266853066.82962543,525487682.5584012,79563412221.78397,292439274688.30835,20042066374.66357,187077879.3846649,316261089.4073821,109018764232.99393,359338045092.0105,28649040040.502144,162173602.84596294,269479241.0969004,125585214989.03008,411053364214.2685,30789927498.953297,194314203.00804448,295484431.2780074,95585623258.23604,326945780476.59766,23844933238.40894,142685436.4192669,278978567.1836352,31231285551.30865,3104251732.6516943,1296376125.175279,19581520.569400217,204585378.77191535,49206585462.018684,4211116461.2911887,5768100024.478059,20507001.233050577,256386015.2468172,64477452638.7778,6517891166.722656,5480269119.720948,20202767.26414788,194846362.42851496,41853661230.46585,4651874823.428602,2526448415.3585706,17349813.389733132,271280936.6247084,878929080.9916563,6318864759.888066,166036667.57089135,27986679.009713165,186165067.5737218,15272745137.759302,1938041688.9678533,466209496.8015112,24930605.607339725,164477497.1394802,21207285184.780197,2297332323.081528,1088373316.0580251,30699273.16507,207297005.69778407,1571880396.377953,10009680530.386889,356984574.1205573,38598263.22838031,185541007.527258,72393727235.07784,7197595156.690899,7210758662.281933,27460255.45966168,165535312.39278784,89142122337.25531,12749796641.785404,9820654243.80882,84723188.62104335,124456073.24163358,116743230330.36208,20844321156.65293,10441981826.080866,120056733.8865249,243470065.45681775,8322688556.990006,64723140394.22913,7196610931.561442,53132341.3050082,92274135.40504412,144818968373.02933,26512643894.003174,11996115292.377842,137612317.73580322,235440836.3042438,48197579736.51646,208013326600.624,15945997372.058683,163304131.1436523,304418273.24545926,68717933161.8696,254338740726.63605,18739034341.66239,209214620.7057898,377657202.7539646,33542305033.829502,162483567902.30194,13750783181.94422,136119996.7022825,249278437.33914095,12169368063.4095,469035958.3484128,1489604137.2090888,6057615.527015026,10435303.87979853,12927705072.13747,2010460357.0881667,432182393.84038734,4671353.405444902,6411090.828254536,13133729481.472116,2074698993.4220653,406031254.0798015,5754919.963910458,5742049.403589871,12704512238.809605,1757831052.0706987,448637966.718931,4753628.558008127,7175748.992065379,619919870.7455351,22106830.36914924,14580183.38070752,174777.17283837448,3116398.755848917,36634657.04914341,803335616.6325192,20490224.443041254,367865.7884662621,2723638.649764262,44202546.57396081,1123258478.445069,30486780.446382143,240641.7657683481,2709234.857456133,679785849.1398683,23573234.273060285,15996651.145700552,91955.01538259834,3342252.5754885403,6463184.554711691,115495173.5579644,412579.53985461866,3616475.6407912206,2058760.6368871084,357768750.1845896,13912990.484925147,9180953.977358334,333081.6368315,2135468.510417797,18898063.282383174,562009595.9601889,20685433.28430717,307325.2437723951,3783141.5353601994,11541247.784420917,232157389.7914803,1241901.2660397931,5366759.827729835,2902422.6498233806,2458093401.740467,62688260.379548095,74202067.0664826,354184.4660589617,3252467.224386716,4301284799.331292,113190539.14969067,195132026.6311202,1593035.944066228,4775719.8143366445,5172499337.530437,114202616.34869762,307902115.38207734,2448402.9142817147,5172086.283260544,2980242535.075443,107589094.29890464,106540409.29886684,1457570.8004862317,3106603.331810386,6402367883.667423,223955812.58644396,433297594.1352152,4385333.175490812,6280890.914669826,9134806594.52819,367664440.5323727,889317377.086526,5625517.975461649,9447098.78230339,10998828287.529043,412791673.8037664,1229517397.4561875,5941100.580610943,11393578.842227155,7041837917.785187,305103750.5728581,531484849.4914169,4256098.232237183,7145346.314942012,4934712034.365204,1037265262.65705,262348230.9954375,5782533.242268167,7221703.089884497,6718925839.047781,1589078400.2615328,329401812.4140819,5330626.119674753,5616127.06807068,8142233538.414012,1925282618.8109848,373875271.19878656,5028488.55453164,6551901.175783692,5354182193.788111,1235804019.563663,278018856.17835283,4533635.768901512,5732336.736273008,679165332.8123899,44429378.42277926,28109966.31994779,461473.58856435167,4728790.472138839,81845425.35425141,884623553.9011384,44802063.64430427,582020.9903208594,5524358.927209696,88001651.28693296,1071507585.9983548,51274033.7207277,377097.6671310841,4239791.585043055,751113516.2256755,48989430.60730426,35275706.82877502,339184.3344705297,6103644.851151889,14079439.569905948,112229994.97675678,672247.5881710155,6080959.882836086,4916272.512952799,398867427.3246338,33484811.21282282,16092396.41113394,1080000.0112896338,4338753.080712541,38334816.66379926,549068822.3729683,31066467.63339032,1023126.8205747404,5392365.973713988,22554398.15273035,197666881.8729688,10570951.151568787,1264101.904810368,4835385.634057636,114355218.03514044,1400694933.570157,68590603.6377098,1066651.521721911,4071399.623773268,185201997.2796099,1959371082.9173036,190218136.2808841,3141391.5755430083,3886908.162543657,2683789889.83192,192385823.43220183,296872485.4156503,3666639.308697606,5416158.232838955,163220166.76643574,1501452755.6890235,99795973.60794038,2247782.5219734698,2459205.000588993,2821226150.5919185,173211140.89346513,333743281.32103896,2879929.222833151,4281067.764165951,3491901741.1594186,215226019.57596284,648504775.623629,3473153.087671739,5028078.734792852,4368786747.103016,874005407.7140213,241225282.0745189,5073898.6076811645,7838128.800210228,2865655130.4313264,189808502.9050523,404915546.5177107,3503925.3381061675,4271255.844077852,2199614586.4039083,9407577501.769796,460522863.7855054,8184455.912082582,7575497.515363299,2322908508.78352,8058325855.623236,463054690.5826355,5514275.578545391,4514380.573011656,2534351530.83684,8141612224.034059,453692483.7752487,7875178.045195433,4673460.483150147,2693234774.557476,10537267921.61604,535604974.57621765,6556452.522381971,6081132.496780836,835983054.254643,32635247.523153085,33763704.68083725,337570.322842385,3753447.525046112,1316118199.672093,57003044.29549825,82601335.47825414,528680.8975952889,4457097.111970215,1725523873.442102,128039884.38667428,74383571.67593375,391196.1284481905,3689792.245744483,1109343371.746654,46876569.36325147,49963601.61554676,469351.5481967761,4794015.854158426,9704752.648983236,147834476.16250613,4427034.0315394765,565799.4553442572,3293909.0714630377,378368361.36171496,19654338.114449568,16102024.2759922,395306.6421075966,3138045.0999426576,569825171.3369759,25159891.51570208,25999609.7587573,689170.0726864681,4017822.739373042,14607336.895731753,261299695.1891191,6103101.528770715,822585.95719087,2968399.9616244407,1919499665.8834748,184925417.6865461,96515615.43520354,858236.5498234634,3478541.524535387,3116583524.659765,335583369.656126,138925436.52727452,4788490.3633705,2199408.2280669413,4090057482.981205,647985607.5763036,184037245.74375987,3888988.236763457,4556893.133174548,1680190117.5830743,115223074.03158064,160931601.28167117,2339469.003658029,1346718.5876069884,4798646712.501943,857787315.6292762,231829246.92353857,5953397.434996936,5092899.253895952,1443176801.0606492,6918396493.778431,356068931.7441095,5523949.081350253,6808255.349929206,1864951565.928207,8113722339.447034,428453211.3120815,7655925.10855468,8868759.43463589,5266478797.142263,932602617.3169692,289799593.1571478,4980243.907969391,4973445.019544071,500024806542.6933,95507710275.50964,15431605247.390364,148088975.22896564,299484690.3236611,137873615624.72937,632747186972.1919,20417791249.02832,161987346.1868727,245905365.7791165,172924170171.63205,739870172148.0806,22729599211.247635,199208429.5113938,288999714.3604311,610448610667.7207,126423430586.42947,17225668601.948982,116203820.91131487,247541289.12967217,38824078062.32093,1333688182.5386746,1024996999.5279309,28599535.734409343,291464734.4043106,61831776093.09613,2140566974.705637,3413490288.313708,20145460.42764103,286804437.7358033,86340631422.24606,2649616529.830146,4177574379.0405855,18815964.761792127,126788281.9306988,58381285240.80835,1996804238.2749755,2308145849.844257,63338108.53755434,382864846.0767575,375559206.7727593,5295346761.45083,33999413.87739952,139827755.73655012,201025034.17960185,18695889187.89432,804061398.5166465,367608510.7261781,33276460.45213346,234968821.31206357,26224303882.80399,986310785.0093702,848968693.0665624,36199427.51318769,302214380.18458414,700649777.0602969,12141448845.07762,318571872.8216527,45332532.09643287,300128082.6160458,99873688132.9031,3680590624.9006095,5562692116.570807,23954789.407903705,115927863.46366584,153664683751.53278,6313780616.601829,13111735855.02769,81355476.16367023,157309412.49242482,208484557891.42865,23185594534.30522,6926960996.688756,100785736.00790764,207713978.0422388,116244368941.33606,5642294772.453551,6760404421.62296,54077813.2606806,105377680.17075576,242013312361.31104,30171144593.369877,8505455545.448764,112949858.25028671,170787342.8481179,331514102784.2631,53849745604.9643,11327303470.019917,130349071.61901988,241260025.54569885,423665098014.2792,81729122295.53772,13438634948.212645,173358268.82083318,365400541.9114517,319758683264.15344,43458914639.77138,11030849713.502428,116086345.91301712,215721223.2386405,25881919928.64284,5903944370.148529,1253753685.6124904,28915576.119299565,79330065.6359112,8056512904.560925,31280124357.943665,1538833023.807197,21281997.61037215,66802218.32606816,9463119176.828749,33017162449.59025,1738113554.2451303,26804683.92881795,70096050.90090424,8541811640.294408,35973490940.6326,1631580783.9159238,23857762.100494668,83549709.69216739,5414709531.836735,302663112.8884805,199219534.93760532,4593545.201922052,30649751.65627311,3499425217.958209,111964437.03321175,120736230.08884756,658515.8825482852,11446090.81965122,1799955855.971491,77859073.82317376,49065907.04578097,213741.2862032762,2601419.6959477984,5666318253.462076,215937468.94414756,188931529.4882364,2652961.353697454,26301988.31534837,78812610.35129012,861670157.9310012,10269382.6199755,30967525.63881024,23651562.715049967,3616022745.5645847,203079955.34644008,82826475.18797052,6397888.35462606,26373935.004048545,5151829745.262983,254473764.00233167,215771001.5429565,6072177.152358056,36573577.73688933,166762242.91718757,2372961687.553617,15636116.81386063,64454257.5252622,31391931.692946263,2654638582.08658,144213068.71202034,131144418.96503358,2116665.1182805505,5530441.652102945,10837119046.792652,443743222.500647,667957476.4350253,13281733.802213533,15128281.341935568,13736841259.979288,536741118.30199385,1045006123.4596368,17966592.697469097,44350708.93981466,7426818530.258213,413037418.32063264,403026357.7674071,10415041.341445928,12351591.57084975,14801220301.14875,663747765.6760966,1605408313.4781337,20848657.8594191,47124854.98932912,26562997915.198597,1126801385.010898,3818849262.990345,27585395.493344467,62209689.3389434,31444247707.630077,6026170895.591109,1334473410.4377313,34425387.51761782,86920024.59513804,19502438177.8094,892467613.5545956,2343370985.5822287,21897796.18705632,53580855.45836207,4798355631.574022,175942440.62210858,563650239.9471383,2503998.824974763,4499397.927512417,4568905305.863961,642368278.6360128,148324294.67210707,2345498.602500997,2457117.2762476145,5888068476.789,906834415.4525998,170028535.796474,1909585.0695077945,3125371.2064643847,4933041257.229492,640665988.1540827,162238616.41478142,1519503.219426635,2819984.002498104,20020458.0763888,411855878.2498224,8187940.322092213,101072.89773317604,1776362.866293525,33293527.93210053,601803135.4703114,13381591.199777838,229319.84921986383,2248897.2620018576,39720745.597670965,777298578.6127516,15460907.228900284,283291.7740842187,1773615.1353679793,21350211.07781426,487705354.4657045,8990954.079767609,129758.00259777348,1890404.5326202568,5361675.549623315,69830122.02063876,1170667.4151649117,299016.7345620737,1344409.3661360394,12664922.72411738,223964723.15160483,3631042.2777308393,125171.61850935029,1406883.1646908007,16615511.42043031,358926253.43094724,10500634.794542974,216127.40846239947,1754940.4912408509,9139467.703980098,140193107.69683594,2293935.490835924,153458.5231626137,1545608.465487119,53662023.32016543,821508819.5893908,17663339.36989499,215066.7834954,1730779.6714233835,91214897.18744522,1851638119.539822,62568884.13216571,2136903.0242114514,2090339.2711506595,2563827858.0487146,91929581.87730268,113115660.17405558,1017278.309874404,3194492.1527384534,85264116.11779374,1025000209.9574312,25214703.91023749,989239.9671938312,1206234.3951445608,2841021698.4844904,110095189.5931618,151202427.14605337,1929643.694251965,3201525.695241506,3536780176.7792263,141172028.23897478,304493279.8158357,1634878.888862805,3336484.2825483214,4335295237.9809065,154359432.07659015,442578210.0882374,2263055.5218537706,4587848.468888722,2847731457.571479,126962524.74536936,176831583.13676447,1785915.6371230448,2982482.691132756,171182113048.26318,814525435614.1678,35542881861.07577,243340851.71204624,556409604.9103613,230609701751.02283,961209376585.562,46000391408.24405,220271929.84233996,449514643.6055006,275194969877.524,1130380720682.5205,50609988781.94313,270658680.97924906,500361375.6905828,208238945148.44,905641041298.7231,38325678033.56471,175399371.37748802,452454748.2866859,55246071722.22856,3821181816.6204696,1664209334.5681162,36340412.57538466,373355289.5614773,97443950786.5758,6705923742.563935,7872719571.602099,37899900.33366185,407796030.8547787,140449134717.291,9028860435.054996,9721826538.354998,25014672.38444693,227573686.58499068,79466464089.34059,5709279550.854211,3435472167.201069,34134486.762421735,461962878.5071422,868358581.1737025,7547652852.662634,37125466.49571308,201212697.260594,271943533.1341365,21010614922.14291,2252031409.939968,445504998.0014268,30185982.18078412,302431358.9473551,33578327037.682457,2743591538.832072,1172254323.9731452,40412563.014562674,374501619.8364362,1511007056.105427,13341587602.422176,342809667.5935513,52145152.93902289,311536696.6979239,165468574323.88968,13643061482.35596,10961167179.81334,34466606.25327997,200968968.6958118,249006720239.33432,27714680562.343937,16650017440.553331,113675141.51464573,193212778.7117864,321280847680.95026,46142484518.08269,18123908525.97014,136058685.85299307,351480425.6482615,166176386876.30048,13014051935.53691,14354151782.39264,76662259.20544848,142020149.829893,408190388154.2274,61936457709.22308,20855464604.34405,162581466.93308985,347689722.9177618,575912799217.8965,105548321875.05884,28335516739.41771,190362135.86135095,524328574.2504093,151967969235.0213,718215327365.9165,32831163302.92643,263180819.6932125,656777820.7586894,467784146764.7472,69922875807.46701,23387103755.819717,186606893.61035597,422031947.60023904,98212381475.5724,415305045689.3095,22482865572.904938,271039329.10874933,693588769.393249,134292748569.06271,509428627035.3385,33177115465.46472,265479580.4156591,448676465.8346823,153114813286.24423,559069397370.8649,31954251758.09231,299454652.77800566,477098950.5964618,121657706565.01256,480685895058.7076,26876059610.02212,209425798.8201317,426563425.6544647,48250023720.99173,3996618719.79948,5521320539.356212,30997039.697555836,670171769.6522964,9857221391.94036,81904443496.29778,10406524192.884487,27952186.986432005,1000670778.347806,105858524152.38445,12864577363.070576,9500486080.98845,21512527.973989222,779367300.4732571,6816878922.844399,65953571241.26435,8035701902.391765,33985068.68378611,866678928.4439986,1320559612.770412,9125685134.894358,375393115.19131327,45588429.27157573,344277514.7923026,22670122888.868217,3261844270.537241,1048422633.7093576,45051151.35143036,350405916.1523186,32389252494.75772,2738429838.939273,3961160542.570066,58162003.43614492,575852739.0031943,2078183615.8006349,14348179103.109837,631597790.6002588,66584728.19594695,321754664.4984691,14470782771.054684,108987600006.3667,9498791147.929192,39908838.24852887,619460878.9909673,140074023548.15637,21858176583.0589,12883226305.336546,114341865.2645722,234194502.8442282,31106554562.7951,171546055992.1488,12921793576.576857,160007919.76894268,530676173.2537967,86227124454.10175,12708327043.868336,8699886044.040596,75405868.16164647,162694793.15869594,39861532639.01234,210823551741.40936,15447408658.778738,203106852.42387852,592745151.8683048,64006915630.53262,298005532606.47,20934734871.90896,220660990.2206633,690472449.1489255,88990516304.07437,376556972334.1598,22290161823.24864,287950130.24921745,569713470.6592032,42933366743.23575,223034955527.7532,15310096462.746449,190019761.497414,472659189.30861247,340240479374.36835,1274889182430.209,64507860103.55089,677612619.2786882,1084139453.7274752,432250721734.13074,1434565548650.9136,79360150487.36568,571583115.6687979,831183386.4681726,502660888415.46185,1622619308526.9614,83576414221.03232,699276779.1906543,914951674.4842072,428469294407.1603,1501201968773.8115,75110969246.16316,559321829.4503716,930827919.303539,97373087988.08871,8256500586.651282,5172594695.5318,49487746.20873056,569019903.8604956,165731686168.5575,17545729507.395977,15471698543.739595,54108447.39407451,814284077.8637518,27209874138.48756,227268054757.21695,17794666215.044445,49622863.824426055,672210824.9770112,130558153687.9542,12197234771.434273,9728561726.767143,45291636.10507481,765228265.7976472,2283567431.223535,18283896464.750908,576964070.7366859,60997258.060299724,506188032.9539564,4547486090.186737,45466534003.98048,1702220875.4343855,52348968.006728604,492227795.6386977,68974011019.10294,5860865070.470685,3985195742.2480154,77345546.53012432,621519669.4818641,3725800358.681482,30782831245.6586,1226121649.4989598,85545909.43528841,536758077.8463879,35200130304.82776,262541205695.8384,21603565070.4256,91363684.1276232,558931962.876125,351555554813.2122,60171102123.94888,27915727882.59293,333669599.61883616,331024593.0721529,103804638603.74612,485747881733.823,31556917821.77767,418399992.5395771,627692680.4078207,239933338682.6934,23112343247.416145,32859184582.219048,211733275.7829895,242917371.3033281,129493046208.15726,599213284361.7993,40057211827.15962,492900202.68315214,630909553.4508264,216701984638.9893,890860873379.5576,50242023586.056046,579098938.658318,873324624.1826177,305512280091.4157,1109862480618.223,58087950922.43887,707102765.3058928,1188658731.1175363,150864465217.02304,719859665693.5271,43154405548.44597,536780917.0359157,699738247.6695637,243841863780.6793,1375289566667.7056,50470450179.88254,394283511.9410973,642005688.7661512,447150646953.73706,2170173323588.53,87937210666.27194,442783619.09123904,621900924.4423015,491556008133.53546,2393380395296.852,92136759501.4202,498719426.0054372,680680558.3343163,307468406704.909,1580014085694.835,63136761649.3931,324857780.5553103,470432687.3850265,87361237975.49301,4144368545.535969,3619117615.485172,54547989.275453925,343989909.8750894,180342868388.36203,14308557740.55424,6793699069.387364,39617186.74048498,445278745.3818412,249346680995.9932,21510626607.08445,9561315124.602655,33453857.404595934,294688962.659046,141095702899.16147,8442740781.469844,5603477828.5489645,43627344.86329399,490894328.3915366,831912767.5937189,11748268950.760422,282899066.6137372,57011875.36233704,388111458.2121352,29253505738.828743,1568136060.627837,855534175.4794186,52554123.97376218,300363110.81379545,44541667501.74112,2165870863.16865,2356841304.9649296,64569231.23559249,380139546.938216,20748520742.57553,1274130053.834579,551696487.3185428,85498213.25384143,357356020.669816,327641798044.80554,31076431477.91269,12324266104.564993,59500639.38684589,241784101.54604855,437459188905.0534,49743225885.179474,18378477087.576897,223377023.50525156,156875854.55487928,591976601278.5154,81725950703.21272,22006183348.80398,275357720.01805824,366346176.4068248,279478553909.7438,26712043204.891266,15106945863.857046,134169906.74750492,100126467.191328,95927278280.53006,676276353116.8419,26447601338.53346,320153410.17969453,387877900.5044867,159227310549.39368,981754679241.0404,36434881136.01624,329138539.4612142,543116826.3422191,212974766412.0156,1204991223519.016,44760398983.30789,392141743.6705663,639658842.8998816,872151973637.885,123207789311.2962,31877277168.343227,300569264.1443888,420723415.9150567,1682328505.7254477,370091558.68373305,71300133.66101266,2869682.022951186,2440321.9820225406,693438186.296541,2514535154.56483,97748065.62714244,2166304.9779766416,2744060.670897343,906365300.658504,2961630584.8271317,110037119.66941178,3533987.230113048,3107412.043626394,510838980.9061847,2088309073.4552848,82232936.61795366,2089862.3927160464,2449496.7081265687,6611459.872972583,91808345.86839552,3266589.8469614363,116250.436718611,497094.6484417205,8171737.705916681,101079821.10344616,4428734.574846684,158857.94315586874,232624.75992853564,121493224.30754513,9538690.916424634,5247500.487902376,295937.2110898865,263177.5944158883,7242448.256212333,107525358.66652842,4702152.616619372,113278.91371326068,671471.222589792,1845307.467365509,12138655.299749982,452507.168646613,10601.419933464951,184689.8662902223,4343504.868377829,49270781.54163504,1627359.8394868043,1481.4907042806483,314343.39410715323,5450549.512294375,81001456.97825177,3552027.735492656,76035.7877393286,468266.0606770435,2320944.731074479,24511925.231047668,1024491.0133579008,121336.0270987509,359838.50537474576,142332401.79234773,10850414.023977457,7752871.558217709,208231.7307165264,332393.19201521645,24756220.875469357,289078946.7312394,22682992.238478824,961836.7129860274,539449.7721868362,533316526.1814983,33710030.534383245,56867468.940003954,1880546.967237064,1508083.6917299272,17659622.73418829,141728757.73517442,9236375.740471344,706932.1397115812,313313.0646014327,665391395.715478,37160922.86506996,78606979.05751458,1469351.0852598653,1077918.666433228,1077787837.1562996,51243450.85925055,176991328.21761328,2351013.441729573,1650766.1267105162,1544932663.2744582,322842314.62433755,59243518.11464358,3137965.167474068,2453640.142743944,748382044.7707307,43691961.26275121,103707408.50908464,2038521.5136710336,1327080.0560584562,5558905677.966259,19473276901.331963,1429960686.7669475,24442138.15399971,31862035.713640407,8511266152.669347,27039659316.46813,1780405740.3941154,22686931.870640453,26764547.138168834,10280295883.656351,29629346091.97736,1810538524.3215196,31775337.436365627,27387394.982090995,7697399368.089639,24407668318.014194,1553155243.3951051,20627276.079190243,30257752.66416522,3066233587.9236507,209521987.03977025,86624660.3112043,1424229.9989233727,17676977.717503674,327570066.9967147,5039276845.295213,182746198.16430056,1775673.9713265826,20649996.69578039,6533855301.069828,402619114.9942856,314965060.6352696,1769641.9665086274,17954418.582290154,4428007670.958708,279864579.97562265,141088575.8726466,1453651.5352588107,25469495.268363245,49871175.82607427,546222027.4835303,13851230.83495245,2040522.724771278,16752849.503009535,108456077.51862916,1596570994.985427,31168155.22193054,1552275.053774729,16293930.078267336,143031082.4432017,2367228879.4462624,87575811.80014335,2283052.790977265,21180141.658664487,83714322.414042,1043702964.1513072,31961300.882765952,4108919.3075577794,19681794.59544668,542356756.9678606,6431826925.118802,427497010.1043983,3172303.6900622216,14613755.241563875,834567922.2742614,8806586536.659174,851539467.337558,11391079.288736572,11969008.527252048,936305777.7250878,11426268857.229635,1589433440.2684095,15534252.217986545,21510781.37178286,802231470.1628922,6738488218.640328,479165630.6102103,7359757.737539303,9659685.392965626,11358078843.572702,948929031.6443392,1778219850.8347864,16554205.504427344,18764977.931273177,16560383923.204865,3524434949.634083,1178802736.5280356,22805774.600357123,23834687.16069793,5228613146.743451,19568394324.584805,1278824361.837138,24809740.714031786,35578926.74639452,13035543546.66397,1045789841.916208,2378084375.199477,16428390.62373627,19788385.405835297,35404682302.81973,153327336656.7779,5765898871.819412,72095750.37612481,130193505.37404194,45850919744.1592,176549466282.04382,6838978157.223744,69016067.83164982,104503812.69942512,57173653531.6919,212953650396.96683,7625380765.371119,89276259.66683595,129776494.88471408,44149892984.34711,175208899196.82,6119623547.3009,53281830.624962,104530269.04482636,12664709652.347084,440323945.0577217,391616776.11217976,47227410.81132864,83358664.9497917,19050145624.077984,1494546030.8330803,754845093.6112013,80276391.6477037,86160853.1891717,25360155657.218044,966539484.5717084,1725990595.6016066,45850806.127185926,49211833.15857271,17044444613.808352,562210324.8161657,862186711.5217196,51588987.16245511,102270668.23762833,132181815.28422524,2036315435.6551185,45483178.10492583,66465337.511485815,93740623.36363094,8142915751.203348,256930062.20347697,155059935.04035243,38182603.57787939,68483065.67956133,9414019816.80093,328077093.4784577,373435992.4816617,36357465.52244099,90026272.83887212,208894647.78855115,4205862516.777491,65554548.24621317,138889079.16124776,102374867.08935028,29875044416.372463,1358517296.9653778,2298726414.666834,31523887.510064334,47420137.7540625,43128110246.27049,5163578368.000801,2217657034.9022017,63233533.18627854,50036637.653871216,60733288288.10599,9347677563.842457,2582828438.736846,63947540.001266286,77432999.35699823,32662370316.521744,1987320466.8540504,2662438204.255661,130249402.00867195,43823586.28346999,69198235576.72797,11545580927.24733,2888409672.132301,54836609.32711602,62290337.70487929,97742557031.75545,19954619973.19194,4029136911.757236,65035270.30823113,99665931.8402131,30397134744.16734,130461675107.99458,4920513757.583611,82938673.40787342,154856720.55251962,86037113965.37598,14731458451.37311,3531023352.488878,57959229.95440879,75088312.26558907,62565728158.2885,263547240999.68335,14765350795.96568,146586164.62792295,279136534.21161634,87063736519.87311,319374569105.9015,21247984018.68209,144937203.2864578,223267730.28330007,102918159834.12416,364514204185.1917,22666085169.84729,152488074.9943577,239722615.94605047,76926347115.76375,300504797205.2718,17457331653.445232,120610061.5284536,224949213.49711916,30283578836.61907,2202061874.536176,1292375556.3150868,15201736.002431491,258437718.15887585,43738290119.9285,3615636827.8118167,4817098564.823641,16715100.880217994,301378585.9978597,58242027266.14443,5253780278.236426,5637358525.756194,13756049.144287623,212797749.81994924,37056084813.57578,2838724048.0896106,2292901816.1432047,12080285.227121718,301748850.1804938,535578755.0794512,5814807510.68666,173513595.3537558,27501068.01412632,242110585.52640373,14429454356.345787,1310467515.0605886,427387637.9335371,17323790.814170156,190505707.4736181,22416919746.93868,1671040703.7317612,1013407379.8963096,22252543.62175617,267255642.26742023,984897276.651981,9745924809.851494,334118261.45344114,38145882.44180386,217328211.71769944,68367245528.07149,7075196609.224878,6331682016.516322,25266730.1883267,176823674.24305555,88796356487.11024,12141560866.982178,8452802892.504496,80854296.9304013,96375902.20346308,21382305452.06797,128613933346.85509,9675471300.731651,103265693.75364488,223528573.1334415,66645492690.67839,6547618491.532405,7393393677.758501,49209527.29146181,75550536.67993587,23389100227.155342,135970636784.61836,9260346909.440674,99672809.99228218,218544351.22172093,40190922826.60629,188548678300.5247,11681457468.964512,116592181.4699728,289441481.64370304,56325102920.50671,238638993818.09595,13817258646.066364,151421306.61683068,307822609.17479354,29119078263.957985,161073685336.6668,9839496894.971409,97238136.09517692,227855606.99266592,1685241980.664183,279354508.988595,56203999.28920926,2023327.6779848372,2217102.222236882,2955729492.4985514,551472983.879604,94288872.34747364,1815866.8961950848,1892134.752080473,2350047971.603546,462189599.28430265,79767790.98577228,1198715.2123450316,1273495.592982805,2941624382.277109,508439376.68091977,88531677.99442025,2487560.1853386,2235180.858482568,139715922.1887053,7186109.182288248,4967122.499940028,111851.02856430916,878916.0496292994,303596367.67958534,18054746.12144833,8096082.971229901,148633.29469977494,1233697.1268589406,298044908.5075786,16510212.100753112,8717893.899929387,162760.63254625077,1253584.887304229,240305709.92824295,10116773.366134496,7726519.367758205,113767.09768193656,992737.2376073576,927250.7143707818,10767803.999610368,369327.6255524192,274283.17576680594,194192.25581440225,4676712.344045115,77085890.57395566,2016579.2506718007,69317.12287872119,242477.8532947429,5701932.895454288,123611779.5893042,5082666.820758243,94604.73391846984,1031858.4532022324,2417434.2729015187,42638443.11997231,1761366.2964342083,127324.6279709443,390334.220462498,339551900.3873952,23010664.72023286,13338124.27189282,583108.9455483773,1155879.120674257,751333715.2896031,40380074.55014179,40538778.75651745,2334917.7832646337,900013.678666259,985814864.3429124,44185250.8636451,77511378.30739444,1965054.5898611392,2486922.4041473325,32087339.266190995,470749365.0981605,19679330.186414924,786069.1630768818,490894.93818109273,869999786.1513934,35459532.4121063,74977913.47237433,1455016.148284281,1527565.0627209258,1917311078.1287265,233260756.5088715,58750081.8151172,1911625.5446910744,2751201.9371823343,1804428550.1884875,284786365.9296017,58403893.47253243,3068708.947120995,2847620.2425241945,1259044412.4358735,44754721.82815341,119608470.0411553,1756762.1471181023,2094729.0180191216,3650961081.00263,570784579.6670712,139135962.10369253,3062332.163804472,3487320.9262269526,4173703593.656705,830361400.9603965,153567926.32171312,2851319.5479129557,2396303.4047308518,5175155338.821596,1096220774.255463,181281682.32208145,2701971.788609252,3025622.2320622765,4596501308.195931,847497607.0893551,162174479.6973383,1861284.7969863976,3070990.527526753,422987999.8947268,20711589.874598008,11837344.846847566,191594.23340424805,2265105.53451732,794235862.6317357,52337322.5262961,33922224.892257094,548142.8999844441,3672895.4901549695,1086457147.940953,42705664.08625737,43954548.804204434,494076.3450829056,2898164.4797200123,674044301.8399961,32535297.489453897,28248001.02647286,310197.54774877685,3756445.53226958,4823943.542263939,56334584.632872,1677583.1440411464,86906.81958101383,1727920.8016103164,12221506.18938216,215547415.4557628,5322296.747954514,261766.8021705601,1727241.758047811,16713780.628117371,351253329.74205655,12637809.239460424,596472.7145790398,1939965.754040409,9465769.856051585,127051984.3879841,4713227.148135973,218130.12995975127,2243974.0076642134,954765350.1856782,53588505.83882397,43201695.38937264,175569.53933206247,1745150.991195219,83894642.6709112,1255521152.966514,58337178.67223759,1795366.733436462,1378387.6172995246,1711730126.584541,90168624.0541554,112478003.86391155,2361187.592392395,2537863.027923054,78397187.10935993,939900165.9422412,34385184.65717751,999656.0722047671,936594.480283038,1965492629.578867,93174110.112334,154183320.1372872,3027799.2784099854,1789867.7338266163,2582075089.383399,111613776.75942025,290732930.46291006,2624558.3857180667,2290508.8169457563,3548508409.656125,136473754.40071422,504586163.5569785,3162023.721020665,4052910.300969372,2125758496.616091,103846501.52404109,190473176.21848944,2851874.287465013,1969531.0292125773,1227972829.6970267,4674787017.541661,326296370.82357025,2661345.5534556974,5330803.646676767,1705567002.058647,5382949597.510585,425206924.5270094,3194409.939898855,3729425.46329771,1889046056.1988356,5737539058.403507,426040023.1105018,3169199.262533775,3846409.1057498823,1536859131.3374815,5078832140.606572,372921225.4254243,2131607.722602901,4415675.718757721,757657638.3173952,62660761.88806932,17043867.88608146,221064.6189234741,5786443.339431095,104597035.07984878,821178569.0593253,30634658.237494454,425044.051413688,4636167.420289769,125809568.35055912,1051976410.5472054,45361559.23824883,267762.49056630814,3225961.384460643,734034142.8087387,63874445.55241879,20816136.241969176,155149.75618074698,5561402.205763446,17526369.5804541,151966933.24607396,1580762.779739072,353171.5523814913,4231146.95056825,39790820.29359456,396698085.4104552,5693604.7441260815,297647.8958984856,5159437.334100959,582082154.4115133,49972030.11285484,19577328.03937304,371674.6991335743,6747429.538011953,30595592.0076824,261995613.05482048,4685536.036433555,383806.08546730166,4410224.471747881,153340696.30393675,1119439489.5005136,66713356.79814301,418783.1260904173,2851043.563834071,201223380.1868608,1401020928.2319157,143497844.49072367,1778864.0123306382,2268098.077531771,2153786522.547576,316510115.80515665,224246669.7783347,1683959.5099964456,4283833.187441602,178877986.7248658,1052118443.3664525,68938500.71228051,993268.2971840606,1448254.787275234,2379220756.2230163,367522132.380636,213177144.73200977,1930008.9716834244,3782868.886159251,706774071.9381688,3339347400.0643554,253199754.8745275,2252116.636459231,4365759.277996017,1058989463.1650428,4202291071.710613,294991582.16815025,3159306.417511825,6407962.869342193,2512913026.4279447,430487473.930562,208762964.0120024,1763792.650641936,3741204.3977531465],\"type\":\"choropleth\"}],                        {\"template\":{\"data\":{\"candlestick\":[{\"decreasing\":{\"line\":{\"color\":\"#000033\"}},\"increasing\":{\"line\":{\"color\":\"#000032\"}},\"type\":\"candlestick\"}],\"contourcarpet\":[{\"colorscale\":[[0.0,\"#000011\"],[0.1111111111111111,\"#000012\"],[0.2222222222222222,\"#000013\"],[0.3333333333333333,\"#000014\"],[0.4444444444444444,\"#000015\"],[0.5555555555555556,\"#000016\"],[0.6666666666666666,\"#000017\"],[0.7777777777777778,\"#000018\"],[0.8888888888888888,\"#000019\"],[1.0,\"#000020\"]],\"type\":\"contourcarpet\"}],\"contour\":[{\"colorscale\":[[0.0,\"#000011\"],[0.1111111111111111,\"#000012\"],[0.2222222222222222,\"#000013\"],[0.3333333333333333,\"#000014\"],[0.4444444444444444,\"#000015\"],[0.5555555555555556,\"#000016\"],[0.6666666666666666,\"#000017\"],[0.7777777777777778,\"#000018\"],[0.8888888888888888,\"#000019\"],[1.0,\"#000020\"]],\"type\":\"contour\"}],\"heatmap\":[{\"colorscale\":[[0.0,\"#000011\"],[0.1111111111111111,\"#000012\"],[0.2222222222222222,\"#000013\"],[0.3333333333333333,\"#000014\"],[0.4444444444444444,\"#000015\"],[0.5555555555555556,\"#000016\"],[0.6666666666666666,\"#000017\"],[0.7777777777777778,\"#000018\"],[0.8888888888888888,\"#000019\"],[1.0,\"#000020\"]],\"type\":\"heatmap\"}],\"histogram2d\":[{\"colorscale\":[[0.0,\"#000011\"],[0.1111111111111111,\"#000012\"],[0.2222222222222222,\"#000013\"],[0.3333333333333333,\"#000014\"],[0.4444444444444444,\"#000015\"],[0.5555555555555556,\"#000016\"],[0.6666666666666666,\"#000017\"],[0.7777777777777778,\"#000018\"],[0.8888888888888888,\"#000019\"],[1.0,\"#000020\"]],\"type\":\"histogram2d\"}],\"icicle\":[{\"textfont\":{\"color\":\"white\"},\"type\":\"icicle\"}],\"sankey\":[{\"textfont\":{\"color\":\"#000036\"},\"type\":\"sankey\"}],\"scatter\":[{\"marker\":{\"line\":{\"width\":0}},\"type\":\"scatter\"}],\"table\":[{\"cells\":{\"fill\":{\"color\":\"#000038\"},\"font\":{\"color\":\"#000037\"},\"line\":{\"color\":\"#000039\"}},\"header\":{\"fill\":{\"color\":\"#000040\"},\"font\":{\"color\":\"#000036\"},\"line\":{\"color\":\"#000039\"}},\"type\":\"table\"}],\"waterfall\":[{\"connector\":{\"line\":{\"color\":\"#000036\",\"width\":2}},\"decreasing\":{\"marker\":{\"color\":\"#000033\"}},\"increasing\":{\"marker\":{\"color\":\"#000032\"}},\"totals\":{\"marker\":{\"color\":\"#000034\"}},\"type\":\"waterfall\"}]},\"layout\":{\"coloraxis\":{\"colorscale\":[[0.0,\"#000011\"],[0.1111111111111111,\"#000012\"],[0.2222222222222222,\"#000013\"],[0.3333333333333333,\"#000014\"],[0.4444444444444444,\"#000015\"],[0.5555555555555556,\"#000016\"],[0.6666666666666666,\"#000017\"],[0.7777777777777778,\"#000018\"],[0.8888888888888888,\"#000019\"],[1.0,\"#000020\"]]},\"colorscale\":{\"diverging\":[[0.0,\"#000021\"],[0.1,\"#000022\"],[0.2,\"#000023\"],[0.3,\"#000024\"],[0.4,\"#000025\"],[0.5,\"#000026\"],[0.6,\"#000027\"],[0.7,\"#000028\"],[0.8,\"#000029\"],[0.9,\"#000030\"],[1.0,\"#000031\"]],\"sequential\":[[0.0,\"#000011\"],[0.1111111111111111,\"#000012\"],[0.2222222222222222,\"#000013\"],[0.3333333333333333,\"#000014\"],[0.4444444444444444,\"#000015\"],[0.5555555555555556,\"#000016\"],[0.6666666666666666,\"#000017\"],[0.7777777777777778,\"#000018\"],[0.8888888888888888,\"#000019\"],[1.0,\"#000020\"]],\"sequentialminus\":[[0.0,\"#000011\"],[0.1111111111111111,\"#000012\"],[0.2222222222222222,\"#000013\"],[0.3333333333333333,\"#000014\"],[0.4444444444444444,\"#000015\"],[0.5555555555555556,\"#000016\"],[0.6666666666666666,\"#000017\"],[0.7777777777777778,\"#000018\"],[0.8888888888888888,\"#000019\"],[1.0,\"#000020\"]]},\"colorway\":[\"#000001\",\"#000002\",\"#000003\",\"#000004\",\"#000005\",\"#000006\",\"#000007\",\"#000008\",\"#000009\",\"#000010\"]}},\"geo\":{\"domain\":{\"x\":[0.0,1.0],\"y\":[0.0,1.0]},\"center\":{},\"fitbounds\":\"locations\",\"visible\":false},\"coloraxis\":{\"colorbar\":{\"title\":{\"text\":\"Transaction_amount\"}},\"colorscale\":[[0.0,\"rgb(255,245,240)\"],[0.125,\"rgb(254,224,210)\"],[0.25,\"rgb(252,187,161)\"],[0.375,\"rgb(252,146,114)\"],[0.5,\"rgb(251,106,74)\"],[0.625,\"rgb(239,59,44)\"],[0.75,\"rgb(203,24,29)\"],[0.875,\"rgb(165,15,21)\"],[1.0,\"rgb(103,0,13)\"]]},\"legend\":{\"tracegroupgap\":0},\"margin\":{\"t\":60}},                        {\"responsive\": true}                    ).then(function(){\n",
              "                            \n",
              "var gd = document.getElementById('71e0e384-25c8-4fe2-928e-7b8320500b5a');\n",
              "var x = new MutationObserver(function (mutations, observer) {{\n",
              "        var display = window.getComputedStyle(gd).display;\n",
              "        if (!display || display === 'none') {{\n",
              "            console.log([gd, 'removed!']);\n",
              "            Plotly.purge(gd);\n",
              "            observer.disconnect();\n",
              "        }}\n",
              "}});\n",
              "\n",
              "// Listen for the removal of the full notebook cells\n",
              "var notebookContainer = gd.closest('#notebook-container');\n",
              "if (notebookContainer) {{\n",
              "    x.observe(notebookContainer, {childList: true});\n",
              "}}\n",
              "\n",
              "// Listen for the clearing of the current output cell\n",
              "var outputEl = gd.closest('.output');\n",
              "if (outputEl) {{\n",
              "    x.observe(outputEl, {childList: true});\n",
              "}}\n",
              "\n",
              "                        })                };                            </script>        </div>\n",
              "</body>\n",
              "</html>"
            ]
          },
          "metadata": {}
        }
      ]
    },
    {
      "cell_type": "code",
      "source": [
        "import pandas as pd\n",
        "import plotly.graph_objects as go\n",
        "\n",
        "df = pd.read_csv(\"https://gist.githubusercontent.com/jbrobst/56c13bbbf9d97d187fea01ca62ea5112/raw/e388c4cae20aa53cb5090210a42ebb9b765c0a36/active_cases_2020-07-17_0800.csv\")\n",
        "\n",
        "fig = go.Figure(data=go.Choropleth(\n",
        "    geojson=\"https://gist.githubusercontent.com/jbrobst/56c13bbbf9d97d187fea01ca62ea5112/raw/e388c4cae20aa53cb5090210a42ebb9b765c0a36/india_states.geojson\",\n",
        "    featureidkey='properties.ST_NM',\n",
        "    locationmode='geojson-id',\n",
        "    locations=df['state'],\n",
        "    z=df['active cases'],\n",
        "\n",
        "    autocolorscale=False,\n",
        "    colorscale='Reds',\n",
        "    marker_line_color='peachpuff',\n",
        "\n",
        "    colorbar=dict(\n",
        "        title={'text': \"Active Cases\"},\n",
        "\n",
        "        thickness=15,\n",
        "        len=0.35,\n",
        "        bgcolor='rgba(255,255,255,0.6)',\n",
        "\n",
        "        tick0=0,\n",
        "        dtick=20000,\n",
        "\n",
        "        xanchor='left',\n",
        "        x=0.01,\n",
        "        yanchor='bottom',\n",
        "        y=0.05\n",
        "    )\n",
        "))\n",
        "\n",
        "fig.update_geos(\n",
        "    visible=False,\n",
        "    projection=dict(\n",
        "        type='conic conformal',\n",
        "        parallels=[12.472944444, 35.172805555556],\n",
        "        rotation={'lat': 24, 'lon': 80}\n",
        "    ),\n",
        "    lonaxis={'range': [68, 98]},\n",
        "    lataxis={'range': [6, 38]}\n",
        ")\n",
        "\n",
        "fig.update_layout(\n",
        "    title=dict(\n",
        "        text=\"Active COVID-19 Cases in India by State as of July 17, 2020\",\n",
        "        xanchor='center',\n",
        "        x=0.5,\n",
        "        yref='paper',\n",
        "        yanchor='bottom',\n",
        "        y=1,\n",
        "        pad={'b': 10}\n",
        "    ),\n",
        "    margin={'r': 0, 't': 30, 'l': 0, 'b': 0},\n",
        "    height=550,\n",
        "    width=550\n",
        ")\n",
        "\n",
        "fig.show()"
      ],
      "metadata": {
        "colab": {
          "base_uri": "https://localhost:8080/",
          "height": 567
        },
        "id": "ULARrowiidtf",
        "outputId": "224d16fe-a6cc-4bdf-86f9-b0857f780a74"
      },
      "execution_count": null,
      "outputs": [
        {
          "output_type": "display_data",
          "data": {
            "text/html": [
              "<html>\n",
              "<head><meta charset=\"utf-8\" /></head>\n",
              "<body>\n",
              "    <div>            <script src=\"https://cdnjs.cloudflare.com/ajax/libs/mathjax/2.7.5/MathJax.js?config=TeX-AMS-MML_SVG\"></script><script type=\"text/javascript\">if (window.MathJax) {MathJax.Hub.Config({SVG: {font: \"STIX-Web\"}});}</script>                <script type=\"text/javascript\">window.PlotlyConfig = {MathJaxConfig: 'local'};</script>\n",
              "        <script src=\"https://cdn.plot.ly/plotly-2.8.3.min.js\"></script>                <div id=\"0079f25c-c543-4be2-a871-065b7e1084f8\" class=\"plotly-graph-div\" style=\"height:550px; width:550px;\"></div>            <script type=\"text/javascript\">                                    window.PLOTLYENV=window.PLOTLYENV || {};                                    if (document.getElementById(\"0079f25c-c543-4be2-a871-065b7e1084f8\")) {                    Plotly.newPlot(                        \"0079f25c-c543-4be2-a871-065b7e1084f8\",                        [{\"autocolorscale\":false,\"colorbar\":{\"bgcolor\":\"rgba(255,255,255,0.6)\",\"dtick\":20000,\"len\":0.35,\"thickness\":15,\"tick0\":0,\"title\":{\"text\":\"Active Cases\"},\"x\":0.01,\"xanchor\":\"left\",\"y\":0.05,\"yanchor\":\"bottom\"},\"colorscale\":[[0.0,\"rgb(255,245,240)\"],[0.125,\"rgb(254,224,210)\"],[0.25,\"rgb(252,187,161)\"],[0.375,\"rgb(252,146,114)\"],[0.5,\"rgb(251,106,74)\"],[0.625,\"rgb(239,59,44)\"],[0.75,\"rgb(203,24,29)\"],[0.875,\"rgb(165,15,21)\"],[1.0,\"rgb(103,0,13)\"]],\"featureidkey\":\"properties.ST_NM\",\"geojson\":\"https://gist.githubusercontent.com/jbrobst/56c13bbbf9d97d187fea01ca62ea5112/raw/e388c4cae20aa53cb5090210a42ebb9b765c0a36/india_states.geojson\",\"locationmode\":\"geojson-id\",\"locations\":[\"Andaman & Nicobar\",\"Andhra Pradesh\",\"Arunachal Pradesh\",\"Assam\",\"Bihar\",\"Chandigarh\",\"Chhattisgarh\",\"Dadra and Nagar Haveli and Daman and Diu\",\"Delhi\",\"Goa\",\"Gujarat\",\"Haryana\",\"Himachal Pradesh\",\"Jammu & Kashmir\",\"Jharkhand\",\"Karnataka\",\"Kerala\",\"Ladakh\",\"Madhya Pradesh\",\"Maharashtra\",\"Manipur\",\"Meghalaya\",\"Mizoram\",\"Nagaland\",\"Odisha\",\"Puducherry\",\"Punjab\",\"Rajasthan\",\"Sikkim\",\"Tamil Nadu\",\"Telangana\",\"Tripura\",\"Uttarakhand\",\"Uttar Pradesh\",\"West Bengal\"],\"marker\":{\"line\":{\"color\":\"peachpuff\"}},\"z\":[47,18159,387,6818,7549,164,1260,179,17407,1272,11289,5495,382,5488,2069,30661,5376,176,5562,114947,635,309,112,525,4436,774,2587,6666,155,46717,13327,676,937,15720,13679],\"type\":\"choropleth\"}],                        {\"template\":{\"data\":{\"candlestick\":[{\"decreasing\":{\"line\":{\"color\":\"#000033\"}},\"increasing\":{\"line\":{\"color\":\"#000032\"}},\"type\":\"candlestick\"}],\"contourcarpet\":[{\"colorscale\":[[0.0,\"#000011\"],[0.1111111111111111,\"#000012\"],[0.2222222222222222,\"#000013\"],[0.3333333333333333,\"#000014\"],[0.4444444444444444,\"#000015\"],[0.5555555555555556,\"#000016\"],[0.6666666666666666,\"#000017\"],[0.7777777777777778,\"#000018\"],[0.8888888888888888,\"#000019\"],[1.0,\"#000020\"]],\"type\":\"contourcarpet\"}],\"contour\":[{\"colorscale\":[[0.0,\"#000011\"],[0.1111111111111111,\"#000012\"],[0.2222222222222222,\"#000013\"],[0.3333333333333333,\"#000014\"],[0.4444444444444444,\"#000015\"],[0.5555555555555556,\"#000016\"],[0.6666666666666666,\"#000017\"],[0.7777777777777778,\"#000018\"],[0.8888888888888888,\"#000019\"],[1.0,\"#000020\"]],\"type\":\"contour\"}],\"heatmap\":[{\"colorscale\":[[0.0,\"#000011\"],[0.1111111111111111,\"#000012\"],[0.2222222222222222,\"#000013\"],[0.3333333333333333,\"#000014\"],[0.4444444444444444,\"#000015\"],[0.5555555555555556,\"#000016\"],[0.6666666666666666,\"#000017\"],[0.7777777777777778,\"#000018\"],[0.8888888888888888,\"#000019\"],[1.0,\"#000020\"]],\"type\":\"heatmap\"}],\"histogram2d\":[{\"colorscale\":[[0.0,\"#000011\"],[0.1111111111111111,\"#000012\"],[0.2222222222222222,\"#000013\"],[0.3333333333333333,\"#000014\"],[0.4444444444444444,\"#000015\"],[0.5555555555555556,\"#000016\"],[0.6666666666666666,\"#000017\"],[0.7777777777777778,\"#000018\"],[0.8888888888888888,\"#000019\"],[1.0,\"#000020\"]],\"type\":\"histogram2d\"}],\"icicle\":[{\"textfont\":{\"color\":\"white\"},\"type\":\"icicle\"}],\"sankey\":[{\"textfont\":{\"color\":\"#000036\"},\"type\":\"sankey\"}],\"scatter\":[{\"marker\":{\"line\":{\"width\":0}},\"type\":\"scatter\"}],\"table\":[{\"cells\":{\"fill\":{\"color\":\"#000038\"},\"font\":{\"color\":\"#000037\"},\"line\":{\"color\":\"#000039\"}},\"header\":{\"fill\":{\"color\":\"#000040\"},\"font\":{\"color\":\"#000036\"},\"line\":{\"color\":\"#000039\"}},\"type\":\"table\"}],\"waterfall\":[{\"connector\":{\"line\":{\"color\":\"#000036\",\"width\":2}},\"decreasing\":{\"marker\":{\"color\":\"#000033\"}},\"increasing\":{\"marker\":{\"color\":\"#000032\"}},\"totals\":{\"marker\":{\"color\":\"#000034\"}},\"type\":\"waterfall\"}]},\"layout\":{\"coloraxis\":{\"colorscale\":[[0.0,\"#000011\"],[0.1111111111111111,\"#000012\"],[0.2222222222222222,\"#000013\"],[0.3333333333333333,\"#000014\"],[0.4444444444444444,\"#000015\"],[0.5555555555555556,\"#000016\"],[0.6666666666666666,\"#000017\"],[0.7777777777777778,\"#000018\"],[0.8888888888888888,\"#000019\"],[1.0,\"#000020\"]]},\"colorscale\":{\"diverging\":[[0.0,\"#000021\"],[0.1,\"#000022\"],[0.2,\"#000023\"],[0.3,\"#000024\"],[0.4,\"#000025\"],[0.5,\"#000026\"],[0.6,\"#000027\"],[0.7,\"#000028\"],[0.8,\"#000029\"],[0.9,\"#000030\"],[1.0,\"#000031\"]],\"sequential\":[[0.0,\"#000011\"],[0.1111111111111111,\"#000012\"],[0.2222222222222222,\"#000013\"],[0.3333333333333333,\"#000014\"],[0.4444444444444444,\"#000015\"],[0.5555555555555556,\"#000016\"],[0.6666666666666666,\"#000017\"],[0.7777777777777778,\"#000018\"],[0.8888888888888888,\"#000019\"],[1.0,\"#000020\"]],\"sequentialminus\":[[0.0,\"#000011\"],[0.1111111111111111,\"#000012\"],[0.2222222222222222,\"#000013\"],[0.3333333333333333,\"#000014\"],[0.4444444444444444,\"#000015\"],[0.5555555555555556,\"#000016\"],[0.6666666666666666,\"#000017\"],[0.7777777777777778,\"#000018\"],[0.8888888888888888,\"#000019\"],[1.0,\"#000020\"]]},\"colorway\":[\"#000001\",\"#000002\",\"#000003\",\"#000004\",\"#000005\",\"#000006\",\"#000007\",\"#000008\",\"#000009\",\"#000010\"]}},\"geo\":{\"projection\":{\"rotation\":{\"lat\":24,\"lon\":80},\"type\":\"conic conformal\",\"parallels\":[12.472944444,35.172805555556]},\"lonaxis\":{\"range\":[68,98]},\"lataxis\":{\"range\":[6,38]},\"visible\":false},\"title\":{\"pad\":{\"b\":10},\"text\":\"Active COVID-19 Cases in India by State as of July 17, 2020\",\"xanchor\":\"center\",\"x\":0.5,\"yref\":\"paper\",\"yanchor\":\"bottom\",\"y\":1},\"margin\":{\"r\":0,\"t\":30,\"l\":0,\"b\":0},\"height\":550,\"width\":550},                        {\"responsive\": true}                    ).then(function(){\n",
              "                            \n",
              "var gd = document.getElementById('0079f25c-c543-4be2-a871-065b7e1084f8');\n",
              "var x = new MutationObserver(function (mutations, observer) {{\n",
              "        var display = window.getComputedStyle(gd).display;\n",
              "        if (!display || display === 'none') {{\n",
              "            console.log([gd, 'removed!']);\n",
              "            Plotly.purge(gd);\n",
              "            observer.disconnect();\n",
              "        }}\n",
              "}});\n",
              "\n",
              "// Listen for the removal of the full notebook cells\n",
              "var notebookContainer = gd.closest('#notebook-container');\n",
              "if (notebookContainer) {{\n",
              "    x.observe(notebookContainer, {childList: true});\n",
              "}}\n",
              "\n",
              "// Listen for the clearing of the current output cell\n",
              "var outputEl = gd.closest('.output');\n",
              "if (outputEl) {{\n",
              "    x.observe(outputEl, {childList: true});\n",
              "}}\n",
              "\n",
              "                        })                };                            </script>        </div>\n",
              "</body>\n",
              "</html>"
            ]
          },
          "metadata": {}
        }
      ]
    },
    {
      "cell_type": "code",
      "source": [],
      "metadata": {
        "id": "rlXOLfdbi3JA"
      },
      "execution_count": null,
      "outputs": []
    }
  ]
}